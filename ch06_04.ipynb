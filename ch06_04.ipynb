{
 "cells": [
  {
   "cell_type": "markdown",
   "metadata": {},
   "source": [
    "# 用卷积神经网络处理序列"
   ]
  },
  {
   "cell_type": "code",
   "execution_count": 1,
   "metadata": {
    "ExecuteTime": {
     "end_time": "2019-07-22T12:53:04.130052Z",
     "start_time": "2019-07-22T12:53:03.702174Z"
    },
    "collapsed": true
   },
   "outputs": [],
   "source": [
    "from function import *"
   ]
  },
  {
   "cell_type": "markdown",
   "metadata": {},
   "source": [
    "## 实现一维卷积神经网络"
   ]
  },
  {
   "cell_type": "code",
   "execution_count": 2,
   "metadata": {
    "ExecuteTime": {
     "end_time": "2019-07-22T12:53:12.553521Z",
     "start_time": "2019-07-22T12:53:04.144974Z"
    }
   },
   "outputs": [
    {
     "name": "stderr",
     "output_type": "stream",
     "text": [
      "Using TensorFlow backend.\n"
     ]
    },
    {
     "name": "stdout",
     "output_type": "stream",
     "text": [
      "Loading data...\n",
      "25000 train sequences\n",
      "25000 test sequences\n",
      "Pad sequences (sample x time)\n",
      "x_train shape: (25000, 500)\n",
      "x_test shape: (25000, 500)\n"
     ]
    }
   ],
   "source": [
    "# 准备IMDB数据\n",
    "from keras.datasets import imdb\n",
    "from keras.preprocessing import sequence\n",
    "\n",
    "max_features = 10000\n",
    "maxlen = 500\n",
    "print(\"Loading data...\")\n",
    "(x_train,y_train),(x_test,y_test) = imdb.load_data(num_words = max_features)\n",
    "print(len(x_train),'train sequences')\n",
    "print(len(x_test),'test sequences')\n",
    "\n",
    "print('Pad sequences (sample x time)')\n",
    "x_train = sequence.pad_sequences(x_train,maxlen=maxlen)\n",
    "x_test = sequence.pad_sequences(x_test,maxlen=maxlen)\n",
    "print('x_train shape:',x_train.shape)\n",
    "print('x_test shape:',x_test.shape)"
   ]
  },
  {
   "cell_type": "code",
   "execution_count": 3,
   "metadata": {
    "ExecuteTime": {
     "end_time": "2019-07-22T12:53:40.825767Z",
     "start_time": "2019-07-22T12:53:12.612842Z"
    }
   },
   "outputs": [
    {
     "name": "stdout",
     "output_type": "stream",
     "text": [
      "WARNING:tensorflow:From D:\\Anaconda\\envs\\data_analysis\\lib\\site-packages\\tensorflow\\python\\framework\\op_def_library.py:263: colocate_with (from tensorflow.python.framework.ops) is deprecated and will be removed in a future version.\n",
      "Instructions for updating:\n",
      "Colocations handled automatically by placer.\n",
      "_________________________________________________________________\n",
      "Layer (type)                 Output Shape              Param #   \n",
      "=================================================================\n",
      "embedding_1 (Embedding)      (None, 500, 128)          1280000   \n",
      "_________________________________________________________________\n",
      "conv1d_1 (Conv1D)            (None, 494, 32)           28704     \n",
      "_________________________________________________________________\n",
      "max_pooling1d_1 (MaxPooling1 (None, 98, 32)            0         \n",
      "_________________________________________________________________\n",
      "conv1d_2 (Conv1D)            (None, 92, 32)            7200      \n",
      "_________________________________________________________________\n",
      "global_max_pooling1d_1 (Glob (None, 32)                0         \n",
      "_________________________________________________________________\n",
      "dense_1 (Dense)              (None, 1)                 33        \n",
      "=================================================================\n",
      "Total params: 1,315,937\n",
      "Trainable params: 1,315,937\n",
      "Non-trainable params: 0\n",
      "_________________________________________________________________\n",
      "WARNING:tensorflow:From D:\\Anaconda\\envs\\data_analysis\\lib\\site-packages\\tensorflow\\python\\ops\\math_ops.py:3066: to_int32 (from tensorflow.python.ops.math_ops) is deprecated and will be removed in a future version.\n",
      "Instructions for updating:\n",
      "Use tf.cast instead.\n",
      "WARNING:tensorflow:From D:\\Anaconda\\envs\\data_analysis\\lib\\site-packages\\tensorflow\\python\\ops\\math_grad.py:102: div (from tensorflow.python.ops.math_ops) is deprecated and will be removed in a future version.\n",
      "Instructions for updating:\n",
      "Deprecated in favor of operator or tf.math.divide.\n",
      "Train on 20000 samples, validate on 5000 samples\n",
      "Epoch 1/10\n",
      "20000/20000 [==============================] - 6s 281us/step - loss: 0.8337 - acc: 0.5091 - val_loss: 0.6875 - val_acc: 0.5640\n",
      "Epoch 2/10\n",
      "20000/20000 [==============================] - 2s 120us/step - loss: 0.6700 - acc: 0.6402 - val_loss: 0.6641 - val_acc: 0.6580\n",
      "Epoch 3/10\n",
      "20000/20000 [==============================] - 2s 120us/step - loss: 0.6234 - acc: 0.7564 - val_loss: 0.6073 - val_acc: 0.7432\n",
      "Epoch 4/10\n",
      "20000/20000 [==============================] - 2s 119us/step - loss: 0.5251 - acc: 0.8089 - val_loss: 0.4845 - val_acc: 0.8080\n",
      "Epoch 5/10\n",
      "20000/20000 [==============================] - 3s 126us/step - loss: 0.4105 - acc: 0.8488 - val_loss: 0.4319 - val_acc: 0.8314\n",
      "Epoch 6/10\n",
      "20000/20000 [==============================] - 2s 124us/step - loss: 0.3478 - acc: 0.8626 - val_loss: 0.4270 - val_acc: 0.8326\n",
      "Epoch 7/10\n",
      "20000/20000 [==============================] - 2s 120us/step - loss: 0.3092 - acc: 0.8590 - val_loss: 0.4349 - val_acc: 0.8236\n",
      "Epoch 8/10\n",
      "20000/20000 [==============================] - 2s 122us/step - loss: 0.2752 - acc: 0.8514 - val_loss: 0.4244 - val_acc: 0.8108\n",
      "Epoch 9/10\n",
      "20000/20000 [==============================] - 2s 123us/step - loss: 0.2503 - acc: 0.8310 - val_loss: 0.4684 - val_acc: 0.7784\n",
      "Epoch 10/10\n",
      "20000/20000 [==============================] - 2s 121us/step - loss: 0.2292 - acc: 0.8115 - val_loss: 0.4932 - val_acc: 0.7600\n"
     ]
    }
   ],
   "source": [
    "# 在IMDB数据上训练并评估一个简单的一维卷积神经网络\n",
    "from keras.models import Sequential\n",
    "from keras import layers\n",
    "from keras.optimizers import RMSprop\n",
    "\n",
    "model = Sequential()\n",
    "model.add(layers.Embedding(max_features, 128, input_length=maxlen))\n",
    "model.add(layers.Conv1D(32,7,activation='relu'))\n",
    "model.add(layers.MaxPooling1D(5))\n",
    "model.add(layers.Conv1D(32,7,activation='relu'))\n",
    "model.add(layers.GlobalMaxPooling1D())\n",
    "model.add(layers.Dense(1))\n",
    "\n",
    "model.summary()\n",
    "\n",
    "model.compile(optimizer=RMSprop(lr=1e-4),loss='binary_crossentropy',metrics=['acc'])\n",
    "history = model.fit(x_train,y_train,epochs=10,batch_size=128,validation_split=0.2)"
   ]
  },
  {
   "cell_type": "code",
   "execution_count": 4,
   "metadata": {
    "ExecuteTime": {
     "end_time": "2019-07-22T12:53:41.516910Z",
     "start_time": "2019-07-22T12:53:40.850693Z"
    }
   },
   "outputs": [
    {
     "data": {
      "image/png": "[encoded data removed]",
      "text/plain": [
       "<Figure size 432x288 with 1 Axes>"
      ]
     },
     "metadata": {
      "needs_background": "light"
     },
     "output_type": "display_data"
    },
    {
     "data": {
      "image/png": "[encoded data removed]",
      "text/plain": [
       "<Figure size 432x288 with 1 Axes>"
      ]
     },
     "metadata": {
      "needs_background": "light"
     },
     "output_type": "display_data"
    }
   ],
   "source": [
    "draw_curve(history)"
   ]
  },
  {
   "cell_type": "markdown",
   "metadata": {},
   "source": [
    "## 结合CNN和RNN来处理长序列"
   ]
  },
  {
   "cell_type": "code",
   "execution_count": 5,
   "metadata": {
    "ExecuteTime": {
     "end_time": "2019-07-22T12:59:42.828824Z",
     "start_time": "2019-07-22T12:59:41.462657Z"
    }
   },
   "outputs": [
    {
     "name": "stdout",
     "output_type": "stream",
     "text": [
      "['\"Date Time\"', '\"p (mbar)\"', '\"T (degC)\"', '\"Tpot (K)\"', '\"Tdew (degC)\"', '\"rh (%)\"', '\"VPmax (mbar)\"', '\"VPact (mbar)\"', '\"VPdef (mbar)\"', '\"sh (g/kg)\"', '\"H2OC (mmol/mol)\"', '\"rho (g/m**3)\"', '\"wv (m/s)\"', '\"max. wv (m/s)\"', '\"wd (deg)\"']\n",
      "420551\n"
     ]
    }
   ],
   "source": [
    "jena_data = './data/jena_climate_2009_2016.csv'\n",
    "import os \n",
    "\n",
    "f =open(jena_data)\n",
    "data = f.read()\n",
    "f.close()\n",
    "\n",
    "lines = data.split('\\n')\n",
    "header = lines[0].split(',')\n",
    "lines = lines[1:]\n",
    "\n",
    "print(header)\n",
    "print(len(lines))"
   ]
  },
  {
   "cell_type": "code",
   "execution_count": 6,
   "metadata": {
    "ExecuteTime": {
     "end_time": "2019-07-22T12:59:56.605482Z",
     "start_time": "2019-07-22T12:59:53.177648Z"
    },
    "collapsed": true
   },
   "outputs": [],
   "source": [
    "# 解析数据\n",
    "import numpy as np\n",
    "\n",
    "float_data = np.zeros((len(lines),len(header)-1))\n",
    "\n",
    "for i,line in enumerate(lines):\n",
    "    values = [float(x) for x in line.split(',')[1:]]\n",
    "    float_data[i,:]=values"
   ]
  },
  {
   "cell_type": "code",
   "execution_count": 7,
   "metadata": {
    "ExecuteTime": {
     "end_time": "2019-07-22T13:00:07.609779Z",
     "start_time": "2019-07-22T13:00:07.403759Z"
    },
    "collapsed": true
   },
   "outputs": [],
   "source": [
    "# 数据标准化\n",
    "mean = float_data[:200000].mean(axis=0)\n",
    "float_data -= mean\n",
    "std = float_data[:200000].std(axis=0)\n",
    "float_data /= std"
   ]
  },
  {
   "cell_type": "code",
   "execution_count": 8,
   "metadata": {
    "ExecuteTime": {
     "end_time": "2019-07-22T13:00:22.210675Z",
     "start_time": "2019-07-22T13:00:22.193721Z"
    },
    "collapsed": true
   },
   "outputs": [],
   "source": [
    "# 生成时间序列样本及其目标的生成器\n",
    "def generator(data,lookback,delay,min_index,max_index,shuffle = False,batch_size=128,step=6):\n",
    "    if max_index is None:\n",
    "        max_index = len(data)-delay-1\n",
    "    i = min_index+lookback\n",
    "    while 1:\n",
    "        if shuffle:\n",
    "            rows = np.random.randint(min_index+lookback,max_index,size=batch_size)\n",
    "        else:\n",
    "            if i+batch_size>=max_index:\n",
    "                i = min_index+lookback\n",
    "            rows = np.arrange(i,min(i+batch_size,max_index))\n",
    "            i += len(rows)\n",
    "        samples = np.zeros((len(rows),\n",
    "                           lookback//step,\n",
    "                           data.shape[-1]))\n",
    "        targets = np.zeros((len(rows),))\n",
    "        for j,row in enumerate(rows):\n",
    "            indices = range(rows[j]-lookback,rows[j],step)\n",
    "            samples[j] =data[indices]\n",
    "            targets[j] = data[rows[j]+delay][1]\n",
    "        yield samples,targets"
   ]
  },
  {
   "cell_type": "code",
   "execution_count": 9,
   "metadata": {
    "ExecuteTime": {
     "end_time": "2019-07-22T13:00:40.684896Z",
     "start_time": "2019-07-22T13:00:40.677948Z"
    },
    "collapsed": true
   },
   "outputs": [],
   "source": [
    "# 准备训练生成器，验证生成器和测试生成器\n",
    "lookback = 1440\n",
    "step = 6\n",
    "delay = 144\n",
    "batch_size = 128\n",
    "\n",
    "train_gen = generator(float_data,\n",
    "                     lookback = lookback,\n",
    "                     delay =delay,\n",
    "                     min_index = 0,\n",
    "                     max_index = 200000,\n",
    "                     shuffle = True,\n",
    "                     step=step,\n",
    "                     batch_size = batch_size)\n",
    "\n",
    "val_gen = generator(float_data,\n",
    "                     lookback = lookback,\n",
    "                     delay =delay,\n",
    "                     min_index = 200001,\n",
    "                     max_index = 300000,\n",
    "                     shuffle = True,\n",
    "                     step=step,\n",
    "                     batch_size = batch_size)\n",
    "\n",
    "test_gen = generator(float_data,\n",
    "                     lookback = lookback,\n",
    "                     delay =delay,\n",
    "                     min_index = 200001,\n",
    "                     max_index = 300000,\n",
    "                     shuffle = True,\n",
    "                     step=step,\n",
    "                     batch_size = batch_size)\n",
    "\n",
    "val_steps = (300000-200001-lookback)//batch_size\n",
    "\n",
    "test_steps = (len(float_data)-300001-lookback)//batch_size\n"
   ]
  },
  {
   "cell_type": "code",
   "execution_count": 11,
   "metadata": {
    "ExecuteTime": {
     "end_time": "2019-07-22T13:13:21.916926Z",
     "start_time": "2019-07-22T13:04:36.668434Z"
    }
   },
   "outputs": [
    {
     "name": "stdout",
     "output_type": "stream",
     "text": [
      "_________________________________________________________________\n",
      "Layer (type)                 Output Shape              Param #   \n",
      "=================================================================\n",
      "conv1d_6 (Conv1D)            (None, None, 32)          2272      \n",
      "_________________________________________________________________\n",
      "max_pooling1d_4 (MaxPooling1 (None, None, 32)          0         \n",
      "_________________________________________________________________\n",
      "conv1d_7 (Conv1D)            (None, None, 32)          5152      \n",
      "_________________________________________________________________\n",
      "max_pooling1d_5 (MaxPooling1 (None, None, 32)          0         \n",
      "_________________________________________________________________\n",
      "conv1d_8 (Conv1D)            (None, None, 32)          5152      \n",
      "_________________________________________________________________\n",
      "global_max_pooling1d_3 (Glob (None, 32)                0         \n",
      "_________________________________________________________________\n",
      "dense_3 (Dense)              (None, 1)                 33        \n",
      "=================================================================\n",
      "Total params: 12,609\n",
      "Trainable params: 12,609\n",
      "Non-trainable params: 0\n",
      "_________________________________________________________________\n",
      "Epoch 1/20\n",
      "500/500 [==============================] - 28s 55ms/step - loss: 0.4109 - val_loss: 0.4282\n",
      "Epoch 2/20\n",
      "500/500 [==============================] - 26s 51ms/step - loss: 0.3528 - val_loss: 0.4266\n",
      "Epoch 3/20\n",
      "500/500 [==============================] - 27s 54ms/step - loss: 0.3317 - val_loss: 0.4518\n",
      "Epoch 4/20\n",
      "500/500 [==============================] - 26s 52ms/step - loss: 0.3170 - val_loss: 0.4512\n",
      "Epoch 5/20\n",
      "500/500 [==============================] - 26s 52ms/step - loss: 0.3061 - val_loss: 0.4581\n",
      "Epoch 6/20\n",
      "500/500 [==============================] - 26s 52ms/step - loss: 0.2943 - val_loss: 0.4511\n",
      "Epoch 7/20\n",
      "500/500 [==============================] - 26s 52ms/step - loss: 0.2869 - val_loss: 0.4717\n",
      "Epoch 8/20\n",
      "500/500 [==============================] - 26s 52ms/step - loss: 0.2800 - val_loss: 0.4634\n",
      "Epoch 9/20\n",
      "500/500 [==============================] - 26s 52ms/step - loss: 0.2737 - val_loss: 0.4902\n",
      "Epoch 10/20\n",
      "500/500 [==============================] - 26s 53ms/step - loss: 0.2705 - val_loss: 0.4691\n",
      "Epoch 11/20\n",
      "500/500 [==============================] - 26s 52ms/step - loss: 0.2662 - val_loss: 0.4967\n",
      "Epoch 12/20\n",
      "500/500 [==============================] - 26s 52ms/step - loss: 0.2618 - val_loss: 0.4876\n",
      "Epoch 13/20\n",
      "500/500 [==============================] - 26s 52ms/step - loss: 0.2555 - val_loss: 0.4956\n",
      "Epoch 14/20\n",
      "500/500 [==============================] - 26s 52ms/step - loss: 0.2540 - val_loss: 0.4705\n",
      "Epoch 15/20\n",
      "500/500 [==============================] - 26s 51ms/step - loss: 0.2509 - val_loss: 0.4692\n",
      "Epoch 16/20\n",
      "500/500 [==============================] - 26s 52ms/step - loss: 0.2493 - val_loss: 0.4727\n",
      "Epoch 17/20\n",
      "500/500 [==============================] - 26s 52ms/step - loss: 0.2459 - val_loss: 0.4819\n",
      "Epoch 18/20\n",
      "500/500 [==============================] - 28s 56ms/step - loss: 0.2446 - val_loss: 0.4940\n",
      "Epoch 19/20\n",
      "500/500 [==============================] - 26s 52ms/step - loss: 0.2407 - val_loss: 0.4576\n",
      "Epoch 20/20\n",
      "500/500 [==============================] - 26s 52ms/step - loss: 0.2390 - val_loss: 0.4852\n"
     ]
    }
   ],
   "source": [
    "# 在耶拿数据上训练并评估一个简单的一维卷积神经网络\n",
    "model = Sequential()\n",
    "model.add(layers.Conv1D(32,5,activation='relu',input_shape=(None,float_data.shape[-1])))\n",
    "model.add(layers.MaxPooling1D(3))\n",
    "model.add(layers.Conv1D(32,5,activation='relu'))\n",
    "model.add(layers.MaxPooling1D(3))\n",
    "model.add(layers.Conv1D(32,5,activation='relu'))\n",
    "model.add(layers.GlobalMaxPooling1D())\n",
    "model.add(layers.Dense(1))\n",
    "\n",
    "model.summary()\n",
    "\n",
    "model.compile(optimizer=RMSprop(),loss='mae')\n",
    "history = model.fit_generator(train_gen,steps_per_epoch=500,epochs=20,validation_data=val_gen,validation_steps=val_steps)"
   ]
  },
  {
   "cell_type": "code",
   "execution_count": 12,
   "metadata": {
    "ExecuteTime": {
     "end_time": "2019-07-22T13:13:22.424568Z",
     "start_time": "2019-07-22T13:13:22.217124Z"
    }
   },
   "outputs": [
    {
     "data": {
      "image/png": "[encoded data removed]",
      "text/plain": [
       "<Figure size 432x288 with 1 Axes>"
      ]
     },
     "metadata": {
      "needs_background": "light"
     },
     "output_type": "display_data"
    }
   ],
   "source": [
    "draw_loss(history)"
   ]
  },
  {
   "cell_type": "code",
   "execution_count": 13,
   "metadata": {
    "ExecuteTime": {
     "end_time": "2019-07-22T13:13:22.746707Z",
     "start_time": "2019-07-22T13:13:22.737731Z"
    },
    "collapsed": true
   },
   "outputs": [],
   "source": [
    "# 为耶拿数据集准备更高分辨率的数据生成器\n",
    "step=3\n",
    "lookback=720\n",
    "delay=144\n",
    "\n",
    "train_gen = generator(float_data,\n",
    "                     lookback = lookback,\n",
    "                     delay =delay,\n",
    "                     min_index = 0,\n",
    "                     max_index = 200000,\n",
    "                     shuffle = True,\n",
    "                     step=step)\n",
    "\n",
    "val_gen = generator(float_data,\n",
    "                     lookback = lookback,\n",
    "                     delay =delay,\n",
    "                     min_index = 200001,\n",
    "                     max_index = 300000,\n",
    "                     shuffle = True,\n",
    "                     step=step)\n",
    "\n",
    "test_gen = generator(float_data,\n",
    "                     lookback = lookback,\n",
    "                     delay =delay,\n",
    "                     min_index = 200001,\n",
    "                     max_index = 300000,\n",
    "                     shuffle = True,\n",
    "                     step=step)\n",
    "\n",
    "val_steps = (300000-200001-lookback)//128\n",
    "\n",
    "test_steps = (len(float_data)-300001-lookback)//128"
   ]
  },
  {
   "cell_type": "code",
   "execution_count": 14,
   "metadata": {
    "ExecuteTime": {
     "end_time": "2019-07-22T13:49:36.854923Z",
     "start_time": "2019-07-22T13:13:23.060868Z"
    }
   },
   "outputs": [
    {
     "name": "stdout",
     "output_type": "stream",
     "text": [
      "WARNING:tensorflow:From D:\\Anaconda\\envs\\data_analysis\\lib\\site-packages\\keras\\backend\\tensorflow_backend.py:3445: calling dropout (from tensorflow.python.ops.nn_ops) with keep_prob is deprecated and will be removed in a future version.\n",
      "Instructions for updating:\n",
      "Please use `rate` instead of `keep_prob`. Rate should be set to `rate = 1 - keep_prob`.\n",
      "_________________________________________________________________\n",
      "Layer (type)                 Output Shape              Param #   \n",
      "=================================================================\n",
      "conv1d_9 (Conv1D)            (None, None, 32)          2272      \n",
      "_________________________________________________________________\n",
      "max_pooling1d_6 (MaxPooling1 (None, None, 32)          0         \n",
      "_________________________________________________________________\n",
      "conv1d_10 (Conv1D)           (None, None, 32)          5152      \n",
      "_________________________________________________________________\n",
      "gru_1 (GRU)                  (None, 32)                6240      \n",
      "_________________________________________________________________\n",
      "dense_4 (Dense)              (None, 1)                 33        \n",
      "=================================================================\n",
      "Total params: 13,697\n",
      "Trainable params: 13,697\n",
      "Non-trainable params: 0\n",
      "_________________________________________________________________\n",
      "Epoch 1/20\n",
      "500/500 [==============================] - 115s 231ms/step - loss: 0.3404 - val_loss: 0.2827\n",
      "Epoch 2/20\n",
      "500/500 [==============================] - 107s 214ms/step - loss: 0.3078 - val_loss: 0.2799\n",
      "Epoch 3/20\n",
      "500/500 [==============================] - 108s 215ms/step - loss: 0.2961 - val_loss: 0.2836\n",
      "Epoch 4/20\n",
      "500/500 [==============================] - 107s 214ms/step - loss: 0.2877 - val_loss: 0.2777\n",
      "Epoch 5/20\n",
      "500/500 [==============================] - 107s 215ms/step - loss: 0.2803 - val_loss: 0.2742\n",
      "Epoch 6/20\n",
      "500/500 [==============================] - 107s 214ms/step - loss: 0.2742 - val_loss: 0.2786\n",
      "Epoch 7/20\n",
      "500/500 [==============================] - 109s 217ms/step - loss: 0.2699 - val_loss: 0.2803\n",
      "Epoch 8/20\n",
      "500/500 [==============================] - 114s 228ms/step - loss: 0.2638 - val_loss: 0.2755\n",
      "Epoch 9/20\n",
      "500/500 [==============================] - 110s 220ms/step - loss: 0.2609 - val_loss: 0.2774\n",
      "Epoch 10/20\n",
      "500/500 [==============================] - 107s 213ms/step - loss: 0.2557 - val_loss: 0.2841\n",
      "Epoch 11/20\n",
      "500/500 [==============================] - 107s 213ms/step - loss: 0.2522 - val_loss: 0.2863\n",
      "Epoch 12/20\n",
      "500/500 [==============================] - 107s 213ms/step - loss: 0.2477 - val_loss: 0.2820\n",
      "Epoch 13/20\n",
      "500/500 [==============================] - 107s 214ms/step - loss: 0.2456 - val_loss: 0.2834\n",
      "Epoch 14/20\n",
      "500/500 [==============================] - 108s 216ms/step - loss: 0.2436 - val_loss: 0.2896\n",
      "Epoch 15/20\n",
      "500/500 [==============================] - 108s 216ms/step - loss: 0.2395 - val_loss: 0.2873\n",
      "Epoch 16/20\n",
      "500/500 [==============================] - 110s 221ms/step - loss: 0.2366 - val_loss: 0.2963\n",
      "Epoch 17/20\n",
      "500/500 [==============================] - 109s 218ms/step - loss: 0.2344 - val_loss: 0.2893\n",
      "Epoch 18/20\n",
      "500/500 [==============================] - 108s 217ms/step - loss: 0.2315 - val_loss: 0.2928\n",
      "Epoch 19/20\n",
      "500/500 [==============================] - 107s 215ms/step - loss: 0.2287 - val_loss: 0.2877\n",
      "Epoch 20/20\n",
      "500/500 [==============================] - 108s 216ms/step - loss: 0.2275 - val_loss: 0.2955\n"
     ]
    }
   ],
   "source": [
    "# 结合一维卷积基和GRU层的模型\n",
    "model = Sequential()\n",
    "model.add(layers.Conv1D(32,5,activation='relu',input_shape=(None,float_data.shape[-1])))\n",
    "model.add(layers.MaxPooling1D(3))\n",
    "model.add(layers.Conv1D(32,5,activation='relu'))\n",
    "model.add(layers.GRU(32,dropout=0.1,recurrent_dropout=0.5))\n",
    "model.add(layers.Dense(1))\n",
    "\n",
    "model.summary()\n",
    "\n",
    "model.compile(optimizer=RMSprop(),loss='mae')\n",
    "history = model.fit_generator(train_gen,steps_per_epoch=500,epochs=20,validation_data=val_gen,validation_steps=val_steps)"
   ]
  },
  {
   "cell_type": "code",
   "execution_count": 15,
   "metadata": {
    "ExecuteTime": {
     "end_time": "2019-07-22T13:49:37.361558Z",
     "start_time": "2019-07-22T13:49:37.180019Z"
    }
   },
   "outputs": [
    {
     "data": {
      "image/png": "[encoded data removed]",
      "text/plain": [
       "<Figure size 432x288 with 1 Axes>"
      ]
     },
     "metadata": {
      "needs_background": "light"
     },
     "output_type": "display_data"
    }
   ],
   "source": [
    "draw_loss(history)"
   ]
  },
  {
   "cell_type": "code",
   "execution_count": null,
   "metadata": {
    "collapsed": true
   },
   "outputs": [],
   "source": []
  }
 ],
 "metadata": {
  "kernelspec": {
   "display_name": "Python [conda env:data_analysis]",
   "language": "python",
   "name": "conda-env-data_analysis-py"
  },
  "language_info": {
   "codemirror_mode": {
    "name": "ipython",
    "version": 3
   },
   "file_extension": ".py",
   "mimetype": "text/x-python",
   "name": "python",
   "nbconvert_exporter": "python",
   "pygments_lexer": "ipython3",
   "version": "3.6.8"
  },
  "toc": {
   "base_numbering": 1,
   "nav_menu": {},
   "number_sections": true,
   "sideBar": true,
   "skip_h1_title": false,
   "title_cell": "Table of Contents",
   "title_sidebar": "Contents",
   "toc_cell": false,
   "toc_position": {},
   "toc_section_display": true,
   "toc_window_display": false
  },
  "varInspector": {
   "cols": {
    "lenName": 16,
    "lenType": 16,
    "lenVar": 40
   },
   "kernels_config": {
    "python": {
     "delete_cmd_postfix": "",
     "delete_cmd_prefix": "del ",
     "library": "var_list.py",
     "varRefreshCmd": "print(var_dic_list())"
    },
    "r": {
     "delete_cmd_postfix": ") ",
     "delete_cmd_prefix": "rm(",
     "library": "var_list.r",
     "varRefreshCmd": "cat(var_dic_list()) "
    }
   },
   "types_to_exclude": [
    "module",
    "function",
    "builtin_function_or_method",
    "instance",
    "_Feature"
   ],
   "window_display": false
  }
 },
 "nbformat": 4,
 "nbformat_minor": 2
}
