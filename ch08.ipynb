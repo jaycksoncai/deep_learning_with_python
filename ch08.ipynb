{
 "cells": [
  {
   "cell_type": "markdown",
   "metadata": {},
   "source": [
    "# 生成式深度学习"
   ]
  },
  {
   "cell_type": "markdown",
   "metadata": {},
   "source": [
    "## 使用LSTM生成文本"
   ]
  },
  {
   "cell_type": "markdown",
   "metadata": {},
   "source": [
    "### 采样策略的重要性"
   ]
  },
  {
   "cell_type": "code",
   "execution_count": 1,
   "metadata": {
    "ExecuteTime": {
     "end_time": "2019-07-26T14:46:29.405670Z",
     "start_time": "2019-07-26T14:46:29.400684Z"
    },
    "collapsed": true
   },
   "outputs": [],
   "source": [
    "# 对于不同的softmax温度，对概率进行重新加权\n",
    "import numpy as np\n",
    "def reweight_distribution(original_distribution,temperature=0.5):\n",
    "    distribution = np.log(original_distribution)/temperature\n",
    "    distribution = np.exp(distribution)\n",
    "    return distribution/np.sum(distributionribution)"
   ]
  },
  {
   "cell_type": "markdown",
   "metadata": {},
   "source": [
    "### 实现字符级的LSTM文本生成"
   ]
  },
  {
   "cell_type": "markdown",
   "metadata": {},
   "source": [
    "#### 准备数据"
   ]
  },
  {
   "cell_type": "code",
   "execution_count": 2,
   "metadata": {
    "ExecuteTime": {
     "end_time": "2019-07-26T14:46:34.583482Z",
     "start_time": "2019-07-26T14:46:32.237836Z"
    }
   },
   "outputs": [
    {
     "name": "stderr",
     "output_type": "stream",
     "text": [
      "Using TensorFlow backend.\n"
     ]
    },
    {
     "name": "stdout",
     "output_type": "stream",
     "text": [
      "Corpus length: 600893\n"
     ]
    }
   ],
   "source": [
    "import keras\n",
    "path = keras.utils.get_file('nietzsche.txt',origin = 'https://s3.amazonaws.com/text-datasets/nietzsche.txt')\n",
    "text = open(path).read().lower()\n",
    "print('Corpus length:',len(text))"
   ]
  },
  {
   "cell_type": "code",
   "execution_count": 3,
   "metadata": {
    "ExecuteTime": {
     "end_time": "2019-07-26T14:46:39.181299Z",
     "start_time": "2019-07-26T14:46:34.608414Z"
    }
   },
   "outputs": [
    {
     "name": "stdout",
     "output_type": "stream",
     "text": [
      "Number of sequences: 200278\n",
      "Unique characters: 58\n",
      "Vectorization...\n"
     ]
    }
   ],
   "source": [
    "# 将字符序列向量化\n",
    "maxlen = 60\n",
    "step = 3\n",
    "sentences = []\n",
    "next_chars = []\n",
    "for i in range(0,len(text)-maxlen,step):\n",
    "    sentences.append(text[i:i+maxlen])\n",
    "    next_chars.append(text[i+maxlen])   \n",
    "print('Number of sequences:',len(sentences))\n",
    "\n",
    "chars = sorted(list(set(text)))\n",
    "print('Unique characters:',len(chars))\n",
    "char_indices = dict((char,chars.index(char)) for char in chars)\n",
    "\n",
    "print('Vectorization...')\n",
    "x = np.zeros((len(sentences),maxlen,len(chars)),dtype=np.bool)\n",
    "y = np.zeros((len(sentences),len(chars)),dtype=np.bool)\n",
    "for i,sentence in enumerate(sentences):\n",
    "    for t,char in enumerate(sentence):\n",
    "        x[i,t,char_indices[char]]=1\n",
    "    y[i,char_indices[next_chars[i]]]=1"
   ]
  },
  {
   "cell_type": "markdown",
   "metadata": {},
   "source": [
    "#### 构建网络"
   ]
  },
  {
   "cell_type": "code",
   "execution_count": 4,
   "metadata": {
    "ExecuteTime": {
     "end_time": "2019-07-26T14:46:39.934297Z",
     "start_time": "2019-07-26T14:46:39.557294Z"
    }
   },
   "outputs": [
    {
     "name": "stdout",
     "output_type": "stream",
     "text": [
      "WARNING:tensorflow:From D:\\Anaconda\\envs\\data_analysis\\lib\\site-packages\\tensorflow\\python\\framework\\op_def_library.py:263: colocate_with (from tensorflow.python.framework.ops) is deprecated and will be removed in a future version.\n",
      "Instructions for updating:\n",
      "Colocations handled automatically by placer.\n"
     ]
    }
   ],
   "source": [
    "# 用于预测下一个字符的单层LSTM模型\n",
    "from keras import layers\n",
    "model = keras.models.Sequential()\n",
    "model.add(layers.LSTM(128,input_shape=(maxlen,len(chars))))\n",
    "model.add(layers.Dense(len(chars),activation='relu'))\n",
    "optimizer = keras.optimizers.RMSprop(lr=1e-2)\n",
    "model.compile(loss='categorical_crossentropy',optimizer=optimizer)"
   ]
  },
  {
   "cell_type": "markdown",
   "metadata": {},
   "source": [
    "#### 训练语言模型并从中采样"
   ]
  },
  {
   "cell_type": "code",
   "execution_count": 5,
   "metadata": {
    "ExecuteTime": {
     "end_time": "2019-07-26T14:46:40.307441Z",
     "start_time": "2019-07-26T14:46:40.296471Z"
    },
    "collapsed": true
   },
   "outputs": [],
   "source": [
    "# 给定模型预测，采样下一个字符的函数\n",
    "def sample(preds,temperature=1.0):\n",
    "    preds = np.asarray(preds).astype('float64')\n",
    "    preds = np.log(preds)/temperature\n",
    "    exp_preds = np.exp(preds)\n",
    "    preds = exp_preds/np.sum(exp_preds)\n",
    "    probas = np.random.multinomial(1,preds,1)\n",
    "    return np.argmax(probas)"
   ]
  },
  {
   "cell_type": "code",
   "execution_count": null,
   "metadata": {
    "ExecuteTime": {
     "start_time": "2019-07-25T15:40:04.379Z"
    },
    "collapsed": true
   },
   "outputs": [],
   "source": [
    "# 文本生成循环\n",
    "import random\n",
    "import sys \n",
    "\n",
    "\n",
    "model.fit(x,y,batch_size=128,epochs=1)\n",
    "start_index = random.randint(0,len(text)-maxlen-1)\n",
    "generated_text = text[start_index:start_index+maxlen]\n",
    "print('--- Generate with seed:\"'+generated_text+'\"')\n",
    "\n",
    "for temperature in [0.2,0.5,1.0,1.2]:\n",
    "    print('------ temperature:',temperature)\n",
    "    sys.stdout.write(generated_text)\n",
    "\n",
    "    for i in range(400):\n",
    "        sampled = np.zeros((1,maxlen,len(chars)))\n",
    "        for t,char in enumerate(generated_text):\n",
    "            sampled[0,t,char_indices[char]]=1\n",
    "\n",
    "        preds = model.predict(sampled,verbose=0)[0]\n",
    "        next_index = sample(preds,temperature)\n",
    "        next_char = chars[next_index]\n",
    "\n",
    "        generated_text+=next_char\n",
    "        generated_text=generated_text[1:]\n",
    "        sys.stdout.write(next_char)"
   ]
  },
  {
   "cell_type": "markdown",
   "metadata": {
    "collapsed": true
   },
   "source": [
    "## DeepDream"
   ]
  },
  {
   "cell_type": "markdown",
   "metadata": {},
   "source": [
    "### 用Keras实现DeepDream"
   ]
  },
  {
   "cell_type": "code",
   "execution_count": 6,
   "metadata": {
    "ExecuteTime": {
     "end_time": "2019-07-26T14:47:00.826799Z",
     "start_time": "2019-07-26T14:46:42.631513Z"
    }
   },
   "outputs": [],
   "source": [
    "# 加载预训练的Inception V3 模型\n",
    "from keras.applications import inception_v3\n",
    "from keras import backend as K\n",
    "\n",
    "K.set_learning_phase(0)\n",
    "\n",
    "model = inception_v3.InceptionV3(weights='imagenet',include_top=False)\n"
   ]
  },
  {
   "cell_type": "code",
   "execution_count": 7,
   "metadata": {
    "ExecuteTime": {
     "end_time": "2019-07-26T14:47:01.208729Z",
     "start_time": "2019-07-26T14:47:01.200751Z"
    },
    "collapsed": true
   },
   "outputs": [],
   "source": [
    "# 设置DeepDream配置\n",
    "layer_contributions ={\n",
    "    'mixed2':0.2,\n",
    "    'mixed3':3.,\n",
    "    'mixed4':2.,\n",
    "    'mixed5':1.5,\n",
    "}"
   ]
  },
  {
   "cell_type": "code",
   "execution_count": 8,
   "metadata": {
    "ExecuteTime": {
     "end_time": "2019-07-26T14:47:01.655152Z",
     "start_time": "2019-07-26T14:47:01.573753Z"
    }
   },
   "outputs": [
    {
     "name": "stdout",
     "output_type": "stream",
     "text": [
      "WARNING:tensorflow:Variable += will be deprecated. Use variable.assign_add if you want assignment to the variable value or 'x = x + y' if you want a new python Tensor object.\n"
     ]
    }
   ],
   "source": [
    "# 定义需要最大化的损失\n",
    "layer_dict = dict([(layer.name, layer) for layer in model.layers])\n",
    "\n",
    "loss = K.variable(0.)\n",
    "\n",
    "for layer_name in layer_contributions:\n",
    "    coeff = layer_contributions[layer_name]\n",
    "    activation = layer_dict[layer_name].output\n",
    "    scaling = K.prod(K.cast(K.shape(activation),'float32'))\n",
    "    loss += coeff*K.sum(K.square(activation[:,2:-2,2:-2,:]))/scaling"
   ]
  },
  {
   "cell_type": "code",
   "execution_count": 9,
   "metadata": {
    "ExecuteTime": {
     "end_time": "2019-07-26T14:47:02.760666Z",
     "start_time": "2019-07-26T14:47:02.020176Z"
    },
    "collapsed": true
   },
   "outputs": [],
   "source": [
    "# 梯度上升过程\n",
    "dream = model.input\n",
    "\n",
    "grads = K.gradients(loss,dream)[0]\n",
    "\n",
    "grads /= K.maximum(K.mean(K.abs(grads)),1e-7)\n",
    "\n",
    "outputs = [loss,grads]\n",
    "fetch_loss_and_grads = K.function([dream],outputs)\n",
    "\n",
    "def eval_loss_and_grads(x):\n",
    "    outs = fetch_loss_and_grads([x])\n",
    "    loss_value = outs[0]\n",
    "    grad_values = outs[1]\n",
    "    return loss_value,grad_values\n",
    "\n",
    "def gradient_ascent(x,iterations,step,max_loss = None):\n",
    "    for i in range(iterations):\n",
    "        loss_value,grad_values = eval_loss_and_grads(x)\n",
    "        if max_loss is not None and loss_value>max_loss:\n",
    "            break\n",
    "        print('...Loss value at ',i,':',loss_value)\n",
    "        x += step*grad_values\n",
    "    return x"
   ]
  },
  {
   "cell_type": "code",
   "execution_count": 10,
   "metadata": {
    "ExecuteTime": {
     "end_time": "2019-07-26T14:47:03.140622Z",
     "start_time": "2019-07-26T14:47:03.130647Z"
    },
    "collapsed": true
   },
   "outputs": [],
   "source": [
    "# 辅助函数\n",
    "import scipy\n",
    "from keras.preprocessing import image\n",
    "def resize_img(img,size):\n",
    "    img =np.copy(img)\n",
    "    factors = (1,float(size[0])/img.shape[1],float(size[1])/img.shape[2],1)\n",
    "    return scipy.ndimage.zoom(img,factors,order=1)\n",
    "\n",
    "def save_img(img,fname):\n",
    "    pil_name = deprocess_image(np.copy(img))\n",
    "    scipy.misc.imsave(fname,pil_name)\n",
    "    \n",
    "def preprocess_image(image_path):\n",
    "    img = image.load_img(image_path)\n",
    "    img = image.img_to_array(img)\n",
    "    img = np.expand_dims(img,axis=0)\n",
    "    img = inception_v3.preprocess_input(img)\n",
    "    return img\n",
    "\n",
    "def deprocess_image(x):\n",
    "    if K.image_data_format() == 'channels_first':\n",
    "        x=x.reshape((3,x.shape[2],x.shape[3]))\n",
    "        x=x.transpose((1,2,0))\n",
    "    else:\n",
    "        x = x.reshape((x.shape[1],x.shape[2],3))\n",
    "    x /=2.\n",
    "    x+=0.5\n",
    "    x*=255.\n",
    "    x=np.clip(x,0,255).astype('uint8')\n",
    "    return x"
   ]
  },
  {
   "cell_type": "code",
   "execution_count": null,
   "metadata": {
    "ExecuteTime": {
     "end_time": "2019-07-26T14:47:43.255984Z",
     "start_time": "2019-07-26T14:47:43.228084Z"
    },
    "collapsed": true
   },
   "outputs": [],
   "source": [
    "# 在多个连续尺度上运行梯度上升\n",
    "import numpy as np\n",
    "step = 0.01\n",
    "num_octave = 3\n",
    "octave_scale =1.4\n",
    "iterations = 20\n",
    "\n",
    "max_loss = 10.\n",
    "\n",
    "base_image_path = './data/deepdream/'\n",
    "\n",
    "img = preprocess_image(base_image_path)\n",
    "\n",
    "original_shape=img.shape[1:3]\n",
    "successive_shapes = [original_shape]\n",
    "for i in range(1,num_octave):\n",
    "    shape = tuple([int(dim/(octave_scale**i)) for dim in original_shape])\n",
    "    successive_shapes.append(shape)\n",
    "    \n",
    "successive_shapes = successive_shapes[::-1]\n",
    "\n",
    "original_img = np.copy(img)\n",
    "shrunk_original_img = resize_img(img,successive_shapes[0])\n",
    "for shape in successive_shapes:\n",
    "    print('Processing image shape',shape)\n",
    "    img = resize_img(img,shape)\n",
    "    img = gradient_ascent(img,iterations=iterations,step=step,max_loss = max_loss)\n",
    "    upscaled_shrunk_original_img = resize_img(shrunk_original_img,shape)\n",
    "    same_size_original = resize_img(original_img,shape)\n",
    "    lost_detail = same_size_original - upscaled_shrunk_original_img\n",
    "    img += lost_detail\n",
    "    shrunk_original_img = resize_img(original_img,shape)\n",
    "    save_img(img ,fname='dream_at_scale_'+str(shape)+'.png')\n",
    "    \n",
    "save_img(img,fname='final_dream.png')"
   ]
  },
  {
   "cell_type": "code",
   "execution_count": null,
   "metadata": {
    "collapsed": true
   },
   "outputs": [],
   "source": []
  }
 ],
 "metadata": {
  "kernelspec": {
   "display_name": "Python [conda env:data_analysis]",
   "language": "python",
   "name": "conda-env-data_analysis-py"
  },
  "language_info": {
   "codemirror_mode": {
    "name": "ipython",
    "version": 3
   },
   "file_extension": ".py",
   "mimetype": "text/x-python",
   "name": "python",
   "nbconvert_exporter": "python",
   "pygments_lexer": "ipython3",
   "version": "3.6.8"
  },
  "toc": {
   "base_numbering": 1,
   "nav_menu": {},
   "number_sections": true,
   "sideBar": true,
   "skip_h1_title": false,
   "title_cell": "Table of Contents",
   "title_sidebar": "Contents",
   "toc_cell": false,
   "toc_position": {},
   "toc_section_display": true,
   "toc_window_display": false
  },
  "varInspector": {
   "cols": {
    "lenName": 16,
    "lenType": 16,
    "lenVar": 40
   },
   "kernels_config": {
    "python": {
     "delete_cmd_postfix": "",
     "delete_cmd_prefix": "del ",
     "library": "var_list.py",
     "varRefreshCmd": "print(var_dic_list())"
    },
    "r": {
     "delete_cmd_postfix": ") ",
     "delete_cmd_prefix": "rm(",
     "library": "var_list.r",
     "varRefreshCmd": "cat(var_dic_list()) "
    }
   },
   "types_to_exclude": [
    "module",
    "function",
    "builtin_function_or_method",
    "instance",
    "_Feature"
   ],
   "window_display": false
  }
 },
 "nbformat": 4,
 "nbformat_minor": 2
}
