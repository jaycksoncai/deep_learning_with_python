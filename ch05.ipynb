{
 "cells": [
  {
   "cell_type": "markdown",
   "metadata": {},
   "source": [
    "# 深度学习用于计算机视觉"
   ]
  },
  {
   "cell_type": "markdown",
   "metadata": {},
   "source": [
    "## 卷积神经网络简介"
   ]
  },
  {
   "cell_type": "code",
   "execution_count": 1,
   "metadata": {
    "ExecuteTime": {
     "end_time": "2019-07-07T13:17:14.518078Z",
     "start_time": "2019-07-07T13:17:08.309939Z"
    }
   },
   "outputs": [
    {
     "name": "stderr",
     "output_type": "stream",
     "text": [
      "D:\\Anaconda\\lib\\site-packages\\h5py\\__init__.py:36: FutureWarning: Conversion of the second argument of issubdtype from `float` to `np.floating` is deprecated. In future, it will be treated as `np.float64 == np.dtype(float).type`.\n",
      "  from ._conv import register_converters as _register_converters\n",
      "Using TensorFlow backend.\n"
     ]
    }
   ],
   "source": [
    "from keras import models\n",
    "from keras import layers"
   ]
  },
  {
   "cell_type": "code",
   "execution_count": 2,
   "metadata": {
    "ExecuteTime": {
     "end_time": "2019-07-07T13:22:26.128861Z",
     "start_time": "2019-07-07T13:22:25.960098Z"
    }
   },
   "outputs": [
    {
     "name": "stdout",
     "output_type": "stream",
     "text": [
      "WARNING:tensorflow:From D:\\Anaconda\\lib\\site-packages\\tensorflow\\python\\framework\\op_def_library.py:263: colocate_with (from tensorflow.python.framework.ops) is deprecated and will be removed in a future version.\n",
      "Instructions for updating:\n",
      "Colocations handled automatically by placer.\n"
     ]
    }
   ],
   "source": [
    "# 实例化一个小型的卷积神经网络\n",
    "model_1 = models.Sequential()\n",
    "model_1.add(layers.Conv2D(32,(3,3),activation='relu',input_shape=(28,28,1)))\n",
    "model_1.add(layers.MaxPooling2D((2,2)))\n",
    "model_1.add(layers.Conv2D(64,(3,3),activation='relu'))\n",
    "model_1.add(layers.MaxPooling2D((2,2)))\n",
    "model_1.add(layers.Conv2D(64,(3,3),activation='relu'))"
   ]
  },
  {
   "cell_type": "code",
   "execution_count": 3,
   "metadata": {
    "ExecuteTime": {
     "end_time": "2019-07-07T13:23:43.102083Z",
     "start_time": "2019-07-07T13:23:43.095130Z"
    }
   },
   "outputs": [
    {
     "name": "stdout",
     "output_type": "stream",
     "text": [
      "_________________________________________________________________\n",
      "Layer (type)                 Output Shape              Param #   \n",
      "=================================================================\n",
      "conv2d_1 (Conv2D)            (None, 26, 26, 32)        320       \n",
      "_________________________________________________________________\n",
      "max_pooling2d_1 (MaxPooling2 (None, 13, 13, 32)        0         \n",
      "_________________________________________________________________\n",
      "conv2d_2 (Conv2D)            (None, 11, 11, 64)        18496     \n",
      "_________________________________________________________________\n",
      "max_pooling2d_2 (MaxPooling2 (None, 5, 5, 64)          0         \n",
      "_________________________________________________________________\n",
      "conv2d_3 (Conv2D)            (None, 3, 3, 64)          36928     \n",
      "=================================================================\n",
      "Total params: 55,744\n",
      "Trainable params: 55,744\n",
      "Non-trainable params: 0\n",
      "_________________________________________________________________\n"
     ]
    }
   ],
   "source": [
    "model_1.summary()"
   ]
  },
  {
   "cell_type": "code",
   "execution_count": 4,
   "metadata": {
    "ExecuteTime": {
     "end_time": "2019-07-07T13:30:21.057348Z",
     "start_time": "2019-07-07T13:30:20.936139Z"
    },
    "collapsed": true
   },
   "outputs": [],
   "source": [
    "model_1.add(layers.Flatten())\n",
    "model_1.add(layers.Dense(64,activation='relu'))\n",
    "model_1.add(layers.Dense(10,activation='softmax'))"
   ]
  },
  {
   "cell_type": "code",
   "execution_count": 5,
   "metadata": {
    "ExecuteTime": {
     "end_time": "2019-07-07T13:30:29.963686Z",
     "start_time": "2019-07-07T13:30:29.955708Z"
    }
   },
   "outputs": [
    {
     "name": "stdout",
     "output_type": "stream",
     "text": [
      "_________________________________________________________________\n",
      "Layer (type)                 Output Shape              Param #   \n",
      "=================================================================\n",
      "conv2d_1 (Conv2D)            (None, 26, 26, 32)        320       \n",
      "_________________________________________________________________\n",
      "max_pooling2d_1 (MaxPooling2 (None, 13, 13, 32)        0         \n",
      "_________________________________________________________________\n",
      "conv2d_2 (Conv2D)            (None, 11, 11, 64)        18496     \n",
      "_________________________________________________________________\n",
      "max_pooling2d_2 (MaxPooling2 (None, 5, 5, 64)          0         \n",
      "_________________________________________________________________\n",
      "conv2d_3 (Conv2D)            (None, 3, 3, 64)          36928     \n",
      "_________________________________________________________________\n",
      "flatten_1 (Flatten)          (None, 576)               0         \n",
      "_________________________________________________________________\n",
      "dense_1 (Dense)              (None, 64)                36928     \n",
      "_________________________________________________________________\n",
      "dense_2 (Dense)              (None, 10)                650       \n",
      "=================================================================\n",
      "Total params: 93,322\n",
      "Trainable params: 93,322\n",
      "Non-trainable params: 0\n",
      "_________________________________________________________________\n"
     ]
    }
   ],
   "source": [
    "model_1.summary()"
   ]
  },
  {
   "cell_type": "code",
   "execution_count": 6,
   "metadata": {
    "ExecuteTime": {
     "end_time": "2019-07-07T13:48:23.726943Z",
     "start_time": "2019-07-07T13:43:53.162805Z"
    }
   },
   "outputs": [
    {
     "name": "stdout",
     "output_type": "stream",
     "text": [
      "WARNING:tensorflow:From D:\\Anaconda\\lib\\site-packages\\tensorflow\\python\\ops\\math_ops.py:3066: to_int32 (from tensorflow.python.ops.math_ops) is deprecated and will be removed in a future version.\n",
      "Instructions for updating:\n",
      "Use tf.cast instead.\n",
      "Epoch 1/5\n",
      "60000/60000 [==============================] - 55s 917us/step - loss: 0.1752 - acc: 0.9452\n",
      "Epoch 2/5\n",
      "60000/60000 [==============================] - 54s 902us/step - loss: 0.0479 - acc: 0.9854\n",
      "Epoch 3/5\n",
      "60000/60000 [==============================] - 53s 888us/step - loss: 0.0330 - acc: 0.9900\n",
      "Epoch 4/5\n",
      "60000/60000 [==============================] - 53s 887us/step - loss: 0.0249 - acc: 0.9923\n",
      "Epoch 5/5\n",
      "60000/60000 [==============================] - 54s 893us/step - loss: 0.0198 - acc: 0.9941\n"
     ]
    },
    {
     "data": {
      "text/plain": [
       "<keras.callbacks.History at 0x17e0e69c940>"
      ]
     },
     "execution_count": 6,
     "metadata": {},
     "output_type": "execute_result"
    }
   ],
   "source": [
    "from keras.datasets import mnist\n",
    "from keras.utils import to_categorical\n",
    "\n",
    "(train_images, train_labels) , (test_images, test_labels) = mnist.load_data()\n",
    "\n",
    "train_images = train_images.reshape((60000,28,28,1))\n",
    "train_images = train_images.astype('float32')/255\n",
    "\n",
    "test_images = test_images.reshape((10000,28,28,1))\n",
    "test_images = test_images.astype('float32')/255\n",
    "\n",
    "train_labels = to_categorical(train_labels)\n",
    "test_labels = to_categorical(test_labels)\n",
    "\n",
    "model_1.compile(optimizer='rmsprop',\n",
    "               loss='categorical_crossentropy',\n",
    "               metrics=['accuracy'])\n",
    "model_1.fit(train_images,train_labels,epochs=5,batch_size=64)"
   ]
  },
  {
   "cell_type": "code",
   "execution_count": 7,
   "metadata": {
    "ExecuteTime": {
     "end_time": "2019-07-07T13:48:26.833706Z",
     "start_time": "2019-07-07T13:48:23.788779Z"
    }
   },
   "outputs": [
    {
     "name": "stdout",
     "output_type": "stream",
     "text": [
      "10000/10000 [==============================] - 3s 303us/step\n"
     ]
    }
   ],
   "source": [
    "test_loss,test_acc = model_1.evaluate(test_images,test_labels)"
   ]
  },
  {
   "cell_type": "code",
   "execution_count": 8,
   "metadata": {
    "ExecuteTime": {
     "end_time": "2019-07-07T13:48:26.912495Z",
     "start_time": "2019-07-07T13:48:26.898533Z"
    }
   },
   "outputs": [
    {
     "data": {
      "text/plain": [
       "0.9906"
      ]
     },
     "execution_count": 8,
     "metadata": {},
     "output_type": "execute_result"
    }
   ],
   "source": [
    "test_acc"
   ]
  },
  {
   "cell_type": "markdown",
   "metadata": {},
   "source": [
    "## 在小型数据集上从头开始训练一个卷积神经网络"
   ]
  },
  {
   "cell_type": "markdown",
   "metadata": {},
   "source": [
    "### 深度学习与小数据问题的相关性"
   ]
  },
  {
   "cell_type": "markdown",
   "metadata": {},
   "source": [
    "### 下载数据"
   ]
  },
  {
   "cell_type": "markdown",
   "metadata": {},
   "source": [
    "### 构建网络"
   ]
  },
  {
   "cell_type": "code",
   "execution_count": 9,
   "metadata": {
    "ExecuteTime": {
     "end_time": "2019-07-08T15:02:59.853407Z",
     "start_time": "2019-07-08T15:02:59.658917Z"
    },
    "collapsed": true
   },
   "outputs": [],
   "source": [
    "# 将猫狗分类的小型卷积神经网络实例化\n",
    "model_2 = models.Sequential()\n",
    "model_2.add(layers.Conv2D(32,(3,3),activation='relu',input_shape = (150,150,3)))\n",
    "model_2.add(layers.MaxPool2D((2,2)))\n",
    "model_2.add(layers.Conv2D(64,(3,3),activation='relu'))\n",
    "model_2.add(layers.MaxPool2D((2,2)))\n",
    "model_2.add(layers.Conv2D(128,(3,3),activation='relu'))\n",
    "model_2.add(layers.MaxPool2D((2,2)))\n",
    "model_2.add(layers.Conv2D(128,(3,3),activation='relu'))\n",
    "model_2.add(layers.MaxPool2D((2,2)))\n",
    "model_2.add(layers.Flatten())\n",
    "model_2.add(layers.Dense(512,activation='relu'))\n",
    "model_2.add(layers.Dense(1,activation='sigmoid'))"
   ]
  },
  {
   "cell_type": "code",
   "execution_count": 10,
   "metadata": {
    "ExecuteTime": {
     "end_time": "2019-07-08T15:03:11.866809Z",
     "start_time": "2019-07-08T15:03:11.858795Z"
    }
   },
   "outputs": [
    {
     "name": "stdout",
     "output_type": "stream",
     "text": [
      "_________________________________________________________________\n",
      "Layer (type)                 Output Shape              Param #   \n",
      "=================================================================\n",
      "conv2d_4 (Conv2D)            (None, 148, 148, 32)      896       \n",
      "_________________________________________________________________\n",
      "max_pooling2d_3 (MaxPooling2 (None, 74, 74, 32)        0         \n",
      "_________________________________________________________________\n",
      "conv2d_5 (Conv2D)            (None, 72, 72, 64)        18496     \n",
      "_________________________________________________________________\n",
      "max_pooling2d_4 (MaxPooling2 (None, 36, 36, 64)        0         \n",
      "_________________________________________________________________\n",
      "conv2d_6 (Conv2D)            (None, 34, 34, 128)       73856     \n",
      "_________________________________________________________________\n",
      "max_pooling2d_5 (MaxPooling2 (None, 17, 17, 128)       0         \n",
      "_________________________________________________________________\n",
      "conv2d_7 (Conv2D)            (None, 15, 15, 128)       147584    \n",
      "_________________________________________________________________\n",
      "max_pooling2d_6 (MaxPooling2 (None, 7, 7, 128)         0         \n",
      "_________________________________________________________________\n",
      "flatten_2 (Flatten)          (None, 6272)              0         \n",
      "_________________________________________________________________\n",
      "dense_3 (Dense)              (None, 512)               3211776   \n",
      "_________________________________________________________________\n",
      "dense_4 (Dense)              (None, 1)                 513       \n",
      "=================================================================\n",
      "Total params: 3,453,121\n",
      "Trainable params: 3,453,121\n",
      "Non-trainable params: 0\n",
      "_________________________________________________________________\n"
     ]
    }
   ],
   "source": [
    "model_2.summary()"
   ]
  },
  {
   "cell_type": "code",
   "execution_count": 11,
   "metadata": {
    "ExecuteTime": {
     "end_time": "2019-07-08T15:05:24.661599Z",
     "start_time": "2019-07-08T15:05:24.584805Z"
    },
    "collapsed": true
   },
   "outputs": [],
   "source": [
    "from keras import optimizers\n",
    "\n",
    "model_2.compile(loss='binary_crossentropy',\n",
    "               optimizer=optimizers.RMSprop(lr=1e-4),\n",
    "               metrics=['acc'])"
   ]
  },
  {
   "cell_type": "markdown",
   "metadata": {},
   "source": [
    "### 数据预处理"
   ]
  },
  {
   "cell_type": "code",
   "execution_count": 15,
   "metadata": {
    "ExecuteTime": {
     "end_time": "2019-07-08T15:53:29.233772Z",
     "start_time": "2019-07-08T15:53:28.898427Z"
    }
   },
   "outputs": [
    {
     "name": "stdout",
     "output_type": "stream",
     "text": [
      "Found 2000 images belonging to 2 classes.\n",
      "Found 1000 images belonging to 2 classes.\n"
     ]
    }
   ],
   "source": [
    "# 使用ImageDataGenerator从目录中读取图像\n",
    "from keras.preprocessing.image import ImageDataGenerator\n",
    "\n",
    "train_datagen = ImageDataGenerator(rescale = 1./255)\n",
    "test_datagen = ImageDataGenerator(rescale = 1./255)\n",
    "\n",
    "train_dir = './data/dogs_vs_cats_small/train/'\n",
    "validation_dir = './data/dogs_vs_cats_small/validation/'\n",
    "\n",
    "train_generator = train_datagen.flow_from_directory(train_dir,\n",
    "                                                  target_size=(150,150),\n",
    "                                                  batch_size=20,\n",
    "                                                  class_mode='binary')\n",
    "\n",
    "validation_generator = test_datagen.flow_from_directory(validation_dir,\n",
    "                                                  target_size=(150,150),\n",
    "                                                  batch_size=20,\n",
    "                                                  class_mode='binary')"
   ]
  },
  {
   "cell_type": "code",
   "execution_count": 16,
   "metadata": {
    "ExecuteTime": {
     "end_time": "2019-07-08T16:46:22.674141Z",
     "start_time": "2019-07-08T15:53:30.316983Z"
    }
   },
   "outputs": [
    {
     "name": "stdout",
     "output_type": "stream",
     "text": [
      "Epoch 1/30\n",
      "100/100 [==============================] - 108s 1s/step - loss: 0.6963 - acc: 0.5375 - val_loss: 0.6754 - val_acc: 0.6330\n",
      "Epoch 2/30\n",
      "100/100 [==============================] - 107s 1s/step - loss: 0.6637 - acc: 0.6080 - val_loss: 0.6846 - val_acc: 0.5520\n",
      "Epoch 3/30\n",
      "100/100 [==============================] - 105s 1s/step - loss: 0.6203 - acc: 0.6695 - val_loss: 0.6322 - val_acc: 0.6410\n",
      "Epoch 4/30\n",
      "100/100 [==============================] - 106s 1s/step - loss: 0.5736 - acc: 0.7085 - val_loss: 0.5914 - val_acc: 0.6800\n",
      "Epoch 5/30\n",
      "100/100 [==============================] - 105s 1s/step - loss: 0.5462 - acc: 0.7210 - val_loss: 0.5948 - val_acc: 0.6800\n",
      "Epoch 6/30\n",
      "100/100 [==============================] - 105s 1s/step - loss: 0.5212 - acc: 0.7365 - val_loss: 0.6026 - val_acc: 0.6740\n",
      "Epoch 7/30\n",
      "100/100 [==============================] - 105s 1s/step - loss: 0.4833 - acc: 0.7665 - val_loss: 0.5882 - val_acc: 0.6980\n",
      "Epoch 8/30\n",
      "100/100 [==============================] - 105s 1s/step - loss: 0.4656 - acc: 0.7710 - val_loss: 0.5777 - val_acc: 0.6980\n",
      "Epoch 9/30\n",
      "100/100 [==============================] - 106s 1s/step - loss: 0.4386 - acc: 0.7990 - val_loss: 0.5591 - val_acc: 0.7120\n",
      "Epoch 10/30\n",
      "100/100 [==============================] - 105s 1s/step - loss: 0.4153 - acc: 0.8070 - val_loss: 0.5550 - val_acc: 0.7220\n",
      "Epoch 11/30\n",
      "100/100 [==============================] - 105s 1s/step - loss: 0.3872 - acc: 0.8285 - val_loss: 0.5549 - val_acc: 0.7210\n",
      "Epoch 12/30\n",
      "100/100 [==============================] - 105s 1s/step - loss: 0.3549 - acc: 0.8450 - val_loss: 0.5716 - val_acc: 0.7160\n",
      "Epoch 13/30\n",
      "100/100 [==============================] - 105s 1s/step - loss: 0.3289 - acc: 0.8620 - val_loss: 0.6052 - val_acc: 0.7020\n",
      "Epoch 14/30\n",
      "100/100 [==============================] - 105s 1s/step - loss: 0.3006 - acc: 0.8825 - val_loss: 0.5870 - val_acc: 0.7260\n",
      "Epoch 15/30\n",
      "100/100 [==============================] - 105s 1s/step - loss: 0.2784 - acc: 0.8805 - val_loss: 0.6117 - val_acc: 0.7130\n",
      "Epoch 16/30\n",
      "100/100 [==============================] - 105s 1s/step - loss: 0.2596 - acc: 0.8940 - val_loss: 0.6904 - val_acc: 0.6910\n",
      "Epoch 17/30\n",
      "100/100 [==============================] - 105s 1s/step - loss: 0.2394 - acc: 0.9090 - val_loss: 0.6220 - val_acc: 0.7200\n",
      "Epoch 18/30\n",
      "100/100 [==============================] - 107s 1s/step - loss: 0.2090 - acc: 0.9205 - val_loss: 0.6912 - val_acc: 0.7220\n",
      "Epoch 19/30\n",
      "100/100 [==============================] - 105s 1s/step - loss: 0.1943 - acc: 0.9280 - val_loss: 0.8400 - val_acc: 0.7000\n",
      "Epoch 20/30\n",
      "100/100 [==============================] - 105s 1s/step - loss: 0.1741 - acc: 0.9400 - val_loss: 0.8333 - val_acc: 0.7150\n",
      "Epoch 21/30\n",
      "100/100 [==============================] - 105s 1s/step - loss: 0.1485 - acc: 0.9440 - val_loss: 0.9464 - val_acc: 0.6820\n",
      "Epoch 22/30\n",
      "100/100 [==============================] - 105s 1s/step - loss: 0.1346 - acc: 0.9505 - val_loss: 0.7991 - val_acc: 0.7020\n",
      "Epoch 23/30\n",
      "100/100 [==============================] - 105s 1s/step - loss: 0.1119 - acc: 0.9645 - val_loss: 0.7915 - val_acc: 0.7330\n",
      "Epoch 24/30\n",
      "100/100 [==============================] - 105s 1s/step - loss: 0.0963 - acc: 0.9670 - val_loss: 0.8964 - val_acc: 0.7160\n",
      "Epoch 25/30\n",
      "100/100 [==============================] - 105s 1s/step - loss: 0.0918 - acc: 0.9705 - val_loss: 0.8963 - val_acc: 0.7110\n",
      "Epoch 26/30\n",
      "100/100 [==============================] - 105s 1s/step - loss: 0.0771 - acc: 0.9755 - val_loss: 0.9052 - val_acc: 0.7250\n",
      "Epoch 27/30\n",
      "100/100 [==============================] - 105s 1s/step - loss: 0.0593 - acc: 0.9840 - val_loss: 1.0733 - val_acc: 0.6990\n",
      "Epoch 28/30\n",
      "100/100 [==============================] - 105s 1s/step - loss: 0.0527 - acc: 0.9860 - val_loss: 0.9528 - val_acc: 0.7280\n",
      "Epoch 29/30\n",
      "100/100 [==============================] - 109s 1s/step - loss: 0.0414 - acc: 0.9910 - val_loss: 1.0509 - val_acc: 0.7170\n",
      "Epoch 30/30\n",
      "100/100 [==============================] - 119s 1s/step - loss: 0.0480 - acc: 0.9860 - val_loss: 1.4922 - val_acc: 0.6650\n"
     ]
    }
   ],
   "source": [
    "# 利用批量生成器拟合模型\n",
    "history_2 = model_2.fit_generator(train_generator,\n",
    "                                 steps_per_epoch=100,\n",
    "                                 epochs=30,\n",
    "                                 validation_data=validation_generator,\n",
    "                                 validation_steps=50)"
   ]
  },
  {
   "cell_type": "code",
   "execution_count": 17,
   "metadata": {
    "ExecuteTime": {
     "end_time": "2019-07-08T16:46:23.535848Z",
     "start_time": "2019-07-08T16:46:22.755922Z"
    },
    "collapsed": true
   },
   "outputs": [],
   "source": [
    "# 保存模型\n",
    "model_2.save('./model/ch05/dogs_vs_cats_small_1.h5')"
   ]
  },
  {
   "cell_type": "code",
   "execution_count": 19,
   "metadata": {
    "ExecuteTime": {
     "end_time": "2019-07-08T23:29:21.668561Z",
     "start_time": "2019-07-08T23:29:20.768827Z"
    }
   },
   "outputs": [
    {
     "data": {
      "image/png": "[encoded data removed]",
      "text/plain": [
       "<matplotlib.figure.Figure at 0x17e10d5a0b8>"
      ]
     },
     "metadata": {},
     "output_type": "display_data"
    },
    {
     "data": {
      "image/png": "[encoded data removed]",
      "text/plain": [
       "<matplotlib.figure.Figure at 0x17e025684a8>"
      ]
     },
     "metadata": {},
     "output_type": "display_data"
    },
    {
     "data": {
      "image/png": "[encoded data removed]",
      "text/plain": [
       "<matplotlib.figure.Figure at 0x17e116b46d8>"
      ]
     },
     "metadata": {},
     "output_type": "display_data"
    },
    {
     "data": {
      "image/png": "[encoded data removed]",
      "text/plain": [
       "<matplotlib.figure.Figure at 0x17e1189c048>"
      ]
     },
     "metadata": {},
     "output_type": "display_data"
    }
   ],
   "source": [
    "# 绘制训练过程中的损失曲线和精度曲线\n",
    "import matplotlib.pyplot as plt\n",
    "\n",
    "acc = history_2.history['acc']\n",
    "val_acc = history_2.history['val_acc']\n",
    "loss = history_2.history['loss']\n",
    "val_loss = history_2.history['val_loss']\n",
    "\n",
    "epochs = range(1,len(acc)+1)\n",
    "\n",
    "plt.plot(epochs,acc,'bo',label='Training acc')\n",
    "plt.plot(epochs,val_acc,'b',label='Validation acc')\n",
    "plt.title('Training and validation accuracy')\n",
    "plt.legend()\n",
    "\n",
    "plt.figure()\n",
    "\n",
    "plt.plot(epochs,loss,'bo',label='Training loss')\n",
    "plt.plot(epochs,val_loss,'b',label='Validation loss')\n",
    "plt.title('Training and validation loss')\n",
    "plt.legend()\n",
    "\n",
    "plt.show()"
   ]
  },
  {
   "cell_type": "markdown",
   "metadata": {},
   "source": [
    "### 使用数据增强"
   ]
  },
  {
   "cell_type": "code",
   "execution_count": 23,
   "metadata": {
    "ExecuteTime": {
     "end_time": "2019-07-08T23:57:26.136677Z",
     "start_time": "2019-07-08T23:57:26.130684Z"
    },
    "collapsed": true
   },
   "outputs": [],
   "source": [
    "# 利用ImageDataGenerator来设置数据增强\n",
    "datagen = ImageDataGenerator(rotation_range=40,\n",
    "                           width_shift_range=0.2,\n",
    "                           height_shift_range=0.2,\n",
    "                           shear_range=0.2,\n",
    "                           zoom_range=0.2,\n",
    "                           horizontal_flip=True,\n",
    "                           fill_mode='nearest')"
   ]
  },
  {
   "cell_type": "code",
   "execution_count": 24,
   "metadata": {
    "ExecuteTime": {
     "end_time": "2019-07-08T23:57:28.647389Z",
     "start_time": "2019-07-08T23:57:28.393048Z"
    },
    "collapsed": true
   },
   "outputs": [],
   "source": [
    "# 定义一个包含dropout的新卷积神经网络\n",
    "from keras.preprocessing import image\n",
    "\n",
    "model_3 = models.Sequential()\n",
    "model_3.add(layers.Conv2D(32,(3,3),activation='relu',input_shape=(150,150,3)))\n",
    "model_3.add(layers.MaxPool2D((2,2)))\n",
    "model_3.add(layers.Conv2D(64,(3,3),activation='relu'))\n",
    "model_3.add(layers.MaxPool2D((2,2)))\n",
    "model_3.add(layers.Conv2D(128,(3,3),activation='relu'))\n",
    "model_3.add(layers.MaxPool2D((2,2)))\n",
    "model_3.add(layers.Conv2D(128,(3,3),activation='relu'))\n",
    "model_3.add(layers.MaxPool2D((2,2)))\n",
    "model_3.add(layers.Flatten())\n",
    "model_3.add(layers.Dropout(0.5))\n",
    "model_3.add(layers.Dense(512,activation='relu'))\n",
    "model_3.add(layers.Dense(1,activation='sigmoid'))\n",
    "\n",
    "model_3.compile(loss='binary_crossentropy',\n",
    "               optimizer = optimizers.RMSprop(lr=1e-4),\n",
    "               metrics=['acc'])"
   ]
  },
  {
   "cell_type": "code",
   "execution_count": 25,
   "metadata": {
    "ExecuteTime": {
     "end_time": "2019-07-09T04:45:39.164276Z",
     "start_time": "2019-07-09T00:04:05.805237Z"
    }
   },
   "outputs": [
    {
     "name": "stdout",
     "output_type": "stream",
     "text": [
      "Found 2000 images belonging to 2 classes.\n",
      "Found 1000 images belonging to 2 classes.\n",
      "Epoch 1/100\n",
      "100/100 [==============================] - 171s 2s/step - loss: 0.6930 - acc: 0.5213 - val_loss: 0.6816 - val_acc: 0.5482\n",
      "Epoch 2/100\n",
      "100/100 [==============================] - 166s 2s/step - loss: 0.6806 - acc: 0.5606 - val_loss: 0.6625 - val_acc: 0.5838\n",
      "Epoch 3/100\n",
      "100/100 [==============================] - 166s 2s/step - loss: 0.6672 - acc: 0.5916 - val_loss: 0.6535 - val_acc: 0.6091\n",
      "Epoch 4/100\n",
      "100/100 [==============================] - 166s 2s/step - loss: 0.6553 - acc: 0.6134 - val_loss: 0.6414 - val_acc: 0.6295\n",
      "Epoch 5/100\n",
      "100/100 [==============================] - 167s 2s/step - loss: 0.6387 - acc: 0.6275 - val_loss: 0.6118 - val_acc: 0.6631\n",
      "Epoch 6/100\n",
      "100/100 [==============================] - 165s 2s/step - loss: 0.6228 - acc: 0.6556 - val_loss: 0.6074 - val_acc: 0.6688\n",
      "Epoch 7/100\n",
      "100/100 [==============================] - 167s 2s/step - loss: 0.6178 - acc: 0.6600 - val_loss: 0.5776 - val_acc: 0.7011\n",
      "Epoch 8/100\n",
      "100/100 [==============================] - 166s 2s/step - loss: 0.6003 - acc: 0.6750 - val_loss: 0.6113 - val_acc: 0.6488\n",
      "Epoch 9/100\n",
      "100/100 [==============================] - 165s 2s/step - loss: 0.5983 - acc: 0.6728 - val_loss: 0.5834 - val_acc: 0.6695\n",
      "Epoch 10/100\n",
      "100/100 [==============================] - 166s 2s/step - loss: 0.5852 - acc: 0.6891 - val_loss: 0.5582 - val_acc: 0.7024\n",
      "Epoch 11/100\n",
      "100/100 [==============================] - 166s 2s/step - loss: 0.5788 - acc: 0.6966 - val_loss: 0.5497 - val_acc: 0.7146\n",
      "Epoch 12/100\n",
      "100/100 [==============================] - 166s 2s/step - loss: 0.5725 - acc: 0.7000 - val_loss: 0.5421 - val_acc: 0.7183\n",
      "Epoch 13/100\n",
      "100/100 [==============================] - 165s 2s/step - loss: 0.5742 - acc: 0.7009 - val_loss: 0.5264 - val_acc: 0.7326\n",
      "Epoch 14/100\n",
      "100/100 [==============================] - 165s 2s/step - loss: 0.5590 - acc: 0.7088 - val_loss: 0.5691 - val_acc: 0.7069\n",
      "Epoch 15/100\n",
      "100/100 [==============================] - 165s 2s/step - loss: 0.5654 - acc: 0.7022 - val_loss: 0.5228 - val_acc: 0.7262\n",
      "Epoch 16/100\n",
      "100/100 [==============================] - 164s 2s/step - loss: 0.5619 - acc: 0.7041 - val_loss: 0.5295 - val_acc: 0.7307\n",
      "Epoch 17/100\n",
      "100/100 [==============================] - 166s 2s/step - loss: 0.5435 - acc: 0.7200 - val_loss: 0.5193 - val_acc: 0.7322\n",
      "Epoch 18/100\n",
      "100/100 [==============================] - 170s 2s/step - loss: 0.5346 - acc: 0.7259 - val_loss: 0.5026 - val_acc: 0.7506\n",
      "Epoch 19/100\n",
      "100/100 [==============================] - 166s 2s/step - loss: 0.5478 - acc: 0.7194 - val_loss: 0.5261 - val_acc: 0.7253\n",
      "Epoch 20/100\n",
      "100/100 [==============================] - 165s 2s/step - loss: 0.5380 - acc: 0.7278 - val_loss: 0.4918 - val_acc: 0.7635\n",
      "Epoch 21/100\n",
      "100/100 [==============================] - 165s 2s/step - loss: 0.5300 - acc: 0.7281 - val_loss: 0.5408 - val_acc: 0.7157\n",
      "Epoch 22/100\n",
      "100/100 [==============================] - 171s 2s/step - loss: 0.5226 - acc: 0.7419 - val_loss: 0.5311 - val_acc: 0.7287\n",
      "Epoch 23/100\n",
      "100/100 [==============================] - 165s 2s/step - loss: 0.5084 - acc: 0.7519 - val_loss: 0.4902 - val_acc: 0.7525\n",
      "Epoch 24/100\n",
      "100/100 [==============================] - 164s 2s/step - loss: 0.5215 - acc: 0.7490 - val_loss: 0.5769 - val_acc: 0.6959\n",
      "Epoch 25/100\n",
      "100/100 [==============================] - 193s 2s/step - loss: 0.5128 - acc: 0.7478 - val_loss: 0.5022 - val_acc: 0.7532\n",
      "Epoch 26/100\n",
      "100/100 [==============================] - 174s 2s/step - loss: 0.4993 - acc: 0.7519 - val_loss: 0.5448 - val_acc: 0.7246\n",
      "Epoch 27/100\n",
      "100/100 [==============================] - 166s 2s/step - loss: 0.5038 - acc: 0.7538 - val_loss: 0.4677 - val_acc: 0.7726\n",
      "Epoch 28/100\n",
      "100/100 [==============================] - 172s 2s/step - loss: 0.5031 - acc: 0.7491 - val_loss: 0.5592 - val_acc: 0.7132\n",
      "Epoch 29/100\n",
      "100/100 [==============================] - 167s 2s/step - loss: 0.4964 - acc: 0.7675 - val_loss: 0.4855 - val_acc: 0.7558\n",
      "Epoch 30/100\n",
      "100/100 [==============================] - 166s 2s/step - loss: 0.4909 - acc: 0.7691 - val_loss: 0.4719 - val_acc: 0.7741\n",
      "Epoch 31/100\n",
      "100/100 [==============================] - 164s 2s/step - loss: 0.4854 - acc: 0.7619 - val_loss: 0.4864 - val_acc: 0.7661\n",
      "Epoch 32/100\n",
      "100/100 [==============================] - 165s 2s/step - loss: 0.4872 - acc: 0.7587 - val_loss: 0.4740 - val_acc: 0.7577\n",
      "Epoch 33/100\n",
      "100/100 [==============================] - 164s 2s/step - loss: 0.4863 - acc: 0.7619 - val_loss: 0.4659 - val_acc: 0.7703\n",
      "Epoch 34/100\n",
      "100/100 [==============================] - 165s 2s/step - loss: 0.4879 - acc: 0.7603 - val_loss: 0.4589 - val_acc: 0.7758\n",
      "Epoch 35/100\n",
      "100/100 [==============================] - 165s 2s/step - loss: 0.4718 - acc: 0.7703 - val_loss: 0.5612 - val_acc: 0.7297\n",
      "Epoch 36/100\n",
      "100/100 [==============================] - 164s 2s/step - loss: 0.4745 - acc: 0.7747 - val_loss: 0.4663 - val_acc: 0.7758\n",
      "Epoch 37/100\n",
      "100/100 [==============================] - 165s 2s/step - loss: 0.4700 - acc: 0.7781 - val_loss: 0.4325 - val_acc: 0.7919\n",
      "Epoch 38/100\n",
      "100/100 [==============================] - 164s 2s/step - loss: 0.4617 - acc: 0.7866 - val_loss: 0.4644 - val_acc: 0.7777\n",
      "Epoch 39/100\n",
      "100/100 [==============================] - 181s 2s/step - loss: 0.4715 - acc: 0.7781 - val_loss: 0.4542 - val_acc: 0.7944\n",
      "Epoch 40/100\n",
      "100/100 [==============================] - 179s 2s/step - loss: 0.4591 - acc: 0.7900 - val_loss: 0.5202 - val_acc: 0.7500\n",
      "Epoch 41/100\n",
      "100/100 [==============================] - 183s 2s/step - loss: 0.4608 - acc: 0.7781 - val_loss: 0.4715 - val_acc: 0.7738\n",
      "Epoch 42/100\n",
      "100/100 [==============================] - 170s 2s/step - loss: 0.4642 - acc: 0.7787 - val_loss: 0.4561 - val_acc: 0.7855\n",
      "Epoch 43/100\n",
      "100/100 [==============================] - 178s 2s/step - loss: 0.4534 - acc: 0.7850 - val_loss: 0.4495 - val_acc: 0.7777\n",
      "Epoch 44/100\n",
      "100/100 [==============================] - 173s 2s/step - loss: 0.4565 - acc: 0.7841 - val_loss: 0.4483 - val_acc: 0.7919\n",
      "Epoch 45/100\n",
      "100/100 [==============================] - 172s 2s/step - loss: 0.4471 - acc: 0.7928 - val_loss: 0.4524 - val_acc: 0.7738\n",
      "Epoch 46/100\n",
      "100/100 [==============================] - 173s 2s/step - loss: 0.4398 - acc: 0.7881 - val_loss: 0.4793 - val_acc: 0.7773\n",
      "Epoch 47/100\n",
      "100/100 [==============================] - 181s 2s/step - loss: 0.4423 - acc: 0.7916 - val_loss: 0.4513 - val_acc: 0.7848\n",
      "Epoch 48/100\n",
      "100/100 [==============================] - 173s 2s/step - loss: 0.4368 - acc: 0.8028 - val_loss: 0.4378 - val_acc: 0.7899\n",
      "Epoch 49/100\n",
      "100/100 [==============================] - 175s 2s/step - loss: 0.4552 - acc: 0.7806 - val_loss: 0.4739 - val_acc: 0.7640\n",
      "Epoch 50/100\n",
      "100/100 [==============================] - 177s 2s/step - loss: 0.4426 - acc: 0.7900 - val_loss: 0.5129 - val_acc: 0.7539\n",
      "Epoch 51/100\n",
      "100/100 [==============================] - 178s 2s/step - loss: 0.4305 - acc: 0.7987 - val_loss: 0.4209 - val_acc: 0.8103\n",
      "Epoch 52/100\n",
      "100/100 [==============================] - 174s 2s/step - loss: 0.4329 - acc: 0.8013 - val_loss: 0.4371 - val_acc: 0.8041\n",
      "Epoch 53/100\n",
      "100/100 [==============================] - 177s 2s/step - loss: 0.4227 - acc: 0.8000 - val_loss: 0.4595 - val_acc: 0.7805\n",
      "Epoch 54/100\n",
      "100/100 [==============================] - 167s 2s/step - loss: 0.4354 - acc: 0.7966 - val_loss: 0.5155 - val_acc: 0.7771\n",
      "Epoch 55/100\n",
      "100/100 [==============================] - 167s 2s/step - loss: 0.4367 - acc: 0.7916 - val_loss: 0.4191 - val_acc: 0.8077\n",
      "Epoch 56/100\n",
      "100/100 [==============================] - 167s 2s/step - loss: 0.4202 - acc: 0.8072 - val_loss: 0.4775 - val_acc: 0.7738\n",
      "Epoch 57/100\n",
      "100/100 [==============================] - 167s 2s/step - loss: 0.4284 - acc: 0.8000 - val_loss: 0.4816 - val_acc: 0.7816\n",
      "Epoch 58/100\n",
      "100/100 [==============================] - 167s 2s/step - loss: 0.4124 - acc: 0.8053 - val_loss: 0.4420 - val_acc: 0.7900\n",
      "Epoch 59/100\n",
      "100/100 [==============================] - 171s 2s/step - loss: 0.4244 - acc: 0.7991 - val_loss: 0.4431 - val_acc: 0.7925\n",
      "Epoch 60/100\n",
      "100/100 [==============================] - 189s 2s/step - loss: 0.4171 - acc: 0.7994 - val_loss: 0.5255 - val_acc: 0.7595\n",
      "Epoch 61/100\n",
      "100/100 [==============================] - 174s 2s/step - loss: 0.4188 - acc: 0.8100 - val_loss: 0.4330 - val_acc: 0.8041\n",
      "Epoch 62/100\n",
      "100/100 [==============================] - 190s 2s/step - loss: 0.4101 - acc: 0.8156 - val_loss: 0.4515 - val_acc: 0.7843\n",
      "Epoch 63/100\n",
      "100/100 [==============================] - 173s 2s/step - loss: 0.4058 - acc: 0.8222 - val_loss: 0.4863 - val_acc: 0.7796\n",
      "Epoch 64/100\n",
      "100/100 [==============================] - 166s 2s/step - loss: 0.4035 - acc: 0.8138 - val_loss: 0.4758 - val_acc: 0.7777\n",
      "Epoch 65/100\n",
      "100/100 [==============================] - 166s 2s/step - loss: 0.4069 - acc: 0.8191 - val_loss: 0.4547 - val_acc: 0.7811\n",
      "Epoch 66/100\n",
      "100/100 [==============================] - 163s 2s/step - loss: 0.4074 - acc: 0.8106 - val_loss: 0.4117 - val_acc: 0.8157\n",
      "Epoch 67/100\n",
      "100/100 [==============================] - 167s 2s/step - loss: 0.4085 - acc: 0.8150 - val_loss: 0.4642 - val_acc: 0.7906\n",
      "Epoch 68/100\n",
      "100/100 [==============================] - 163s 2s/step - loss: 0.4115 - acc: 0.8088 - val_loss: 0.5151 - val_acc: 0.7494\n",
      "Epoch 69/100\n",
      "100/100 [==============================] - 166s 2s/step - loss: 0.4085 - acc: 0.8128 - val_loss: 0.4157 - val_acc: 0.8115\n",
      "Epoch 70/100\n",
      "100/100 [==============================] - 171s 2s/step - loss: 0.3875 - acc: 0.8241 - val_loss: 0.4435 - val_acc: 0.8073\n",
      "Epoch 71/100\n",
      "100/100 [==============================] - 184s 2s/step - loss: 0.3915 - acc: 0.8253 - val_loss: 0.4614 - val_acc: 0.8046\n",
      "Epoch 72/100\n",
      "100/100 [==============================] - 179s 2s/step - loss: 0.3962 - acc: 0.8209 - val_loss: 0.4128 - val_acc: 0.8189\n",
      "Epoch 73/100\n",
      "100/100 [==============================] - 164s 2s/step - loss: 0.3949 - acc: 0.8263 - val_loss: 0.4166 - val_acc: 0.8106\n",
      "Epoch 74/100\n",
      "100/100 [==============================] - 163s 2s/step - loss: 0.3850 - acc: 0.8241 - val_loss: 0.4378 - val_acc: 0.8071\n",
      "Epoch 75/100\n",
      "100/100 [==============================] - 163s 2s/step - loss: 0.3938 - acc: 0.8216 - val_loss: 0.4766 - val_acc: 0.7861\n",
      "Epoch 76/100\n",
      "100/100 [==============================] - 164s 2s/step - loss: 0.3878 - acc: 0.8253 - val_loss: 0.4074 - val_acc: 0.8198\n",
      "Epoch 77/100\n",
      "100/100 [==============================] - 166s 2s/step - loss: 0.3712 - acc: 0.8366 - val_loss: 0.5217 - val_acc: 0.7829\n",
      "Epoch 78/100\n",
      "100/100 [==============================] - 188s 2s/step - loss: 0.3871 - acc: 0.8259 - val_loss: 0.4581 - val_acc: 0.7893\n",
      "Epoch 79/100\n",
      "100/100 [==============================] - 183s 2s/step - loss: 0.3820 - acc: 0.8309 - val_loss: 0.5180 - val_acc: 0.7680\n",
      "Epoch 80/100\n",
      "100/100 [==============================] - 171s 2s/step - loss: 0.3832 - acc: 0.8197 - val_loss: 0.4015 - val_acc: 0.8202\n",
      "Epoch 81/100\n",
      "100/100 [==============================] - 166s 2s/step - loss: 0.3666 - acc: 0.8350 - val_loss: 0.4092 - val_acc: 0.8090\n",
      "Epoch 82/100\n",
      "100/100 [==============================] - 163s 2s/step - loss: 0.3651 - acc: 0.8350 - val_loss: 0.4468 - val_acc: 0.8009\n",
      "Epoch 83/100\n",
      "100/100 [==============================] - 163s 2s/step - loss: 0.3709 - acc: 0.8406 - val_loss: 0.4177 - val_acc: 0.8274\n",
      "Epoch 84/100\n",
      "100/100 [==============================] - 162s 2s/step - loss: 0.3589 - acc: 0.8425 - val_loss: 0.4193 - val_acc: 0.8202\n",
      "Epoch 85/100\n",
      "100/100 [==============================] - 164s 2s/step - loss: 0.3684 - acc: 0.8409 - val_loss: 0.4222 - val_acc: 0.8217\n",
      "Epoch 86/100\n",
      "100/100 [==============================] - 163s 2s/step - loss: 0.3658 - acc: 0.8372 - val_loss: 0.4240 - val_acc: 0.8125\n",
      "Epoch 87/100\n",
      "100/100 [==============================] - 163s 2s/step - loss: 0.3546 - acc: 0.8481 - val_loss: 0.4319 - val_acc: 0.8103\n",
      "Epoch 88/100\n",
      "100/100 [==============================] - 163s 2s/step - loss: 0.3646 - acc: 0.8394 - val_loss: 0.4238 - val_acc: 0.8151\n",
      "Epoch 89/100\n",
      "100/100 [==============================] - 163s 2s/step - loss: 0.3642 - acc: 0.8344 - val_loss: 0.4233 - val_acc: 0.8131\n",
      "Epoch 90/100\n",
      "100/100 [==============================] - 164s 2s/step - loss: 0.3604 - acc: 0.8394 - val_loss: 0.4158 - val_acc: 0.8185\n",
      "Epoch 91/100\n",
      "100/100 [==============================] - 163s 2s/step - loss: 0.3499 - acc: 0.8541 - val_loss: 0.4572 - val_acc: 0.8009\n",
      "Epoch 92/100\n",
      "100/100 [==============================] - 165s 2s/step - loss: 0.3628 - acc: 0.8384 - val_loss: 0.4137 - val_acc: 0.8255\n",
      "Epoch 93/100\n",
      "100/100 [==============================] - 169s 2s/step - loss: 0.3527 - acc: 0.8466 - val_loss: 0.4171 - val_acc: 0.8144\n",
      "Epoch 94/100\n",
      "100/100 [==============================] - 172s 2s/step - loss: 0.3444 - acc: 0.8441 - val_loss: 0.4558 - val_acc: 0.8128\n",
      "Epoch 95/100\n",
      "100/100 [==============================] - 168s 2s/step - loss: 0.3609 - acc: 0.8391 - val_loss: 0.4320 - val_acc: 0.8106\n",
      "Epoch 96/100\n",
      "100/100 [==============================] - 164s 2s/step - loss: 0.3592 - acc: 0.8425 - val_loss: 0.4145 - val_acc: 0.8183\n",
      "Epoch 97/100\n",
      "100/100 [==============================] - 164s 2s/step - loss: 0.3520 - acc: 0.8369 - val_loss: 0.5288 - val_acc: 0.7900\n",
      "Epoch 98/100\n",
      "100/100 [==============================] - 163s 2s/step - loss: 0.3391 - acc: 0.8556 - val_loss: 0.4637 - val_acc: 0.8035\n",
      "Epoch 99/100\n",
      "100/100 [==============================] - 163s 2s/step - loss: 0.3476 - acc: 0.8450 - val_loss: 0.4496 - val_acc: 0.8141\n",
      "Epoch 100/100\n",
      "100/100 [==============================] - 164s 2s/step - loss: 0.3202 - acc: 0.8597 - val_loss: 0.3942 - val_acc: 0.8209\n"
     ]
    }
   ],
   "source": [
    "# 利用数据增强生成器训练卷积神经网络\n",
    "train_datagen_3 = ImageDataGenerator(rescale=1./255,\n",
    "                                  rotation_range=40,\n",
    "                                  width_shift_range=0.2,\n",
    "                                  height_shift_range=0.2,\n",
    "                                  shear_range=0.2,\n",
    "                                  zoom_range=0.2,\n",
    "                                  horizontal_flip=True,)\n",
    "\n",
    "test_datagen_3 = ImageDataGenerator(rescale=1./255)\n",
    "\n",
    "train_generator_3 = train_datagen_3.flow_from_directory(train_dir,\n",
    "                                                  target_size=(150,150),\n",
    "                                                  batch_size=32,\n",
    "                                                  class_mode='binary')\n",
    "\n",
    "validation_generator_3 = test_datagen_3.flow_from_directory(validation_dir,\n",
    "                                                  target_size=(150,150),\n",
    "                                                  batch_size=32,\n",
    "                                                  class_mode='binary')\n",
    "\n",
    "history_3 = model_3.fit_generator(train_generator_3,\n",
    "                                 steps_per_epoch=100,\n",
    "                                 epochs=100,\n",
    "                                 validation_data=validation_generator_3,\n",
    "                                 validation_steps=50)"
   ]
  },
  {
   "cell_type": "code",
   "execution_count": 26,
   "metadata": {
    "ExecuteTime": {
     "end_time": "2019-07-09T04:45:39.642038Z",
     "start_time": "2019-07-09T04:45:39.247046Z"
    },
    "collapsed": true
   },
   "outputs": [],
   "source": [
    "# 保存模型\n",
    "model_3.save('./model/ch05/dogs_vs_cats_small_2.h5')"
   ]
  },
  {
   "cell_type": "markdown",
   "metadata": {},
   "source": [
    "## 使用预训练的卷积神经网络"
   ]
  },
  {
   "cell_type": "markdown",
   "metadata": {},
   "source": [
    "### 特征提取"
   ]
  },
  {
   "cell_type": "code",
   "execution_count": 27,
   "metadata": {
    "ExecuteTime": {
     "end_time": "2019-07-10T01:48:05.140948Z",
     "start_time": "2019-07-10T01:47:05.989523Z"
    }
   },
   "outputs": [
    {
     "name": "stdout",
     "output_type": "stream",
     "text": [
      "Downloading data from https://github.com/fchollet/deep-learning-models/releases/download/v0.1/vgg16_weights_tf_dim_ordering_tf_kernels_notop.h5\n",
      "58892288/58889256 [==============================] - 55s 1us/step\n"
     ]
    }
   ],
   "source": [
    "# 将VGG16卷积基实例化\n",
    "from keras.applications import VGG16\n",
    "\n",
    "conv_base = VGG16(weights='imagenet',\n",
    "                 include_top= False,\n",
    "                 input_shape=(150,150,3))"
   ]
  },
  {
   "cell_type": "code",
   "execution_count": 28,
   "metadata": {
    "ExecuteTime": {
     "end_time": "2019-07-10T01:48:33.276508Z",
     "start_time": "2019-07-10T01:48:33.265502Z"
    }
   },
   "outputs": [
    {
     "name": "stdout",
     "output_type": "stream",
     "text": [
      "_________________________________________________________________\n",
      "Layer (type)                 Output Shape              Param #   \n",
      "=================================================================\n",
      "input_1 (InputLayer)         (None, 150, 150, 3)       0         \n",
      "_________________________________________________________________\n",
      "block1_conv1 (Conv2D)        (None, 150, 150, 64)      1792      \n",
      "_________________________________________________________________\n",
      "block1_conv2 (Conv2D)        (None, 150, 150, 64)      36928     \n",
      "_________________________________________________________________\n",
      "block1_pool (MaxPooling2D)   (None, 75, 75, 64)        0         \n",
      "_________________________________________________________________\n",
      "block2_conv1 (Conv2D)        (None, 75, 75, 128)       73856     \n",
      "_________________________________________________________________\n",
      "block2_conv2 (Conv2D)        (None, 75, 75, 128)       147584    \n",
      "_________________________________________________________________\n",
      "block2_pool (MaxPooling2D)   (None, 37, 37, 128)       0         \n",
      "_________________________________________________________________\n",
      "block3_conv1 (Conv2D)        (None, 37, 37, 256)       295168    \n",
      "_________________________________________________________________\n",
      "block3_conv2 (Conv2D)        (None, 37, 37, 256)       590080    \n",
      "_________________________________________________________________\n",
      "block3_conv3 (Conv2D)        (None, 37, 37, 256)       590080    \n",
      "_________________________________________________________________\n",
      "block3_pool (MaxPooling2D)   (None, 18, 18, 256)       0         \n",
      "_________________________________________________________________\n",
      "block4_conv1 (Conv2D)        (None, 18, 18, 512)       1180160   \n",
      "_________________________________________________________________\n",
      "block4_conv2 (Conv2D)        (None, 18, 18, 512)       2359808   \n",
      "_________________________________________________________________\n",
      "block4_conv3 (Conv2D)        (None, 18, 18, 512)       2359808   \n",
      "_________________________________________________________________\n",
      "block4_pool (MaxPooling2D)   (None, 9, 9, 512)         0         \n",
      "_________________________________________________________________\n",
      "block5_conv1 (Conv2D)        (None, 9, 9, 512)         2359808   \n",
      "_________________________________________________________________\n",
      "block5_conv2 (Conv2D)        (None, 9, 9, 512)         2359808   \n",
      "_________________________________________________________________\n",
      "block5_conv3 (Conv2D)        (None, 9, 9, 512)         2359808   \n",
      "_________________________________________________________________\n",
      "block5_pool (MaxPooling2D)   (None, 4, 4, 512)         0         \n",
      "=================================================================\n",
      "Total params: 14,714,688\n",
      "Trainable params: 14,714,688\n",
      "Non-trainable params: 0\n",
      "_________________________________________________________________\n"
     ]
    }
   ],
   "source": [
    "conv_base.summary()"
   ]
  },
  {
   "cell_type": "markdown",
   "metadata": {},
   "source": [
    "#### 不适用数据增强的快速特征提取"
   ]
  },
  {
   "cell_type": "markdown",
   "metadata": {},
   "source": [
    "优点： 方法速度快，计算代价低，只运行一次卷积基\n",
    "\n",
    "缺点：不允许使用数据增强"
   ]
  },
  {
   "cell_type": "code",
   "execution_count": 29,
   "metadata": {
    "ExecuteTime": {
     "end_time": "2019-07-10T02:35:46.739084Z",
     "start_time": "2019-07-10T02:21:27.791166Z"
    }
   },
   "outputs": [
    {
     "name": "stdout",
     "output_type": "stream",
     "text": [
      "Found 2000 images belonging to 2 classes.\n",
      "Found 1000 images belonging to 2 classes.\n",
      "Found 1000 images belonging to 2 classes.\n"
     ]
    }
   ],
   "source": [
    "# 使用预训练的卷积基提取特征\n",
    "import os \n",
    "import numpy as np\n",
    " \n",
    "base_dir = './data/dogs_vs_cats_small/'\n",
    "train_dir = os.path.join(base_dir,'train')\n",
    "validation_dir = os.path.join(base_dir,'validation')\n",
    "test_dir = os.path.join(base_dir,'test')\n",
    "\n",
    "datagen_4 = ImageDataGenerator(rescale=1./255)\n",
    "batch_size=20\n",
    "\n",
    "def extract_features(directory,sample_count):\n",
    "    features=np.zeros(shape=(sample_count,4,4,512))\n",
    "    labels = np.zeros(shape=(sample_count))\n",
    "    generator = datagen_4.flow_from_directory(directory,\n",
    "                                             target_size=(150,150),\n",
    "                                             batch_size=batch_size,\n",
    "                                             class_mode='binary')\n",
    "    i=0\n",
    "    for inputs_batch,labels_batch in generator:\n",
    "        features_batch = conv_base.predict(inputs_batch)\n",
    "        features[i*batch_size:(i+1)*batch_size] = features_batch\n",
    "        labels[i*batch_size:(i+1)*batch_size] = labels_batch\n",
    "        i+=1\n",
    "        if i*batch_size>=sample_count:\n",
    "            break\n",
    "    return features, labels\n",
    "\n",
    "train_features_4, train_labels_4 = extract_features(train_dir,2000)\n",
    "validation_features_4,validation_labels_4=extract_features(validation_dir,1000)\n",
    "test_features_4,test_labels_4=extract_features(test_dir,1000)"
   ]
  },
  {
   "cell_type": "code",
   "execution_count": 30,
   "metadata": {
    "ExecuteTime": {
     "end_time": "2019-07-10T02:41:44.837996Z",
     "start_time": "2019-07-10T02:41:44.833042Z"
    },
    "collapsed": true
   },
   "outputs": [],
   "source": [
    "train_features_4 = np.reshape(train_features_4,(2000,4*4*512))\n",
    "validation_features_4 = np.reshape(validation_features_4,(1000,4*4*512))\n",
    "test_features_4 = np.reshape(test_features_4,(1000,4*4*512))"
   ]
  },
  {
   "cell_type": "code",
   "execution_count": 31,
   "metadata": {
    "ExecuteTime": {
     "end_time": "2019-07-10T02:55:24.233757Z",
     "start_time": "2019-07-10T02:53:50.773687Z"
    }
   },
   "outputs": [
    {
     "name": "stdout",
     "output_type": "stream",
     "text": [
      "Train on 2000 samples, validate on 1000 samples\n",
      "Epoch 1/30\n",
      "2000/2000 [==============================] - 4s 2ms/step - loss: 0.6055 - acc: 0.6620 - val_loss: 0.4751 - val_acc: 0.7690\n",
      "Epoch 2/30\n",
      "2000/2000 [==============================] - 3s 1ms/step - loss: 0.4347 - acc: 0.8065 - val_loss: 0.3612 - val_acc: 0.8600\n",
      "Epoch 3/30\n",
      "2000/2000 [==============================] - 3s 2ms/step - loss: 0.3489 - acc: 0.8605 - val_loss: 0.3223 - val_acc: 0.8670\n",
      "Epoch 4/30\n",
      "2000/2000 [==============================] - 3s 1ms/step - loss: 0.3107 - acc: 0.8695 - val_loss: 0.2964 - val_acc: 0.8800\n",
      "Epoch 5/30\n",
      "2000/2000 [==============================] - 3s 1ms/step - loss: 0.2767 - acc: 0.8865 - val_loss: 0.2804 - val_acc: 0.8890\n",
      "Epoch 6/30\n",
      "2000/2000 [==============================] - 3s 2ms/step - loss: 0.2627 - acc: 0.8960 - val_loss: 0.2706 - val_acc: 0.8910\n",
      "Epoch 7/30\n",
      "2000/2000 [==============================] - 3s 2ms/step - loss: 0.2422 - acc: 0.9055 - val_loss: 0.2619 - val_acc: 0.8960\n",
      "Epoch 8/30\n",
      "2000/2000 [==============================] - 3s 2ms/step - loss: 0.2249 - acc: 0.9135 - val_loss: 0.2580 - val_acc: 0.8950\n",
      "Epoch 9/30\n",
      "2000/2000 [==============================] - 3s 2ms/step - loss: 0.2128 - acc: 0.9150 - val_loss: 0.2529 - val_acc: 0.8920\n",
      "Epoch 10/30\n",
      "2000/2000 [==============================] - 3s 2ms/step - loss: 0.2073 - acc: 0.9285 - val_loss: 0.2505 - val_acc: 0.8950\n",
      "Epoch 11/30\n",
      "2000/2000 [==============================] - 3s 2ms/step - loss: 0.1904 - acc: 0.9285 - val_loss: 0.2543 - val_acc: 0.8930\n",
      "Epoch 12/30\n",
      "2000/2000 [==============================] - 3s 2ms/step - loss: 0.1816 - acc: 0.9340 - val_loss: 0.2450 - val_acc: 0.8990\n",
      "Epoch 13/30\n",
      "2000/2000 [==============================] - 3s 2ms/step - loss: 0.1722 - acc: 0.9380 - val_loss: 0.2430 - val_acc: 0.8990\n",
      "Epoch 14/30\n",
      "2000/2000 [==============================] - 3s 2ms/step - loss: 0.1707 - acc: 0.9390 - val_loss: 0.2410 - val_acc: 0.9010\n",
      "Epoch 15/30\n",
      "2000/2000 [==============================] - 3s 2ms/step - loss: 0.1590 - acc: 0.9440 - val_loss: 0.2392 - val_acc: 0.8970\n",
      "Epoch 16/30\n",
      "2000/2000 [==============================] - 3s 2ms/step - loss: 0.1567 - acc: 0.9390 - val_loss: 0.2376 - val_acc: 0.9010\n",
      "Epoch 17/30\n",
      "2000/2000 [==============================] - 3s 2ms/step - loss: 0.1414 - acc: 0.9515 - val_loss: 0.2379 - val_acc: 0.8980\n",
      "Epoch 18/30\n",
      "2000/2000 [==============================] - 3s 2ms/step - loss: 0.1377 - acc: 0.9510 - val_loss: 0.2483 - val_acc: 0.9000\n",
      "Epoch 19/30\n",
      "2000/2000 [==============================] - 3s 2ms/step - loss: 0.1293 - acc: 0.9550 - val_loss: 0.2366 - val_acc: 0.8950\n",
      "Epoch 20/30\n",
      "2000/2000 [==============================] - 3s 2ms/step - loss: 0.1242 - acc: 0.9590 - val_loss: 0.2364 - val_acc: 0.8960\n",
      "Epoch 21/30\n",
      "2000/2000 [==============================] - 3s 2ms/step - loss: 0.1241 - acc: 0.9540 - val_loss: 0.2366 - val_acc: 0.8980\n",
      "Epoch 22/30\n",
      "2000/2000 [==============================] - 3s 2ms/step - loss: 0.1212 - acc: 0.9540 - val_loss: 0.2405 - val_acc: 0.9000\n",
      "Epoch 23/30\n",
      "2000/2000 [==============================] - 3s 2ms/step - loss: 0.1070 - acc: 0.9640 - val_loss: 0.2509 - val_acc: 0.9010\n",
      "Epoch 24/30\n",
      "2000/2000 [==============================] - 3s 2ms/step - loss: 0.1066 - acc: 0.9650 - val_loss: 0.2374 - val_acc: 0.8950\n",
      "Epoch 25/30\n",
      "2000/2000 [==============================] - 3s 2ms/step - loss: 0.0994 - acc: 0.9655 - val_loss: 0.2409 - val_acc: 0.9010\n",
      "Epoch 26/30\n",
      "2000/2000 [==============================] - 3s 2ms/step - loss: 0.0993 - acc: 0.9645 - val_loss: 0.2396 - val_acc: 0.8950\n",
      "Epoch 27/30\n",
      "2000/2000 [==============================] - 3s 2ms/step - loss: 0.0945 - acc: 0.9700 - val_loss: 0.2389 - val_acc: 0.8950\n",
      "Epoch 28/30\n",
      "2000/2000 [==============================] - 3s 2ms/step - loss: 0.0924 - acc: 0.9695 - val_loss: 0.2432 - val_acc: 0.9000\n",
      "Epoch 29/30\n",
      "2000/2000 [==============================] - 3s 2ms/step - loss: 0.0875 - acc: 0.9735 - val_loss: 0.2403 - val_acc: 0.8960\n",
      "Epoch 30/30\n",
      "2000/2000 [==============================] - 3s 2ms/step - loss: 0.0771 - acc: 0.9810 - val_loss: 0.2417 - val_acc: 0.8970\n"
     ]
    }
   ],
   "source": [
    "# 定义并训练密集连接分类器\n",
    "model_4 = models.Sequential()\n",
    "model_4.add(layers.Dense(256,activation='relu',input_dim=4*4*512))\n",
    "model_4.add(layers.Dropout(0.5))\n",
    "model_4.add(layers.Dense(1,activation='sigmoid'))\n",
    "\n",
    "model_4.compile(optimizer=optimizers.RMSprop(lr=2e-5),\n",
    "               loss='binary_crossentropy',\n",
    "               metrics=['acc'])\n",
    "\n",
    "history_4 = model_4.fit(train_features_4,\n",
    "                        train_labels_4,\n",
    "                        epochs=30,\n",
    "                        batch_size=20,\n",
    "                        validation_data=(validation_features_4,validation_labels_4))"
   ]
  },
  {
   "cell_type": "code",
   "execution_count": 32,
   "metadata": {
    "ExecuteTime": {
     "end_time": "2019-07-10T02:56:52.334102Z",
     "start_time": "2019-07-10T02:56:51.955091Z"
    }
   },
   "outputs": [
    {
     "data": {
      "image/png": "[encoded data removed]",
      "text/plain": [
       "<matplotlib.figure.Figure at 0x17e154b0160>"
      ]
     },
     "metadata": {},
     "output_type": "display_data"
    },
    {
     "data": {
      "image/png": "[encoded data removed]",
      "text/plain": [
       "<matplotlib.figure.Figure at 0x17e154d22b0>"
      ]
     },
     "metadata": {},
     "output_type": "display_data"
    }
   ],
   "source": [
    "# 绘制结果\n",
    "acc_4= history_4.history['acc']\n",
    "val_acc_4 = history_4.history['val_acc']\n",
    "loss_4 = history_4.history['loss']\n",
    "val_loss_4 = history_4.history['val_loss']\n",
    "\n",
    "epochs = range(1,len(acc_4)+1)\n",
    "\n",
    "plt.plot(epochs,acc_4,'bo',label='Training acc')\n",
    "plt.plot(epochs,val_acc_4,'b',label='Validation acc')\n",
    "plt.title('Training and validation accuracy')\n",
    "plt.legend()\n",
    "\n",
    "plt.figure()\n",
    "\n",
    "plt.plot(epochs,loss_4,'bo',label='Training loss')\n",
    "plt.plot(epochs,val_loss_4,'b',label='Validation loss')\n",
    "plt.title('Training and validation loss')\n",
    "plt.legend()\n",
    "\n",
    "plt.show()"
   ]
  },
  {
   "cell_type": "markdown",
   "metadata": {},
   "source": [
    "#### 使用数据增强的特征提取"
   ]
  },
  {
   "cell_type": "markdown",
   "metadata": {},
   "source": [
    "优点：可以数据增强\n",
    "\n",
    "缺点：运算慢，每次都要运算一次卷积基（在CPU运行巨慢，还是不要尝试了）"
   ]
  },
  {
   "cell_type": "markdown",
   "metadata": {},
   "source": [
    "### 微调模型"
   ]
  },
  {
   "cell_type": "code",
   "execution_count": 33,
   "metadata": {
    "ExecuteTime": {
     "end_time": "2019-07-10T03:13:42.091299Z",
     "start_time": "2019-07-10T03:13:42.082349Z"
    },
    "collapsed": true
   },
   "outputs": [],
   "source": [
    "# 冻结直到某一层的所有层\n",
    "\n",
    "conv_base.trainable = True\n",
    "\n",
    "set_trainable = False\n",
    "\n",
    "for layer in conv_base.layers:\n",
    "    if layer.name == 'block5_conv1':\n",
    "        set_trainable = True\n",
    "    if set_trainable:\n",
    "        layer.trainable = True\n",
    "    else:\n",
    "        layer.trainable = False            "
   ]
  },
  {
   "cell_type": "code",
   "execution_count": 34,
   "metadata": {
    "ExecuteTime": {
     "end_time": "2019-07-10T03:18:52.441083Z",
     "start_time": "2019-07-10T03:18:52.373267Z"
    },
    "collapsed": true
   },
   "outputs": [],
   "source": [
    "model_4.compile(loss='binary_crossentropy',\n",
    "                optimizer=optimizers.RMSprop(lr=1e-5),\n",
    "                metrics=['acc'])"
   ]
  }
 ],
 "metadata": {
  "kernelspec": {
   "display_name": "Python [conda env:root] *",
   "language": "python",
   "name": "conda-root-py"
  },
  "language_info": {
   "codemirror_mode": {
    "name": "ipython",
    "version": 3
   },
   "file_extension": ".py",
   "mimetype": "text/x-python",
   "name": "python",
   "nbconvert_exporter": "python",
   "pygments_lexer": "ipython3",
   "version": "3.6.2"
  },
  "toc": {
   "base_numbering": 1,
   "nav_menu": {},
   "number_sections": true,
   "sideBar": true,
   "skip_h1_title": false,
   "title_cell": "Table of Contents",
   "title_sidebar": "Contents",
   "toc_cell": false,
   "toc_position": {},
   "toc_section_display": true,
   "toc_window_display": true
  },
  "varInspector": {
   "cols": {
    "lenName": 16,
    "lenType": 16,
    "lenVar": 40
   },
   "kernels_config": {
    "python": {
     "delete_cmd_postfix": "",
     "delete_cmd_prefix": "del ",
     "library": "var_list.py",
     "varRefreshCmd": "print(var_dic_list())"
    },
    "r": {
     "delete_cmd_postfix": ") ",
     "delete_cmd_prefix": "rm(",
     "library": "var_list.r",
     "varRefreshCmd": "cat(var_dic_list()) "
    }
   },
   "oldHeight": 121.72,
   "position": {
    "height": "143px",
    "left": "685.8px",
    "right": "20px",
    "top": "117px",
    "width": "349px"
   },
   "types_to_exclude": [
    "module",
    "function",
    "builtin_function_or_method",
    "instance",
    "_Feature"
   ],
   "varInspector_section_display": "block",
   "window_display": false
  }
 },
 "nbformat": 4,
 "nbformat_minor": 2
}
