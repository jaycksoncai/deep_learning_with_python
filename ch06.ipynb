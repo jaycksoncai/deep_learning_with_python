{
 "cells": [
  {
   "cell_type": "markdown",
   "metadata": {},
   "source": [
    "# 深度学习用于文本和序列"
   ]
  },
  {
   "cell_type": "markdown",
   "metadata": {},
   "source": [
    "## 处理文本数据"
   ]
  },
  {
   "cell_type": "markdown",
   "metadata": {},
   "source": [
    "### 单词和字符的one-hot编码"
   ]
  },
  {
   "cell_type": "code",
   "execution_count": 1,
   "metadata": {
    "ExecuteTime": {
     "end_time": "2019-07-20T04:06:37.984196Z",
     "start_time": "2019-07-20T04:06:37.968239Z"
    },
    "collapsed": true
   },
   "outputs": [],
   "source": [
    "# 单词级的one-hot编码（简单示例）\n",
    "import numpy as np\n",
    "\n",
    "samples = ['The cat sat on the mat.','The dog ate my homework.']\n",
    "\n",
    "token_index= {}\n",
    "for sample in samples:\n",
    "    for word in sample.split():\n",
    "        if word not in token_index:\n",
    "            token_index[word] = len(token_index)+1\n",
    "            \n",
    "max_length = 10\n",
    "\n",
    "results = np.zeros(shape = (len(samples),\n",
    "                           max_length,\n",
    "                           max(token_index.values())+1))\n",
    "\n",
    "for i, sample in enumerate(samples):\n",
    "    for j, word in list(enumerate(sample.split()))[:max_length]:\n",
    "        index = token_index.get(word)\n",
    "        results[i,j,index] =1."
   ]
  },
  {
   "cell_type": "code",
   "execution_count": 2,
   "metadata": {
    "ExecuteTime": {
     "end_time": "2019-07-20T04:06:38.023092Z",
     "start_time": "2019-07-20T04:06:37.986199Z"
    }
   },
   "outputs": [
    {
     "data": {
      "text/plain": [
       "array([[[0., 1., 0., 0., 0., 0., 0., 0., 0., 0., 0.],\n",
       "        [0., 0., 1., 0., 0., 0., 0., 0., 0., 0., 0.],\n",
       "        [0., 0., 0., 1., 0., 0., 0., 0., 0., 0., 0.],\n",
       "        [0., 0., 0., 0., 1., 0., 0., 0., 0., 0., 0.],\n",
       "        [0., 0., 0., 0., 0., 1., 0., 0., 0., 0., 0.],\n",
       "        [0., 0., 0., 0., 0., 0., 1., 0., 0., 0., 0.],\n",
       "        [0., 0., 0., 0., 0., 0., 0., 0., 0., 0., 0.],\n",
       "        [0., 0., 0., 0., 0., 0., 0., 0., 0., 0., 0.],\n",
       "        [0., 0., 0., 0., 0., 0., 0., 0., 0., 0., 0.],\n",
       "        [0., 0., 0., 0., 0., 0., 0., 0., 0., 0., 0.]],\n",
       "\n",
       "       [[0., 1., 0., 0., 0., 0., 0., 0., 0., 0., 0.],\n",
       "        [0., 0., 0., 0., 0., 0., 0., 1., 0., 0., 0.],\n",
       "        [0., 0., 0., 0., 0., 0., 0., 0., 1., 0., 0.],\n",
       "        [0., 0., 0., 0., 0., 0., 0., 0., 0., 1., 0.],\n",
       "        [0., 0., 0., 0., 0., 0., 0., 0., 0., 0., 1.],\n",
       "        [0., 0., 0., 0., 0., 0., 0., 0., 0., 0., 0.],\n",
       "        [0., 0., 0., 0., 0., 0., 0., 0., 0., 0., 0.],\n",
       "        [0., 0., 0., 0., 0., 0., 0., 0., 0., 0., 0.],\n",
       "        [0., 0., 0., 0., 0., 0., 0., 0., 0., 0., 0.],\n",
       "        [0., 0., 0., 0., 0., 0., 0., 0., 0., 0., 0.]]])"
      ]
     },
     "execution_count": 2,
     "metadata": {},
     "output_type": "execute_result"
    }
   ],
   "source": [
    "results"
   ]
  },
  {
   "cell_type": "code",
   "execution_count": 3,
   "metadata": {
    "ExecuteTime": {
     "end_time": "2019-07-20T04:06:38.037055Z",
     "start_time": "2019-07-20T04:06:38.025087Z"
    }
   },
   "outputs": [
    {
     "data": {
      "text/plain": [
       "{'The': 1,\n",
       " 'ate': 8,\n",
       " 'cat': 2,\n",
       " 'dog': 7,\n",
       " 'homework.': 10,\n",
       " 'mat.': 6,\n",
       " 'my': 9,\n",
       " 'on': 4,\n",
       " 'sat': 3,\n",
       " 'the': 5}"
      ]
     },
     "execution_count": 3,
     "metadata": {},
     "output_type": "execute_result"
    }
   ],
   "source": [
    "token_index"
   ]
  },
  {
   "cell_type": "code",
   "execution_count": 4,
   "metadata": {
    "ExecuteTime": {
     "end_time": "2019-07-20T04:06:38.053013Z",
     "start_time": "2019-07-20T04:06:38.039049Z"
    },
    "collapsed": true
   },
   "outputs": [],
   "source": [
    "# 字符级的one-hot编码（简单示例）\n",
    "import string\n",
    "\n",
    "samples = ['The cat sat on the mat.','The dog ate my homework.']\n",
    "characters = string.printable\n",
    "token_index = dict(zip(characters,range(1,len(characters)+1)))\n",
    "\n",
    "max_length = 50\n",
    "\n",
    "results =np.zeros(shape=(len(samples),\n",
    "                        max_length,\n",
    "                        max(token_index.values())+1))\n",
    "\n",
    "for i,sample in enumerate(samples):\n",
    "    for j,character in enumerate(sample[:max_length]):\n",
    "        index = token_index.get(character)\n",
    "        results[i,j,index]=1."
   ]
  },
  {
   "cell_type": "code",
   "execution_count": 5,
   "metadata": {
    "ExecuteTime": {
     "end_time": "2019-07-20T04:06:43.618549Z",
     "start_time": "2019-07-20T04:06:38.056004Z"
    }
   },
   "outputs": [
    {
     "name": "stderr",
     "output_type": "stream",
     "text": [
      "D:\\Anaconda\\lib\\site-packages\\h5py\\__init__.py:36: FutureWarning: Conversion of the second argument of issubdtype from `float` to `np.floating` is deprecated. In future, it will be treated as `np.float64 == np.dtype(float).type`.\n",
      "  from ._conv import register_converters as _register_converters\n",
      "Using TensorFlow backend.\n"
     ]
    },
    {
     "name": "stdout",
     "output_type": "stream",
     "text": [
      "Found 9 unique tokens.\n"
     ]
    }
   ],
   "source": [
    "# 用Keras实现单词级的one-hot编码\n",
    "from keras.preprocessing.text import Tokenizer\n",
    "\n",
    "samples = ['The cat sat on the mat.','The dog ate my homework.']\n",
    "\n",
    "tokenizer = Tokenizer(num_words=1000)\n",
    "tokenizer.fit_on_texts(samples)# 构建单词索引\n",
    "\n",
    "sequences = tokenizer.texts_to_sequences(samples)\n",
    "\n",
    "one_hot_results= tokenizer.texts_to_matrix(samples,mode='binary')\n",
    "word_index = tokenizer.word_index\n",
    "print('Found %s unique tokens.' % len(word_index))"
   ]
  },
  {
   "cell_type": "code",
   "execution_count": 6,
   "metadata": {
    "ExecuteTime": {
     "end_time": "2019-07-20T04:06:43.627525Z",
     "start_time": "2019-07-20T04:06:43.621541Z"
    }
   },
   "outputs": [
    {
     "data": {
      "text/plain": [
       "{'ate': 7,\n",
       " 'cat': 2,\n",
       " 'dog': 6,\n",
       " 'homework': 9,\n",
       " 'mat': 5,\n",
       " 'my': 8,\n",
       " 'on': 4,\n",
       " 'sat': 3,\n",
       " 'the': 1}"
      ]
     },
     "execution_count": 6,
     "metadata": {},
     "output_type": "execute_result"
    }
   ],
   "source": [
    "word_index"
   ]
  },
  {
   "cell_type": "code",
   "execution_count": 7,
   "metadata": {
    "ExecuteTime": {
     "end_time": "2019-07-20T04:06:43.674400Z",
     "start_time": "2019-07-20T04:06:43.629521Z"
    }
   },
   "outputs": [
    {
     "data": {
      "text/plain": [
       "array([[0., 1., 1., ..., 0., 0., 0.],\n",
       "       [0., 1., 0., ..., 0., 0., 0.]])"
      ]
     },
     "execution_count": 7,
     "metadata": {},
     "output_type": "execute_result"
    }
   ],
   "source": [
    "one_hot_results"
   ]
  },
  {
   "cell_type": "code",
   "execution_count": 8,
   "metadata": {
    "ExecuteTime": {
     "end_time": "2019-07-20T04:06:43.693375Z",
     "start_time": "2019-07-20T04:06:43.677392Z"
    }
   },
   "outputs": [
    {
     "data": {
      "text/plain": [
       "[[1, 2, 3, 4, 1, 5], [1, 6, 7, 8, 9]]"
      ]
     },
     "execution_count": 8,
     "metadata": {},
     "output_type": "execute_result"
    }
   ],
   "source": [
    "sequences"
   ]
  },
  {
   "cell_type": "markdown",
   "metadata": {},
   "source": [
    "### 使用词嵌入"
   ]
  },
  {
   "cell_type": "markdown",
   "metadata": {},
   "source": [
    "#### 利用Embedding层学习词嵌入"
   ]
  },
  {
   "cell_type": "code",
   "execution_count": 9,
   "metadata": {
    "ExecuteTime": {
     "end_time": "2019-07-20T04:06:43.717293Z",
     "start_time": "2019-07-20T04:06:43.695345Z"
    },
    "collapsed": true
   },
   "outputs": [],
   "source": [
    "# 将一个Embedding 层实例化\n",
    "from keras.layers import Embedding\n",
    "embedding_layer = Embedding(1000,64)"
   ]
  },
  {
   "cell_type": "code",
   "execution_count": 10,
   "metadata": {
    "ExecuteTime": {
     "end_time": "2019-07-20T04:06:48.681064Z",
     "start_time": "2019-07-20T04:06:43.719281Z"
    },
    "collapsed": true
   },
   "outputs": [],
   "source": [
    "# 加载IMDB数据，准备用于Embedding层\n",
    "from keras.datasets import imdb\n",
    "from keras import preprocessing\n",
    "max_features = 10000 # 作为特征的单词个数，只用这常用的单词作为特征\n",
    "maxlen=20 # 只用评论的这么多，之后就截断了\n",
    "\n",
    "(x_train,y_train),(x_test,y_test)=imdb.load_data(num_words=max_features)\n",
    "\n",
    "x_train = preprocessing.sequence.pad_sequences(x_train,maxlen=maxlen)\n",
    "x_test = preprocessing.sequence.pad_sequences(x_test,maxlen=maxlen)"
   ]
  },
  {
   "cell_type": "code",
   "execution_count": 11,
   "metadata": {
    "ExecuteTime": {
     "end_time": "2019-07-20T04:06:48.689022Z",
     "start_time": "2019-07-20T04:06:48.683037Z"
    }
   },
   "outputs": [
    {
     "data": {
      "text/plain": [
       "array([[  65,   16,   38, ...,   19,  178,   32],\n",
       "       [  23,    4, 1690, ...,   16,  145,   95],\n",
       "       [1352,   13,  191, ...,    7,  129,  113],\n",
       "       ...,\n",
       "       [  11, 1818, 7561, ...,    4, 3586,    2],\n",
       "       [  92,  401,  728, ...,   12,    9,   23],\n",
       "       [ 764,   40,    4, ...,  204,  131,    9]])"
      ]
     },
     "execution_count": 11,
     "metadata": {},
     "output_type": "execute_result"
    }
   ],
   "source": [
    "x_train"
   ]
  },
  {
   "cell_type": "code",
   "execution_count": 12,
   "metadata": {
    "ExecuteTime": {
     "end_time": "2019-07-20T04:06:57.415416Z",
     "start_time": "2019-07-20T04:06:48.690995Z"
    }
   },
   "outputs": [
    {
     "name": "stdout",
     "output_type": "stream",
     "text": [
      "WARNING:tensorflow:From D:\\Anaconda\\lib\\site-packages\\tensorflow\\python\\framework\\op_def_library.py:263: colocate_with (from tensorflow.python.framework.ops) is deprecated and will be removed in a future version.\n",
      "Instructions for updating:\n",
      "Colocations handled automatically by placer.\n",
      "_________________________________________________________________\n",
      "Layer (type)                 Output Shape              Param #   \n",
      "=================================================================\n",
      "embedding_2 (Embedding)      (None, 20, 8)             80000     \n",
      "_________________________________________________________________\n",
      "flatten_1 (Flatten)          (None, 160)               0         \n",
      "_________________________________________________________________\n",
      "dense_1 (Dense)              (None, 1)                 161       \n",
      "=================================================================\n",
      "Total params: 80,161\n",
      "Trainable params: 80,161\n",
      "Non-trainable params: 0\n",
      "_________________________________________________________________\n",
      "WARNING:tensorflow:From D:\\Anaconda\\lib\\site-packages\\tensorflow\\python\\ops\\math_ops.py:3066: to_int32 (from tensorflow.python.ops.math_ops) is deprecated and will be removed in a future version.\n",
      "Instructions for updating:\n",
      "Use tf.cast instead.\n",
      "Train on 20000 samples, validate on 5000 samples\n",
      "Epoch 1/10\n",
      "20000/20000 [==============================] - 1s 51us/step - loss: 0.6759 - acc: 0.6046 - val_loss: 0.6397 - val_acc: 0.6812\n",
      "Epoch 2/10\n",
      "20000/20000 [==============================] - 1s 40us/step - loss: 0.5657 - acc: 0.7428 - val_loss: 0.5467 - val_acc: 0.7208\n",
      "Epoch 3/10\n",
      "20000/20000 [==============================] - 1s 41us/step - loss: 0.4751 - acc: 0.7810 - val_loss: 0.5113 - val_acc: 0.7386\n",
      "Epoch 4/10\n",
      "20000/20000 [==============================] - 1s 43us/step - loss: 0.4263 - acc: 0.8077 - val_loss: 0.5008 - val_acc: 0.7456\n",
      "Epoch 5/10\n",
      "20000/20000 [==============================] - 1s 40us/step - loss: 0.3930 - acc: 0.8255 - val_loss: 0.4981 - val_acc: 0.7540\n",
      "Epoch 6/10\n",
      "20000/20000 [==============================] - 1s 40us/step - loss: 0.3668 - acc: 0.8394 - val_loss: 0.5013 - val_acc: 0.7534\n",
      "Epoch 7/10\n",
      "20000/20000 [==============================] - 1s 40us/step - loss: 0.3435 - acc: 0.8532 - val_loss: 0.5051 - val_acc: 0.7512\n",
      "Epoch 8/10\n",
      "20000/20000 [==============================] - 1s 39us/step - loss: 0.3223 - acc: 0.8657 - val_loss: 0.5132 - val_acc: 0.7480\n",
      "Epoch 9/10\n",
      "20000/20000 [==============================] - 1s 40us/step - loss: 0.3023 - acc: 0.8765 - val_loss: 0.5213 - val_acc: 0.7490\n",
      "Epoch 10/10\n",
      "20000/20000 [==============================] - 1s 41us/step - loss: 0.2839 - acc: 0.8860 - val_loss: 0.5302 - val_acc: 0.7468\n"
     ]
    }
   ],
   "source": [
    "# 在IMDB数据上使用Embedding层和分类层\n",
    "from keras.models import Sequential\n",
    "from keras.layers import Flatten,Dense,Embedding\n",
    "\n",
    "model = Sequential()\n",
    "model.add(Embedding(10000,8,input_length=maxlen))\n",
    "model.add(Flatten())\n",
    "model.add(Dense(1,activation='sigmoid'))\n",
    "model.compile(optimizer='rmsprop',\n",
    "             loss='binary_crossentropy',\n",
    "             metrics=['acc'])\n",
    "model.summary()\n",
    "\n",
    "history_1 = model.fit(x_train,y_train,epochs=10,batch_size=32,validation_split=0.2)"
   ]
  },
  {
   "cell_type": "markdown",
   "metadata": {},
   "source": [
    "### 整合在一起：从原始文本到词嵌入"
   ]
  },
  {
   "cell_type": "code",
   "execution_count": 13,
   "metadata": {
    "ExecuteTime": {
     "end_time": "2019-07-20T04:08:33.873944Z",
     "start_time": "2019-07-20T04:06:57.418408Z"
    },
    "collapsed": true
   },
   "outputs": [],
   "source": [
    "import os\n",
    "imdb_dir = './data/imdb/'\n",
    "train_dir = os.path.join(imdb_dir,'train')\n",
    "labels = []\n",
    "texts = []\n",
    "for label_type in ['neg','pos']:\n",
    "    dir_name = os.path.join(train_dir,label_type)\n",
    "    for fname in os.listdir(dir_name):\n",
    "        if fname[-4:] == '.txt':\n",
    "            f = open(os.path.join(dir_name,fname),encoding='utf-8')\n",
    "            texts.append(f.read())\n",
    "            f.close()\n",
    "            if label_type == 'neg':\n",
    "                labels.append(0)\n",
    "            else:\n",
    "                labels.append(1)"
   ]
  },
  {
   "cell_type": "markdown",
   "metadata": {},
   "source": [
    "#### 对数据进行分词"
   ]
  },
  {
   "cell_type": "code",
   "execution_count": 14,
   "metadata": {
    "ExecuteTime": {
     "end_time": "2019-07-20T04:08:43.311745Z",
     "start_time": "2019-07-20T04:08:33.876926Z"
    }
   },
   "outputs": [
    {
     "name": "stdout",
     "output_type": "stream",
     "text": [
      "Found 88582 unique tokens.\n",
      "Shape of data tensor: (25000, 100)\n",
      "Shape of label tensor: (25000,)\n"
     ]
    }
   ],
   "source": [
    "# 对IMDB 原始数据的文本进行分词\n",
    "from keras.preprocessing.text import Tokenizer\n",
    "from keras.preprocessing.sequence import pad_sequences\n",
    "import numpy as np\n",
    "\n",
    "maxlen = 100\n",
    "training_samples=200\n",
    "validation_samples=10000\n",
    "max_words=10000\n",
    "\n",
    "tokenizer = Tokenizer(num_words = max_words)\n",
    "tokenizer.fit_on_texts(texts)\n",
    "sequences=tokenizer.texts_to_sequences(texts)\n",
    "\n",
    "word_index = tokenizer.word_index\n",
    "print('Found {} unique tokens.'.format(len(word_index)))\n",
    "\n",
    "data = pad_sequences(sequences,maxlen=maxlen)\n",
    "\n",
    "labels = np.asarray(labels)\n",
    "print('Shape of data tensor:',data.shape)\n",
    "print('Shape of label tensor:',labels.shape)\n",
    "\n",
    "indices = np.arange(data.shape[0])\n",
    "np.random.shuffle(indices)\n",
    "data=data[indices]\n",
    "labels=labels[indices]\n",
    "\n",
    "x_train = data[:training_samples]\n",
    "y_train = labels[:training_samples]\n",
    "x_val = data[training_samples:training_samples+validation_samples]\n",
    "y_val = labels[training_samples:training_samples+validation_samples]"
   ]
  },
  {
   "cell_type": "markdown",
   "metadata": {},
   "source": [
    "#### 对嵌入进行预处理"
   ]
  },
  {
   "cell_type": "code",
   "execution_count": 15,
   "metadata": {
    "ExecuteTime": {
     "end_time": "2019-07-20T04:09:00.049613Z",
     "start_time": "2019-07-20T04:08:43.313727Z"
    }
   },
   "outputs": [
    {
     "name": "stdout",
     "output_type": "stream",
     "text": [
      "Found 400000 word vectors.\n"
     ]
    }
   ],
   "source": [
    "glove_dir = './data/glove.6B/'\n",
    "\n",
    "embeddings_index = {}\n",
    "\n",
    "f = open(os.path.join(glove_dir,'glove.6B.100d.txt'),encoding='utf-8')\n",
    "for line in f:\n",
    "    values = line.split()\n",
    "    word=values[0]\n",
    "    coefs = np.asarray(values[1:],dtype='float32')\n",
    "    embeddings_index[word]=coefs\n",
    "f.close()\n",
    "\n",
    "print('Found {} word vectors.'.format(len(embeddings_index)))"
   ]
  },
  {
   "cell_type": "code",
   "execution_count": 16,
   "metadata": {
    "ExecuteTime": {
     "end_time": "2019-07-20T04:09:00.111461Z",
     "start_time": "2019-07-20T04:09:00.053602Z"
    },
    "collapsed": true
   },
   "outputs": [],
   "source": [
    "# 准备GloVe词嵌入矩阵\n",
    "embedding_dim = 100\n",
    "\n",
    "embedding_matrix=np.zeros((max_words,embedding_dim))\n",
    "for word, i in word_index.items():\n",
    "    if i<max_words:\n",
    "        embedding_vector = embeddings_index.get(word)\n",
    "        if embedding_vector is not None:\n",
    "            embedding_matrix[i] = embedding_vector"
   ]
  },
  {
   "cell_type": "markdown",
   "metadata": {},
   "source": [
    "#### 定义模型"
   ]
  },
  {
   "cell_type": "code",
   "execution_count": 17,
   "metadata": {
    "ExecuteTime": {
     "end_time": "2019-07-20T04:09:00.207192Z",
     "start_time": "2019-07-20T04:09:00.113443Z"
    }
   },
   "outputs": [
    {
     "name": "stdout",
     "output_type": "stream",
     "text": [
      "_________________________________________________________________\n",
      "Layer (type)                 Output Shape              Param #   \n",
      "=================================================================\n",
      "embedding_3 (Embedding)      (None, 100, 100)          1000000   \n",
      "_________________________________________________________________\n",
      "flatten_2 (Flatten)          (None, 10000)             0         \n",
      "_________________________________________________________________\n",
      "dense_2 (Dense)              (None, 32)                320032    \n",
      "_________________________________________________________________\n",
      "dense_3 (Dense)              (None, 1)                 33        \n",
      "=================================================================\n",
      "Total params: 1,320,065\n",
      "Trainable params: 1,320,065\n",
      "Non-trainable params: 0\n",
      "_________________________________________________________________\n"
     ]
    }
   ],
   "source": [
    "from keras.models import Sequential\n",
    "from keras.layers import Embedding,Flatten,Dense\n",
    "model = Sequential()\n",
    "model.add(Embedding(max_words,embedding_dim,input_length = maxlen))\n",
    "model.add(Flatten())\n",
    "model.add(Dense(32,activation='relu'))\n",
    "model.add(Dense(1,activation='sigmoid'))\n",
    "model.summary()"
   ]
  },
  {
   "cell_type": "markdown",
   "metadata": {},
   "source": [
    "#### 在模型中加入GloVe嵌入"
   ]
  },
  {
   "cell_type": "code",
   "execution_count": 18,
   "metadata": {
    "ExecuteTime": {
     "end_time": "2019-07-20T04:09:00.324880Z",
     "start_time": "2019-07-20T04:09:00.209192Z"
    },
    "collapsed": true
   },
   "outputs": [],
   "source": [
    "# 将预训练的词嵌入加载到Embedding层中\n",
    "model.layers[0].set_weights([embedding_matrix])\n",
    "model.layers[0].trainable=False"
   ]
  },
  {
   "cell_type": "markdown",
   "metadata": {},
   "source": [
    "#### 训练模型与评估模型"
   ]
  },
  {
   "cell_type": "code",
   "execution_count": 19,
   "metadata": {
    "ExecuteTime": {
     "end_time": "2019-07-20T04:09:06.426486Z",
     "start_time": "2019-07-20T04:09:00.332858Z"
    }
   },
   "outputs": [
    {
     "name": "stdout",
     "output_type": "stream",
     "text": [
      "Train on 200 samples, validate on 10000 samples\n",
      "Epoch 1/10\n",
      "200/200 [==============================] - 1s 4ms/step - loss: 1.6335 - acc: 0.5250 - val_loss: 0.7130 - val_acc: 0.5100\n",
      "Epoch 2/10\n",
      "200/200 [==============================] - 1s 3ms/step - loss: 0.7565 - acc: 0.5800 - val_loss: 0.6910 - val_acc: 0.5418\n",
      "Epoch 3/10\n",
      "200/200 [==============================] - 1s 3ms/step - loss: 0.5956 - acc: 0.6950 - val_loss: 1.1205 - val_acc: 0.4936\n",
      "Epoch 4/10\n",
      "200/200 [==============================] - 1s 3ms/step - loss: 0.5335 - acc: 0.7350 - val_loss: 0.7134 - val_acc: 0.5362\n",
      "Epoch 5/10\n",
      "200/200 [==============================] - 1s 3ms/step - loss: 0.4713 - acc: 0.8100 - val_loss: 0.7177 - val_acc: 0.5589\n",
      "Epoch 6/10\n",
      "200/200 [==============================] - 1s 3ms/step - loss: 0.1448 - acc: 0.9800 - val_loss: 1.3373 - val_acc: 0.4952\n",
      "Epoch 7/10\n",
      "200/200 [==============================] - 1s 3ms/step - loss: 0.2545 - acc: 0.8800 - val_loss: 1.3110 - val_acc: 0.4960\n",
      "Epoch 8/10\n",
      "200/200 [==============================] - 1s 3ms/step - loss: 0.1102 - acc: 0.9800 - val_loss: 0.8181 - val_acc: 0.5561\n",
      "Epoch 9/10\n",
      "200/200 [==============================] - 1s 3ms/step - loss: 0.0762 - acc: 0.9800 - val_loss: 1.5204 - val_acc: 0.5115\n",
      "Epoch 10/10\n",
      "200/200 [==============================] - 1s 3ms/step - loss: 0.0678 - acc: 0.9850 - val_loss: 0.7460 - val_acc: 0.5768\n"
     ]
    }
   ],
   "source": [
    "model.compile(optimizer='rmsprop',\n",
    "             loss='binary_crossentropy',\n",
    "             metrics=['acc'])\n",
    "history = model.fit(x_train,y_train,\n",
    "                   epochs=10,\n",
    "                   batch_size=32,\n",
    "                   validation_data=(x_val,y_val))\n",
    "model.save_weights('./model/ch06/pre_trained_glove_model.h5')"
   ]
  },
  {
   "cell_type": "code",
   "execution_count": 20,
   "metadata": {
    "ExecuteTime": {
     "end_time": "2019-07-20T04:09:07.779866Z",
     "start_time": "2019-07-20T04:09:06.428450Z"
    }
   },
   "outputs": [
    {
     "data": {
      "image/png": "[encoded data removed]",
      "text/plain": [
       "<matplotlib.figure.Figure at 0x2a158df8cf8>"
      ]
     },
     "metadata": {},
     "output_type": "display_data"
    },
    {
     "data": {
      "image/png": "[encoded data removed]",
      "text/plain": [
       "<matplotlib.figure.Figure at 0x2a1410775f8>"
      ]
     },
     "metadata": {},
     "output_type": "display_data"
    }
   ],
   "source": [
    "# 绘制结果\n",
    "import matplotlib.pyplot as plt\n",
    "\n",
    "acc=history.history['acc']\n",
    "val_acc=history.history['val_acc']\n",
    "loss=history.history['loss']\n",
    "val_loss=history.history['val_loss']\n",
    "\n",
    "epochs = range(1,len(acc)+1)\n",
    "\n",
    "plt.plot(epochs,acc,'bo',label='Training acc')\n",
    "plt.plot(epochs,val_acc,'b',label='Validation acc')\n",
    "plt.title('Training and validation acc')\n",
    "plt.legend()\n",
    "plt.figure()\n",
    "\n",
    "plt.plot(epochs,loss,'bo',label='Training loss')\n",
    "plt.plot(epochs,val_loss,'b',label='Validation loss')\n",
    "plt.title('Training anda validation loss')\n",
    "plt.legend()\n",
    "\n",
    "plt.show()"
   ]
  },
  {
   "cell_type": "code",
   "execution_count": 21,
   "metadata": {
    "ExecuteTime": {
     "end_time": "2019-07-20T04:09:14.804120Z",
     "start_time": "2019-07-20T04:09:07.781841Z"
    }
   },
   "outputs": [
    {
     "name": "stdout",
     "output_type": "stream",
     "text": [
      "_________________________________________________________________\n",
      "Layer (type)                 Output Shape              Param #   \n",
      "=================================================================\n",
      "embedding_4 (Embedding)      (None, 100, 100)          1000000   \n",
      "_________________________________________________________________\n",
      "flatten_3 (Flatten)          (None, 10000)             0         \n",
      "_________________________________________________________________\n",
      "dense_4 (Dense)              (None, 32)                320032    \n",
      "_________________________________________________________________\n",
      "dense_5 (Dense)              (None, 1)                 33        \n",
      "=================================================================\n",
      "Total params: 1,320,065\n",
      "Trainable params: 1,320,065\n",
      "Non-trainable params: 0\n",
      "_________________________________________________________________\n",
      "Train on 200 samples, validate on 10000 samples\n",
      "Epoch 1/10\n",
      "200/200 [==============================] - 1s 5ms/step - loss: 0.6951 - acc: 0.4350 - val_loss: 0.6950 - val_acc: 0.5167\n",
      "Epoch 2/10\n",
      "200/200 [==============================] - 1s 3ms/step - loss: 0.5028 - acc: 0.9800 - val_loss: 0.7054 - val_acc: 0.5069\n",
      "Epoch 3/10\n",
      "200/200 [==============================] - 1s 3ms/step - loss: 0.2898 - acc: 0.9850 - val_loss: 0.7012 - val_acc: 0.5187\n",
      "Epoch 4/10\n",
      "200/200 [==============================] - 1s 3ms/step - loss: 0.1183 - acc: 1.0000 - val_loss: 0.7166 - val_acc: 0.5156\n",
      "Epoch 5/10\n",
      "200/200 [==============================] - 1s 3ms/step - loss: 0.0524 - acc: 1.0000 - val_loss: 0.7150 - val_acc: 0.5288\n",
      "Epoch 6/10\n",
      "200/200 [==============================] - 1s 3ms/step - loss: 0.0261 - acc: 1.0000 - val_loss: 0.7249 - val_acc: 0.5260\n",
      "Epoch 7/10\n",
      "200/200 [==============================] - 1s 3ms/step - loss: 0.0141 - acc: 1.0000 - val_loss: 0.7211 - val_acc: 0.5389\n",
      "Epoch 8/10\n",
      "200/200 [==============================] - 1s 3ms/step - loss: 0.0082 - acc: 1.0000 - val_loss: 0.7390 - val_acc: 0.5267\n",
      "Epoch 9/10\n",
      "200/200 [==============================] - 1s 3ms/step - loss: 0.0049 - acc: 1.0000 - val_loss: 0.7283 - val_acc: 0.5393\n",
      "Epoch 10/10\n",
      "200/200 [==============================] - 1s 3ms/step - loss: 0.0030 - acc: 1.0000 - val_loss: 0.7476 - val_acc: 0.5313\n"
     ]
    }
   ],
   "source": [
    "# 在不适用预训练词嵌入的情况下，训练相同的模型\n",
    "model = Sequential()\n",
    "model.add(Embedding(max_words,embedding_dim,input_length = maxlen))\n",
    "model.add(Flatten())\n",
    "model.add(Dense(32,activation='relu'))\n",
    "model.add(Dense(1,activation='sigmoid'))\n",
    "model.summary()\n",
    "\n",
    "model.compile(optimizer='rmsprop',\n",
    "             loss='binary_crossentropy',\n",
    "             metrics=['acc'])\n",
    "history = model.fit(x_train,y_train,\n",
    "                   epochs=10,\n",
    "                   batch_size=32,\n",
    "                   validation_data=(x_val,y_val))"
   ]
  },
  {
   "cell_type": "code",
   "execution_count": 22,
   "metadata": {
    "ExecuteTime": {
     "end_time": "2019-07-20T04:09:15.135267Z",
     "start_time": "2019-07-20T04:09:14.806115Z"
    }
   },
   "outputs": [
    {
     "data": {
      "image/png": "[encoded data removed]",
      "text/plain": [
       "<matplotlib.figure.Figure at 0x2a15b17aa90>"
      ]
     },
     "metadata": {},
     "output_type": "display_data"
    },
    {
     "data": {
      "image/png": "[encoded data removed]",
      "text/plain": [
       "<matplotlib.figure.Figure at 0x2a15d9962b0>"
      ]
     },
     "metadata": {},
     "output_type": "display_data"
    }
   ],
   "source": [
    "acc=history.history['acc']\n",
    "val_acc=history.history['val_acc']\n",
    "loss=history.history['loss']\n",
    "val_loss=history.history['val_loss']\n",
    "\n",
    "epochs = range(1,len(acc)+1)\n",
    "\n",
    "plt.plot(epochs,acc,'bo',label='Training acc')\n",
    "plt.plot(epochs,val_acc,'b',label='Validation acc')\n",
    "plt.title('Training and validation acc')\n",
    "plt.legend()\n",
    "plt.figure()\n",
    "\n",
    "plt.plot(epochs,loss,'bo',label='Training loss')\n",
    "plt.plot(epochs,val_loss,'b',label='Validation loss')\n",
    "plt.title('Training anda validation loss')\n",
    "plt.legend()\n",
    "\n",
    "plt.show()"
   ]
  },
  {
   "cell_type": "code",
   "execution_count": 23,
   "metadata": {
    "ExecuteTime": {
     "end_time": "2019-07-20T04:09:15.223037Z",
     "start_time": "2019-07-20T04:09:15.137258Z"
    },
    "collapsed": true
   },
   "outputs": [],
   "source": [
    "# 对测试集数据进行分词\n",
    "test_dir = os.path.join(imdb_dir,'test')\n",
    "labels = []\n",
    "texts = []\n",
    "for label_type in ['neg','pos']:\n",
    "    dir_name = os.path.join(test_dir,label_type)\n",
    "    for fname in sorted(os.listdir(dir_name)):\n",
    "        if fname[:-4] == '.txt':\n",
    "            f = open(os.path.join(dir_name,fname))\n",
    "            texts.append(f.read())\n",
    "            f.close()\n",
    "            if label_type == 'neg':\n",
    "                labels.append(0)\n",
    "            else:\n",
    "                labels.append(1)\n",
    "                \n",
    "sequences = tokenizer.texts_to_sequences(texts)\n",
    "x_test = pad_sequences(sequences,maxlen=maxlen)\n",
    "y_test = np.asarray(labels)"
   ]
  },
  {
   "cell_type": "code",
   "execution_count": 24,
   "metadata": {
    "ExecuteTime": {
     "end_time": "2019-07-20T04:09:15.305780Z",
     "start_time": "2019-07-20T04:09:15.224996Z"
    }
   },
   "outputs": [
    {
     "data": {
      "text/plain": [
       "[]"
      ]
     },
     "execution_count": 24,
     "metadata": {},
     "output_type": "execute_result"
    }
   ],
   "source": [
    "# 在测试集上评估模型\n",
    "model.load_weights('./model/ch06/pre_trained_glove_model.h5')\n",
    "model.evaluate(x_test,y_test)"
   ]
  },
  {
   "cell_type": "markdown",
   "metadata": {
    "collapsed": true
   },
   "source": [
    "## 理解循环神经网络"
   ]
  },
  {
   "cell_type": "code",
   "execution_count": 25,
   "metadata": {
    "ExecuteTime": {
     "end_time": "2019-07-20T04:09:15.332708Z",
     "start_time": "2019-07-20T04:09:15.307775Z"
    },
    "collapsed": true
   },
   "outputs": [],
   "source": [
    "# 简单RNN的Numpy实现\n",
    "\n",
    "timesteps = 100\n",
    "\n",
    "input_features = 32\n",
    "output_features = 64\n",
    "\n",
    "inputs = np.random.random((timesteps,input_features))\n",
    "\n",
    "state_t = np.zeros((output_features,))\n",
    "\n",
    "W = np.random.random((output_features,input_features))\n",
    "U = np.random.random((output_features,output_features))\n",
    "b = np.random.random((output_features,))\n",
    "\n",
    "successive_outputs = []\n",
    "for input_t in inputs:\n",
    "    output_t = np.tanh(np.dot(W,input_t)+np.dot(U,state_t)+b)\n",
    "    successive_outputs.append(output_t)\n",
    "    state_t = output_t\n",
    "final_output_sequence = np.stack(successive_outputs,axis=0)"
   ]
  },
  {
   "cell_type": "markdown",
   "metadata": {},
   "source": [
    "### Keras中的循环层"
   ]
  },
  {
   "cell_type": "code",
   "execution_count": 26,
   "metadata": {
    "ExecuteTime": {
     "end_time": "2019-07-20T04:09:15.473331Z",
     "start_time": "2019-07-20T04:09:15.334703Z"
    }
   },
   "outputs": [
    {
     "name": "stdout",
     "output_type": "stream",
     "text": [
      "_________________________________________________________________\n",
      "Layer (type)                 Output Shape              Param #   \n",
      "=================================================================\n",
      "embedding_5 (Embedding)      (None, None, 32)          320000    \n",
      "_________________________________________________________________\n",
      "simple_rnn_1 (SimpleRNN)     (None, 32)                2080      \n",
      "=================================================================\n",
      "Total params: 322,080\n",
      "Trainable params: 322,080\n",
      "Non-trainable params: 0\n",
      "_________________________________________________________________\n"
     ]
    }
   ],
   "source": [
    "from keras.models import Sequential \n",
    "from keras.layers import Embedding,SimpleRNN\n",
    "\n",
    "model = Sequential()\n",
    "model.add(Embedding(10000,32))\n",
    "model.add(SimpleRNN(32))\n",
    "model.summary()"
   ]
  },
  {
   "cell_type": "code",
   "execution_count": 27,
   "metadata": {
    "ExecuteTime": {
     "end_time": "2019-07-20T04:09:21.199915Z",
     "start_time": "2019-07-20T04:09:15.475327Z"
    }
   },
   "outputs": [
    {
     "name": "stdout",
     "output_type": "stream",
     "text": [
      "Loading data...\n",
      "Train sequences: 25000\n",
      "Test sequences: 25000\n",
      "Pad sequences (samples x time)\n",
      "input_train shape: (25000, 500)\n",
      "input_test shape: (25000, 500)\n"
     ]
    }
   ],
   "source": [
    "# 准备IMDB数据集\n",
    "from keras.preprocessing import sequence\n",
    "max_features = 10000\n",
    "maxlen = 500\n",
    "batch_size = 32\n",
    "\n",
    "print('Loading data...')\n",
    "(input_train,y_train),(input_test,y_test) = imdb.load_data(num_words = max_features)\n",
    "print('Train sequences:',len(input_train))\n",
    "print('Test sequences:',len(input_test))\n",
    "\n",
    "print('Pad sequences (samples x time)')\n",
    "input_train = sequence.pad_sequences(input_train,maxlen = maxlen)\n",
    "input_test = sequence.pad_sequences(input_test,maxlen = maxlen)\n",
    "print('input_train shape:',input_train.shape)\n",
    "print('input_test shape:',input_test.shape)\n"
   ]
  },
  {
   "cell_type": "code",
   "execution_count": 28,
   "metadata": {
    "ExecuteTime": {
     "end_time": "2019-07-20T04:11:41.788069Z",
     "start_time": "2019-07-20T04:09:21.202873Z"
    }
   },
   "outputs": [
    {
     "name": "stdout",
     "output_type": "stream",
     "text": [
      "Train on 20000 samples, validate on 5000 samples\n",
      "Epoch 1/10\n",
      "20000/20000 [==============================] - 14s 718us/step - loss: 0.6435 - acc: 0.6103 - val_loss: 0.4895 - val_acc: 0.7852\n",
      "Epoch 2/10\n",
      "20000/20000 [==============================] - 14s 694us/step - loss: 0.4057 - acc: 0.8252 - val_loss: 0.4019 - val_acc: 0.8350\n",
      "Epoch 3/10\n",
      "20000/20000 [==============================] - 14s 696us/step - loss: 0.2955 - acc: 0.8810 - val_loss: 0.4239 - val_acc: 0.8028\n",
      "Epoch 4/10\n",
      "20000/20000 [==============================] - 14s 703us/step - loss: 0.3195 - acc: 0.8629 - val_loss: 0.3867 - val_acc: 0.8510\n",
      "Epoch 5/10\n",
      "20000/20000 [==============================] - 14s 701us/step - loss: 0.2148 - acc: 0.9171 - val_loss: 0.3692 - val_acc: 0.8490\n",
      "Epoch 6/10\n",
      "20000/20000 [==============================] - 14s 693us/step - loss: 0.1534 - acc: 0.9462 - val_loss: 0.3814 - val_acc: 0.8600\n",
      "Epoch 7/10\n",
      "20000/20000 [==============================] - 14s 694us/step - loss: 0.1010 - acc: 0.9659 - val_loss: 0.5198 - val_acc: 0.7776\n",
      "Epoch 8/10\n",
      "20000/20000 [==============================] - 14s 697us/step - loss: 0.0746 - acc: 0.9758 - val_loss: 0.5549 - val_acc: 0.8032\n",
      "Epoch 9/10\n",
      "20000/20000 [==============================] - 14s 702us/step - loss: 0.0405 - acc: 0.9881 - val_loss: 0.5654 - val_acc: 0.8198\n",
      "Epoch 10/10\n",
      "20000/20000 [==============================] - 14s 696us/step - loss: 0.0227 - acc: 0.9931 - val_loss: 0.6407 - val_acc: 0.8180\n"
     ]
    }
   ],
   "source": [
    "# 用Embedding层和SimpleRNN层来训练模型\n",
    "from keras.layers import Dense\n",
    "\n",
    "model = Sequential()\n",
    "model.add(Embedding(max_features,32))\n",
    "model.add(SimpleRNN(32))\n",
    "model.add(Dense(1,activation='sigmoid'))\n",
    "\n",
    "model.compile(optimizer = 'rmsprop',\n",
    "             loss='binary_crossentropy',\n",
    "             metrics=['acc'])\n",
    "\n",
    "history = model.fit(input_train,\n",
    "                   y_train,\n",
    "                   epochs=10,\n",
    "                   batch_size=128,\n",
    "                   validation_split=0.2)"
   ]
  },
  {
   "cell_type": "code",
   "execution_count": 29,
   "metadata": {
    "ExecuteTime": {
     "end_time": "2019-07-20T04:11:42.134176Z",
     "start_time": "2019-07-20T04:11:41.790064Z"
    }
   },
   "outputs": [
    {
     "data": {
      "image/png": "[encoded data removed]",
      "text/plain": [
       "<matplotlib.figure.Figure at 0x2a10117d3c8>"
      ]
     },
     "metadata": {},
     "output_type": "display_data"
    },
    {
     "data": {
      "image/png": "[encoded data removed]",
      "text/plain": [
       "<matplotlib.figure.Figure at 0x2a1016b5470>"
      ]
     },
     "metadata": {},
     "output_type": "display_data"
    }
   ],
   "source": [
    "# 绘制结果\n",
    "acc=history.history['acc']\n",
    "val_acc=history.history['val_acc']\n",
    "loss=history.history['loss']\n",
    "val_loss=history.history['val_loss']\n",
    "\n",
    "epochs = range(1,len(acc)+1)\n",
    "\n",
    "plt.plot(epochs,acc,'bo',label='Training acc')\n",
    "plt.plot(epochs,val_acc,'b',label='Validation acc')\n",
    "plt.title('Training and validation acc')\n",
    "plt.legend()\n",
    "plt.figure()\n",
    "\n",
    "plt.plot(epochs,loss,'bo',label='Training loss')\n",
    "plt.plot(epochs,val_loss,'b',label='Validation loss')\n",
    "plt.title('Training anda validation loss')\n",
    "plt.legend()\n",
    "\n",
    "plt.show()"
   ]
  },
  {
   "cell_type": "markdown",
   "metadata": {},
   "source": [
    "### Keras中一个LSTM的具体例子"
   ]
  },
  {
   "cell_type": "code",
   "execution_count": 30,
   "metadata": {
    "ExecuteTime": {
     "end_time": "2019-07-20T04:20:21.252117Z",
     "start_time": "2019-07-20T04:11:42.137136Z"
    }
   },
   "outputs": [
    {
     "name": "stdout",
     "output_type": "stream",
     "text": [
      "Train on 20000 samples, validate on 5000 samples\n",
      "Epoch 1/10\n",
      "20000/20000 [==============================] - 52s 3ms/step - loss: 0.5086 - acc: 0.7649 - val_loss: 0.3273 - val_acc: 0.8666\n",
      "Epoch 2/10\n",
      "20000/20000 [==============================] - 52s 3ms/step - loss: 0.2911 - acc: 0.8858 - val_loss: 0.3164 - val_acc: 0.8692\n",
      "Epoch 3/10\n",
      "20000/20000 [==============================] - 52s 3ms/step - loss: 0.2319 - acc: 0.9110 - val_loss: 0.2794 - val_acc: 0.8934\n",
      "Epoch 4/10\n",
      "20000/20000 [==============================] - 51s 3ms/step - loss: 0.1932 - acc: 0.9295 - val_loss: 0.4636 - val_acc: 0.8514\n",
      "Epoch 5/10\n",
      "20000/20000 [==============================] - 51s 3ms/step - loss: 0.1761 - acc: 0.9365 - val_loss: 0.3267 - val_acc: 0.8866\n",
      "Epoch 6/10\n",
      "20000/20000 [==============================] - 52s 3ms/step - loss: 0.1549 - acc: 0.9431 - val_loss: 0.4646 - val_acc: 0.8600\n",
      "Epoch 7/10\n",
      "20000/20000 [==============================] - 51s 3ms/step - loss: 0.1426 - acc: 0.9492 - val_loss: 0.4157 - val_acc: 0.8738\n",
      "Epoch 8/10\n",
      "20000/20000 [==============================] - 52s 3ms/step - loss: 0.1288 - acc: 0.9550 - val_loss: 0.3179 - val_acc: 0.8832\n",
      "Epoch 9/10\n",
      "20000/20000 [==============================] - 52s 3ms/step - loss: 0.1176 - acc: 0.9593 - val_loss: 0.3739 - val_acc: 0.8686\n",
      "Epoch 10/10\n",
      "20000/20000 [==============================] - 52s 3ms/step - loss: 0.1095 - acc: 0.9619 - val_loss: 0.3605 - val_acc: 0.8806\n"
     ]
    }
   ],
   "source": [
    "# 使用Keras中的LSTM层\n",
    "from keras.layers import LSTM\n",
    "\n",
    "model = Sequential()\n",
    "model.add(Embedding(max_features,32))\n",
    "model.add(LSTM(32))\n",
    "model.add(Dense(1,activation='sigmoid'))\n",
    "model.compile(optimizer = 'rmsprop',\n",
    "             loss='binary_crossentropy',\n",
    "             metrics=['acc'])\n",
    "history = model.fit(input_train,y_train,\n",
    "                   epochs=10,\n",
    "                   batch_size=128,\n",
    "                   validation_split=0.2)"
   ]
  },
  {
   "cell_type": "code",
   "execution_count": 31,
   "metadata": {
    "ExecuteTime": {
     "end_time": "2019-07-20T04:20:21.588253Z",
     "start_time": "2019-07-20T04:20:21.254112Z"
    }
   },
   "outputs": [
    {
     "data": {
      "image/png": "[encoded data removed]",
      "text/plain": [
       "<matplotlib.figure.Figure at 0x2a158de9898>"
      ]
     },
     "metadata": {},
     "output_type": "display_data"
    },
    {
     "data": {
      "image/png": "[encoded data removed]",
      "text/plain": [
       "<matplotlib.figure.Figure at 0x2a10e58c048>"
      ]
     },
     "metadata": {},
     "output_type": "display_data"
    }
   ],
   "source": [
    "from function import draw_curve\n",
    "draw_curve(history)"
   ]
  },
  {
   "cell_type": "markdown",
   "metadata": {},
   "source": [
    "## 循环神经网络的高级用法"
   ]
  },
  {
   "cell_type": "markdown",
   "metadata": {},
   "source": [
    "### 温度预测问题"
   ]
  },
  {
   "cell_type": "code",
   "execution_count": 32,
   "metadata": {
    "ExecuteTime": {
     "end_time": "2019-07-20T13:22:21.310969Z",
     "start_time": "2019-07-20T13:22:21.300995Z"
    },
    "collapsed": true
   },
   "outputs": [],
   "source": [
    "jena_data = './data/jena_climate_2009_2016.csv'"
   ]
  },
  {
   "cell_type": "code",
   "execution_count": 33,
   "metadata": {
    "ExecuteTime": {
     "end_time": "2019-07-20T13:34:39.047792Z",
     "start_time": "2019-07-20T13:34:38.694735Z"
    }
   },
   "outputs": [
    {
     "name": "stdout",
     "output_type": "stream",
     "text": [
      "['\"Date Time\"', '\"p (mbar)\"', '\"T (degC)\"', '\"Tpot (K)\"', '\"Tdew (degC)\"', '\"rh (%)\"', '\"VPmax (mbar)\"', '\"VPact (mbar)\"', '\"VPdef (mbar)\"', '\"sh (g/kg)\"', '\"H2OC (mmol/mol)\"', '\"rho (g/m**3)\"', '\"wv (m/s)\"', '\"max. wv (m/s)\"', '\"wd (deg)\"']\n",
      "420551\n"
     ]
    }
   ],
   "source": [
    "import os \n",
    "\n",
    "f =open(jena_data)\n",
    "data = f.read()\n",
    "f.close()\n",
    "\n",
    "lines = data.split('\\n')\n",
    "header = lines[0].split(',')\n",
    "lines = lines[1:]\n",
    "\n",
    "print(header)\n",
    "print(len(lines))"
   ]
  },
  {
   "cell_type": "code",
   "execution_count": 34,
   "metadata": {
    "ExecuteTime": {
     "end_time": "2019-07-20T13:47:00.462558Z",
     "start_time": "2019-07-20T13:46:57.332894Z"
    },
    "collapsed": true
   },
   "outputs": [],
   "source": [
    "# 解析数据\n",
    "import numpy as np\n",
    "\n",
    "float_data = np.zeros((len(lines),len(header)-1))\n",
    "\n",
    "for i,line in enumerate(lines):\n",
    "    values = [float(x) for x in line.split(',')[1:]]\n",
    "    float_data[i,:]=values"
   ]
  },
  {
   "cell_type": "code",
   "execution_count": 37,
   "metadata": {
    "ExecuteTime": {
     "end_time": "2019-07-20T14:23:26.043177Z",
     "start_time": "2019-07-20T14:23:25.549280Z"
    }
   },
   "outputs": [
    {
     "data": {
      "image/png": "[encoded data removed]",
      "text/plain": [
       "<matplotlib.figure.Figure at 0x2a15b162940>"
      ]
     },
     "metadata": {},
     "output_type": "display_data"
    }
   ],
   "source": [
    "# 绘制温度时间序列\n",
    "from matplotlib import pyplot as plt\n",
    "\n",
    "temp = float_data[:,1]# 温度\n",
    "plt.plot(range(len(temp)),temp)\n",
    "plt.show()"
   ]
  },
  {
   "cell_type": "code",
   "execution_count": 38,
   "metadata": {
    "ExecuteTime": {
     "end_time": "2019-07-20T14:35:37.374902Z",
     "start_time": "2019-07-20T14:35:37.232250Z"
    }
   },
   "outputs": [
    {
     "data": {
      "image/png": "[encoded data removed]",
      "text/plain": [
       "<matplotlib.figure.Figure at 0x2a114ca3240>"
      ]
     },
     "metadata": {},
     "output_type": "display_data"
    }
   ],
   "source": [
    "# 绘制前10天的温度时间序列\n",
    "plt.plot(range(1440),temp[:1440])\n",
    "plt.show()"
   ]
  },
  {
   "cell_type": "markdown",
   "metadata": {},
   "source": [
    "### 准备数据"
   ]
  },
  {
   "cell_type": "code",
   "execution_count": 39,
   "metadata": {
    "ExecuteTime": {
     "end_time": "2019-07-21T03:44:28.371707Z",
     "start_time": "2019-07-21T03:44:28.142317Z"
    },
    "collapsed": true
   },
   "outputs": [],
   "source": [
    "# 数据标准化\n",
    "mean = float_data[:200000].mean(axis=0)\n",
    "float_data -= mean\n",
    "std = float_data[:200000].std(axis=0)\n",
    "float_data /= std"
   ]
  },
  {
   "cell_type": "code",
   "execution_count": 46,
   "metadata": {
    "ExecuteTime": {
     "end_time": "2019-07-21T07:18:55.522940Z",
     "start_time": "2019-07-21T07:18:55.496972Z"
    }
   },
   "outputs": [],
   "source": [
    "# 生成时间序列样本及其目标的生成器\n",
    "def generator(data,lookback,delay,min_index,max_index,shuffle = False,batch_size=128,step=6):\n",
    "    if max_index is None:\n",
    "        max_index = len(data)-delay-1\n",
    "    i = min_index+lookback\n",
    "    while 1:\n",
    "        if shuffle:\n",
    "            rows = np.random.randint(min_index+lookback,max_index,size=batch_size)\n",
    "        else:\n",
    "            if i+batch_size>=max_index:\n",
    "                i = min_index+lookback\n",
    "            rows = np.arrange(i,min(i+batch_size,max_index))\n",
    "            i += len(rows)\n",
    "        samples = np.zeros((len(rows),\n",
    "                           lookback//step,\n",
    "                           data.shape[-1]))\n",
    "        targets = np.zeros((len(rows),))\n",
    "        for j,row in enumerate(rows):\n",
    "            indices = range(rows[j]-lookback,rows[j],step)\n",
    "            samples[j] =data[indices]\n",
    "            targets[j] = data[rows[j]+delay][1]\n",
    "        yield samples,targets"
   ]
  },
  {
   "cell_type": "code",
   "execution_count": 47,
   "metadata": {
    "ExecuteTime": {
     "end_time": "2019-07-21T07:32:18.417844Z",
     "start_time": "2019-07-21T07:32:18.391914Z"
    }
   },
   "outputs": [],
   "source": [
    "# 准备训练生成器，验证生成器和测试生成器\n",
    "lookback = 1440\n",
    "step = 6\n",
    "delay = 144\n",
    "batch_size = 128\n",
    "\n",
    "train_gen = generator(float_data,\n",
    "                     lookback = lookback,\n",
    "                     delay =delay,\n",
    "                     min_index = 0,\n",
    "                     max_index = 200000,\n",
    "                     shuffle = True,\n",
    "                     step=step,\n",
    "                     batch_size = batch_size)\n",
    "\n",
    "val_gen = generator(float_data,\n",
    "                     lookback = lookback,\n",
    "                     delay =delay,\n",
    "                     min_index = 200001,\n",
    "                     max_index = 300000,\n",
    "                     shuffle = True,\n",
    "                     step=step,\n",
    "                     batch_size = batch_size)\n",
    "\n",
    "test_gen = generator(float_data,\n",
    "                     lookback = lookback,\n",
    "                     delay =delay,\n",
    "                     min_index = 200001,\n",
    "                     max_index = 300000,\n",
    "                     shuffle = True,\n",
    "                     step=step,\n",
    "                     batch_size = batch_size)\n",
    "\n",
    "val_steps = (300000-200001-lookback)//batch_size\n",
    "\n",
    "test_steps = (len(float_data)-300001-lookback)//batch_size\n"
   ]
  },
  {
   "cell_type": "markdown",
   "metadata": {},
   "source": [
    "### 一种基于常识的、非机器学习的基准方法|"
   ]
  },
  {
   "cell_type": "code",
   "execution_count": 48,
   "metadata": {
    "ExecuteTime": {
     "end_time": "2019-07-21T07:45:04.718966Z",
     "start_time": "2019-07-21T07:44:57.038536Z"
    }
   },
   "outputs": [
    {
     "name": "stdout",
     "output_type": "stream",
     "text": [
      "0.2889722209461827\n"
     ]
    }
   ],
   "source": [
    "# 计算符合常识的基准方法的MAE\n",
    "def evalutate_navie_method():\n",
    "    batch_maes = []\n",
    "    for step in range(val_steps):\n",
    "        samples,targets = next(val_gen)\n",
    "        preds = samples[:,-1,1]\n",
    "        mae = np.mean(np.abs(preds-targets))\n",
    "        batch_maes.append(mae)\n",
    "    print(np.mean(batch_maes))\n",
    "evalutate_navie_method()"
   ]
  },
  {
   "cell_type": "code",
   "execution_count": 49,
   "metadata": {
    "ExecuteTime": {
     "end_time": "2019-07-21T07:57:53.687938Z",
     "start_time": "2019-07-21T07:57:53.681954Z"
    },
    "collapsed": true
   },
   "outputs": [],
   "source": [
    "# 将MAE转为摄氏温度误差\n",
    "celsius_mae = 0.29*std[1]"
   ]
  },
  {
   "cell_type": "markdown",
   "metadata": {},
   "source": [
    "### 一种基本的机器学习方法"
   ]
  },
  {
   "cell_type": "code",
   "execution_count": 52,
   "metadata": {
    "ExecuteTime": {
     "end_time": "2019-07-21T09:05:39.661870Z",
     "start_time": "2019-07-21T09:05:39.525263Z"
    }
   },
   "outputs": [],
   "source": [
    "# 训练兵评估一个密集连接模型\n",
    "\n",
    "from keras.optimizers import RMSprop\n",
    "from keras import layers\n",
    "\n",
    "model = Sequential()\n",
    "model.add(layers.Flatten(input_shape = (lookback//step,float_data.shape[-1])))\n",
    "model.add(layers.Dense(32,activation='relu'))\n",
    "model.add(layers.Dense(1))"
   ]
  },
  {
   "cell_type": "code",
   "execution_count": 54,
   "metadata": {
    "ExecuteTime": {
     "end_time": "2019-07-21T11:06:52.031479Z",
     "start_time": "2019-07-21T11:02:09.772546Z"
    }
   },
   "outputs": [
    {
     "name": "stdout",
     "output_type": "stream",
     "text": [
      "Epoch 1/20\n",
      "500/500 [==============================] - 15s 29ms/step - loss: 1.2126 - val_loss: 0.5438\n",
      "Epoch 2/20\n",
      "500/500 [==============================] - 14s 27ms/step - loss: 0.3832 - val_loss: 0.3473\n",
      "Epoch 3/20\n",
      "500/500 [==============================] - 14s 27ms/step - loss: 0.2869 - val_loss: 0.3101\n",
      "Epoch 4/20\n",
      "500/500 [==============================] - 14s 27ms/step - loss: 0.2651 - val_loss: 0.2963\n",
      "Epoch 5/20\n",
      "500/500 [==============================] - 14s 27ms/step - loss: 0.2535 - val_loss: 0.3094\n",
      "Epoch 6/20\n",
      "500/500 [==============================] - 14s 27ms/step - loss: 0.2485 - val_loss: 0.3175\n",
      "Epoch 7/20\n",
      "500/500 [==============================] - 14s 27ms/step - loss: 0.2398 - val_loss: 0.3064\n",
      "Epoch 8/20\n",
      "500/500 [==============================] - 14s 27ms/step - loss: 0.2356 - val_loss: 0.3106\n",
      "Epoch 9/20\n",
      "500/500 [==============================] - 14s 27ms/step - loss: 0.2306 - val_loss: 0.3224\n",
      "Epoch 10/20\n",
      "500/500 [==============================] - 14s 27ms/step - loss: 0.2250 - val_loss: 0.3229\n",
      "Epoch 11/20\n",
      "500/500 [==============================] - 14s 27ms/step - loss: 0.2222 - val_loss: 0.3289\n",
      "Epoch 12/20\n",
      "500/500 [==============================] - 14s 29ms/step - loss: 0.2177 - val_loss: 0.3186\n",
      "Epoch 13/20\n",
      "500/500 [==============================] - 15s 31ms/step - loss: 0.2156 - val_loss: 0.3276\n",
      "Epoch 14/20\n",
      "500/500 [==============================] - 16s 33ms/step - loss: 0.2109 - val_loss: 0.3711\n",
      "Epoch 15/20\n",
      "500/500 [==============================] - 15s 30ms/step - loss: 0.2087 - val_loss: 0.3279\n",
      "Epoch 16/20\n",
      "500/500 [==============================] - 14s 28ms/step - loss: 0.2083 - val_loss: 0.3329\n",
      "Epoch 17/20\n",
      "500/500 [==============================] - 14s 28ms/step - loss: 0.2051 - val_loss: 0.3594\n",
      "Epoch 18/20\n",
      "500/500 [==============================] - 14s 28ms/step - loss: 0.2036 - val_loss: 0.3305\n",
      "Epoch 19/20\n",
      "500/500 [==============================] - 14s 28ms/step - loss: 0.2010 - val_loss: 0.3320\n",
      "Epoch 20/20\n",
      "500/500 [==============================] - 14s 28ms/step - loss: 0.2008 - val_loss: 0.3312\n"
     ]
    }
   ],
   "source": [
    "model.compile(optimizer = RMSprop(),loss='mae')\n",
    "history = model.fit_generator(train_gen,steps_per_epoch=500,\n",
    "                             epochs=20,\n",
    "                             validation_data = val_gen,\n",
    "                             validation_steps=val_steps)"
   ]
  },
  {
   "cell_type": "code",
   "execution_count": 56,
   "metadata": {
    "ExecuteTime": {
     "end_time": "2019-07-21T11:38:43.557389Z",
     "start_time": "2019-07-21T11:38:43.326362Z"
    }
   },
   "outputs": [
    {
     "data": {
      "image/png": "[encoded data removed]",
      "text/plain": [
       "<matplotlib.figure.Figure at 0x2a1192b4cf8>"
      ]
     },
     "metadata": {},
     "output_type": "display_data"
    }
   ],
   "source": [
    "loss=history.history['loss']\n",
    "val_loss=history.history['val_loss']\n",
    "\n",
    "epochs = range(1,len(loss)+1)\n",
    "\n",
    "plt.figure()\n",
    "\n",
    "plt.plot(epochs,loss,'bo',label='Training loss')\n",
    "plt.plot(epochs,val_loss,'b',label='Validation loss')\n",
    "plt.title('Training anda validation loss')\n",
    "plt.legend()\n",
    "\n",
    "plt.show()"
   ]
  },
  {
   "cell_type": "markdown",
   "metadata": {},
   "source": [
    "### 第一个循环网络基准"
   ]
  },
  {
   "cell_type": "code",
   "execution_count": 59,
   "metadata": {
    "ExecuteTime": {
     "end_time": "2019-07-21T12:14:35.570591Z",
     "start_time": "2019-07-21T11:52:12.679062Z"
    }
   },
   "outputs": [
    {
     "name": "stdout",
     "output_type": "stream",
     "text": [
      "Epoch 1/20\n",
      "500/500 [==============================] - 66s 132ms/step - loss: 0.3030 - val_loss: 0.2688\n",
      "Epoch 2/20\n",
      "500/500 [==============================] - 66s 133ms/step - loss: 0.2849 - val_loss: 0.2655\n",
      "Epoch 3/20\n",
      "500/500 [==============================] - 71s 141ms/step - loss: 0.2779 - val_loss: 0.2615\n",
      "Epoch 4/20\n",
      "500/500 [==============================] - 71s 142ms/step - loss: 0.2734 - val_loss: 0.2649\n",
      "Epoch 5/20\n",
      "500/500 [==============================] - 69s 137ms/step - loss: 0.2698 - val_loss: 0.2613\n",
      "Epoch 6/20\n",
      "500/500 [==============================] - 67s 134ms/step - loss: 0.2654 - val_loss: 0.2609\n",
      "Epoch 7/20\n",
      "500/500 [==============================] - 65s 130ms/step - loss: 0.2590 - val_loss: 0.2632\n",
      "Epoch 8/20\n",
      "500/500 [==============================] - 65s 130ms/step - loss: 0.2542 - val_loss: 0.2634\n",
      "Epoch 9/20\n",
      "500/500 [==============================] - 66s 131ms/step - loss: 0.2495 - val_loss: 0.2655\n",
      "Epoch 10/20\n",
      "500/500 [==============================] - 65s 130ms/step - loss: 0.2428 - val_loss: 0.2674\n",
      "Epoch 11/20\n",
      "500/500 [==============================] - 67s 134ms/step - loss: 0.2391 - val_loss: 0.2746\n",
      "Epoch 12/20\n",
      "500/500 [==============================] - 66s 133ms/step - loss: 0.2366 - val_loss: 0.2738\n",
      "Epoch 13/20\n",
      "500/500 [==============================] - 65s 130ms/step - loss: 0.2337 - val_loss: 0.2819\n",
      "Epoch 14/20\n",
      "500/500 [==============================] - 67s 134ms/step - loss: 0.2278 - val_loss: 0.2769\n",
      "Epoch 15/20\n",
      "500/500 [==============================] - 68s 136ms/step - loss: 0.2235 - val_loss: 0.2869\n",
      "Epoch 16/20\n",
      "500/500 [==============================] - 68s 135ms/step - loss: 0.2211 - val_loss: 0.2886\n",
      "Epoch 17/20\n",
      "500/500 [==============================] - 67s 134ms/step - loss: 0.2163 - val_loss: 0.2893\n",
      "Epoch 18/20\n",
      "500/500 [==============================] - 69s 139ms/step - loss: 0.2143 - val_loss: 0.2946\n",
      "Epoch 19/20\n",
      "500/500 [==============================] - 68s 136ms/step - loss: 0.2116 - val_loss: 0.2905\n",
      "Epoch 20/20\n",
      "500/500 [==============================] - 66s 132ms/step - loss: 0.2076 - val_loss: 0.2991\n"
     ]
    }
   ],
   "source": [
    "# 训练并评估一个基于GRU的模型\n",
    "from keras import layers\n",
    "from keras.optimizers import RMSprop\n",
    "\n",
    "model = Sequential()\n",
    "model.add(layers.GRU(32,input_shape=(None,float_data.shape[-1])))\n",
    "model.add(layers.Dense(1))\n",
    "\n",
    "model.compile(optimizer=RMSprop(),loss='mae')\n",
    "history = model.fit_generator(train_gen,\n",
    "                             steps_per_epoch=500,\n",
    "                             epochs=20,\n",
    "                             validation_data=val_gen,\n",
    "                             validation_steps=val_steps)"
   ]
  },
  {
   "cell_type": "code",
   "execution_count": 64,
   "metadata": {
    "ExecuteTime": {
     "end_time": "2019-07-21T13:11:47.543093Z",
     "start_time": "2019-07-21T13:11:47.334652Z"
    }
   },
   "outputs": [
    {
     "data": {
      "image/png": "[encoded data removed]",
      "text/plain": [
       "<matplotlib.figure.Figure at 0x2a11a021ef0>"
      ]
     },
     "metadata": {},
     "output_type": "display_data"
    }
   ],
   "source": [
    "loss=history.history['loss']\n",
    "val_loss=history.history['val_loss']\n",
    "\n",
    "epochs = range(1,len(loss)+1)\n",
    "\n",
    "plt.figure()\n",
    "\n",
    "plt.plot(epochs,loss,'bo',label='Training loss')\n",
    "plt.plot(epochs,val_loss,'b',label='Validation loss')\n",
    "plt.title('Training anda validation loss')\n",
    "plt.legend()\n",
    "\n",
    "plt.show()"
   ]
  },
  {
   "cell_type": "markdown",
   "metadata": {},
   "source": [
    "### 使用Dropout来降低过拟合"
   ]
  },
  {
   "cell_type": "code",
   "execution_count": 66,
   "metadata": {
    "ExecuteTime": {
     "end_time": "2019-07-21T14:25:27.992724Z",
     "start_time": "2019-07-21T13:30:59.283837Z"
    }
   },
   "outputs": [
    {
     "name": "stdout",
     "output_type": "stream",
     "text": [
      "WARNING:tensorflow:From D:\\Anaconda\\lib\\site-packages\\keras\\backend\\tensorflow_backend.py:3445: calling dropout (from tensorflow.python.ops.nn_ops) with keep_prob is deprecated and will be removed in a future version.\n",
      "Instructions for updating:\n",
      "Please use `rate` instead of `keep_prob`. Rate should be set to `rate = 1 - keep_prob`.\n",
      "Epoch 1/40\n",
      "500/500 [==============================] - 84s 168ms/step - loss: 0.3431 - val_loss: 0.2852\n",
      "Epoch 2/40\n",
      "500/500 [==============================] - 80s 161ms/step - loss: 0.3136 - val_loss: 0.2688\n",
      "Epoch 3/40\n",
      "500/500 [==============================] - 85s 169ms/step - loss: 0.3062 - val_loss: 0.2652\n",
      "Epoch 4/40\n",
      "500/500 [==============================] - 91s 181ms/step - loss: 0.3038 - val_loss: 0.2707\n",
      "Epoch 5/40\n",
      "500/500 [==============================] - 80s 159ms/step - loss: 0.2998 - val_loss: 0.2664\n",
      "Epoch 6/40\n",
      "500/500 [==============================] - 83s 166ms/step - loss: 0.2970 - val_loss: 0.2679\n",
      "Epoch 7/40\n",
      "500/500 [==============================] - 84s 168ms/step - loss: 0.2946 - val_loss: 0.2754\n",
      "Epoch 8/40\n",
      "500/500 [==============================] - 81s 163ms/step - loss: 0.2899 - val_loss: 0.2622\n",
      "Epoch 9/40\n",
      "500/500 [==============================] - 86s 173ms/step - loss: 0.2899 - val_loss: 0.2647\n",
      "Epoch 10/40\n",
      "500/500 [==============================] - 91s 183ms/step - loss: 0.2881 - val_loss: 0.2703\n",
      "Epoch 11/40\n",
      "500/500 [==============================] - 79s 158ms/step - loss: 0.2878 - val_loss: 0.2660\n",
      "Epoch 12/40\n",
      "500/500 [==============================] - 79s 157ms/step - loss: 0.2863 - val_loss: 0.2645\n",
      "Epoch 13/40\n",
      "500/500 [==============================] - 79s 158ms/step - loss: 0.2840 - val_loss: 0.2658\n",
      "Epoch 14/40\n",
      "500/500 [==============================] - 79s 158ms/step - loss: 0.2835 - val_loss: 0.2619\n",
      "Epoch 15/40\n",
      "500/500 [==============================] - 79s 158ms/step - loss: 0.2822 - val_loss: 0.2755\n",
      "Epoch 16/40\n",
      "500/500 [==============================] - 79s 157ms/step - loss: 0.2817 - val_loss: 0.2761\n",
      "Epoch 17/40\n",
      "500/500 [==============================] - 79s 157ms/step - loss: 0.2819 - val_loss: 0.2646\n",
      "Epoch 18/40\n",
      "500/500 [==============================] - 79s 158ms/step - loss: 0.2804 - val_loss: 0.2652\n",
      "Epoch 19/40\n",
      "500/500 [==============================] - 81s 162ms/step - loss: 0.2788 - val_loss: 0.2648\n",
      "Epoch 20/40\n",
      "500/500 [==============================] - 86s 173ms/step - loss: 0.2778 - val_loss: 0.2650\n",
      "Epoch 21/40\n",
      "500/500 [==============================] - 84s 168ms/step - loss: 0.2775 - val_loss: 0.2694\n",
      "Epoch 22/40\n",
      "500/500 [==============================] - 87s 174ms/step - loss: 0.2782 - val_loss: 0.2635\n",
      "Epoch 23/40\n",
      "500/500 [==============================] - 90s 181ms/step - loss: 0.2777 - val_loss: 0.2647\n",
      "Epoch 24/40\n",
      "500/500 [==============================] - 88s 175ms/step - loss: 0.2746 - val_loss: 0.2623\n",
      "Epoch 25/40\n",
      "500/500 [==============================] - 81s 163ms/step - loss: 0.2753 - val_loss: 0.2682\n",
      "Epoch 26/40\n",
      "500/500 [==============================] - 78s 157ms/step - loss: 0.2752 - val_loss: 0.2642\n",
      "Epoch 27/40\n",
      "500/500 [==============================] - 79s 158ms/step - loss: 0.2741 - val_loss: 0.2684\n",
      "Epoch 28/40\n",
      "500/500 [==============================] - 78s 156ms/step - loss: 0.2742 - val_loss: 0.2732\n",
      "Epoch 29/40\n",
      "500/500 [==============================] - 79s 158ms/step - loss: 0.2740 - val_loss: 0.2654\n",
      "Epoch 30/40\n",
      "500/500 [==============================] - 79s 158ms/step - loss: 0.2730 - val_loss: 0.2677\n",
      "Epoch 31/40\n",
      "500/500 [==============================] - 78s 157ms/step - loss: 0.2722 - val_loss: 0.2721\n",
      "Epoch 32/40\n",
      "500/500 [==============================] - 81s 162ms/step - loss: 0.2721 - val_loss: 0.2640\n",
      "Epoch 33/40\n",
      "500/500 [==============================] - 80s 160ms/step - loss: 0.2718 - val_loss: 0.2648\n",
      "Epoch 34/40\n",
      "500/500 [==============================] - 81s 161ms/step - loss: 0.2696 - val_loss: 0.2734\n",
      "Epoch 35/40\n",
      "500/500 [==============================] - 81s 161ms/step - loss: 0.2697 - val_loss: 0.2707\n",
      "Epoch 36/40\n",
      "500/500 [==============================] - 80s 161ms/step - loss: 0.2698 - val_loss: 0.2661\n",
      "Epoch 37/40\n",
      "500/500 [==============================] - 80s 160ms/step - loss: 0.2683 - val_loss: 0.2671\n",
      "Epoch 38/40\n",
      "500/500 [==============================] - 80s 159ms/step - loss: 0.2673 - val_loss: 0.2691\n",
      "Epoch 39/40\n",
      "500/500 [==============================] - 80s 159ms/step - loss: 0.2684 - val_loss: 0.2662\n",
      "Epoch 40/40\n",
      "500/500 [==============================] - 80s 159ms/step - loss: 0.2686 - val_loss: 0.2638\n"
     ]
    }
   ],
   "source": [
    "# 训练并评估一个使用dropout正则化的基于GRU的模型\n",
    "model = Sequential()\n",
    "model.add(layers.GRU(32,dropout=0.2,\n",
    "                    recurrent_dropout = 0.2,\n",
    "                    input_shape=(None,float_data.shape[-1])))\n",
    "model.add(layers.Dense(1))\n",
    "model.compile(optimizer=RMSprop(),loss='mae')\n",
    "history = model.fit_generator(train_gen,\n",
    "                             steps_per_epoch=500,\n",
    "                             epochs=40,\n",
    "                             validation_data=val_gen,\n",
    "                             validation_steps=val_steps)"
   ]
  },
  {
   "cell_type": "code",
   "execution_count": 67,
   "metadata": {
    "ExecuteTime": {
     "end_time": "2019-07-21T14:37:56.283030Z",
     "start_time": "2019-07-21T14:37:56.063478Z"
    }
   },
   "outputs": [
    {
     "data": {
      "image/png": "[encoded data removed]",
      "text/plain": [
       "<matplotlib.figure.Figure at 0x2a1153a2588>"
      ]
     },
     "metadata": {},
     "output_type": "display_data"
    }
   ],
   "source": [
    "loss=history.history['loss']\n",
    "val_loss=history.history['val_loss']\n",
    "\n",
    "epochs = range(1,len(loss)+1)\n",
    "\n",
    "plt.figure()\n",
    "\n",
    "plt.plot(epochs,loss,'bo',label='Training loss')\n",
    "plt.plot(epochs,val_loss,'b',label='Validation loss')\n",
    "plt.title('Training anda validation loss')\n",
    "plt.legend()\n",
    "\n",
    "plt.show()"
   ]
  },
  {
   "cell_type": "markdown",
   "metadata": {},
   "source": [
    "### 循环层堆叠"
   ]
  },
  {
   "cell_type": "code",
   "execution_count": 69,
   "metadata": {
    "ExecuteTime": {
     "end_time": "2019-07-21T17:31:02.142165Z",
     "start_time": "2019-07-21T14:50:54.412834Z"
    }
   },
   "outputs": [
    {
     "name": "stdout",
     "output_type": "stream",
     "text": [
      "Epoch 1/40\n",
      "500/500 [==============================] - 246s 493ms/step - loss: 0.3337 - val_loss: 0.2757\n",
      "Epoch 2/40\n",
      "500/500 [==============================] - 240s 480ms/step - loss: 0.3114 - val_loss: 0.2751\n",
      "Epoch 3/40\n",
      "500/500 [==============================] - 241s 482ms/step - loss: 0.3071 - val_loss: 0.2752\n",
      "Epoch 4/40\n",
      "500/500 [==============================] - 239s 479ms/step - loss: 0.3017 - val_loss: 0.2709\n",
      "Epoch 5/40\n",
      "500/500 [==============================] - 239s 478ms/step - loss: 0.2993 - val_loss: 0.2690\n",
      "Epoch 6/40\n",
      "500/500 [==============================] - 239s 478ms/step - loss: 0.2947 - val_loss: 0.2668\n",
      "Epoch 7/40\n",
      "500/500 [==============================] - 240s 479ms/step - loss: 0.2938 - val_loss: 0.2787\n",
      "Epoch 8/40\n",
      "500/500 [==============================] - 239s 479ms/step - loss: 0.2921 - val_loss: 0.2688\n",
      "Epoch 9/40\n",
      "500/500 [==============================] - 239s 477ms/step - loss: 0.2910 - val_loss: 0.2715\n",
      "Epoch 10/40\n",
      "500/500 [==============================] - 239s 478ms/step - loss: 0.2889 - val_loss: 0.2646\n",
      "Epoch 11/40\n",
      "500/500 [==============================] - 239s 478ms/step - loss: 0.2860 - val_loss: 0.2709\n",
      "Epoch 12/40\n",
      "500/500 [==============================] - 240s 480ms/step - loss: 0.2852 - val_loss: 0.2657\n",
      "Epoch 13/40\n",
      "500/500 [==============================] - 242s 484ms/step - loss: 0.2820 - val_loss: 0.2702\n",
      "Epoch 14/40\n",
      "500/500 [==============================] - 243s 485ms/step - loss: 0.2819 - val_loss: 0.2623\n",
      "Epoch 15/40\n",
      "500/500 [==============================] - 239s 478ms/step - loss: 0.2781 - val_loss: 0.2754\n",
      "Epoch 16/40\n",
      "500/500 [==============================] - 239s 478ms/step - loss: 0.2778 - val_loss: 0.2696\n",
      "Epoch 17/40\n",
      "500/500 [==============================] - 239s 478ms/step - loss: 0.2756 - val_loss: 0.2641\n",
      "Epoch 18/40\n",
      "500/500 [==============================] - 240s 481ms/step - loss: 0.2741 - val_loss: 0.2626\n",
      "Epoch 19/40\n",
      "500/500 [==============================] - 240s 480ms/step - loss: 0.2723 - val_loss: 0.2700\n",
      "Epoch 20/40\n",
      "500/500 [==============================] - 241s 481ms/step - loss: 0.2710 - val_loss: 0.2609\n",
      "Epoch 21/40\n",
      "500/500 [==============================] - 240s 480ms/step - loss: 0.2699 - val_loss: 0.2691\n",
      "Epoch 22/40\n",
      "500/500 [==============================] - 241s 482ms/step - loss: 0.2690 - val_loss: 0.2613\n",
      "Epoch 23/40\n",
      "500/500 [==============================] - 240s 480ms/step - loss: 0.2669 - val_loss: 0.2622\n",
      "Epoch 24/40\n",
      "500/500 [==============================] - 240s 479ms/step - loss: 0.2671 - val_loss: 0.2655\n",
      "Epoch 25/40\n",
      "500/500 [==============================] - 240s 479ms/step - loss: 0.2659 - val_loss: 0.2669\n",
      "Epoch 26/40\n",
      "500/500 [==============================] - 240s 480ms/step - loss: 0.2665 - val_loss: 0.2597\n",
      "Epoch 27/40\n",
      "500/500 [==============================] - 240s 481ms/step - loss: 0.2632 - val_loss: 0.2683\n",
      "Epoch 28/40\n",
      "500/500 [==============================] - 240s 480ms/step - loss: 0.2636 - val_loss: 0.2672\n",
      "Epoch 29/40\n",
      "500/500 [==============================] - 240s 480ms/step - loss: 0.2622 - val_loss: 0.2612\n",
      "Epoch 30/40\n",
      "500/500 [==============================] - 240s 480ms/step - loss: 0.2622 - val_loss: 0.2812\n",
      "Epoch 31/40\n",
      "500/500 [==============================] - 240s 480ms/step - loss: 0.2615 - val_loss: 0.2737\n",
      "Epoch 32/40\n",
      "500/500 [==============================] - 240s 481ms/step - loss: 0.2606 - val_loss: 0.2768\n",
      "Epoch 33/40\n",
      "500/500 [==============================] - 240s 481ms/step - loss: 0.2605 - val_loss: 0.2704\n",
      "Epoch 34/40\n",
      "500/500 [==============================] - 240s 480ms/step - loss: 0.2596 - val_loss: 0.2762\n",
      "Epoch 35/40\n",
      "500/500 [==============================] - 240s 479ms/step - loss: 0.2577 - val_loss: 0.2710\n",
      "Epoch 36/40\n",
      "500/500 [==============================] - 240s 480ms/step - loss: 0.2572 - val_loss: 0.2722\n",
      "Epoch 37/40\n",
      "500/500 [==============================] - 241s 481ms/step - loss: 0.2563 - val_loss: 0.2699\n",
      "Epoch 38/40\n",
      "500/500 [==============================] - 240s 480ms/step - loss: 0.2563 - val_loss: 0.2749\n",
      "Epoch 39/40\n",
      "500/500 [==============================] - 240s 480ms/step - loss: 0.2550 - val_loss: 0.2745\n",
      "Epoch 40/40\n",
      "500/500 [==============================] - 240s 480ms/step - loss: 0.2547 - val_loss: 0.2744\n"
     ]
    }
   ],
   "source": [
    "# 训练并评估一个使用dropout正则化的堆叠GRU模型\n",
    "model = Sequential()\n",
    "model.add(layers.GRU(32,dropout=0.1,\n",
    "                    recurrent_dropout = 0.5,\n",
    "                     return_sequences=True,\n",
    "                    input_shape=(None,float_data.shape[-1])))\n",
    "model.add(layers.GRU(64,\n",
    "                     activation='relu',\n",
    "                     dropout=0.1,\n",
    "                    recurrent_dropout = 0.5))\n",
    "model.add(layers.Dense(1))\n",
    "model.compile(optimizer=RMSprop(),loss='mae')\n",
    "history = model.fit_generator(train_gen,\n",
    "                             steps_per_epoch=500,\n",
    "                             epochs=40,\n",
    "                             validation_data=val_gen,\n",
    "                             validation_steps=val_steps)"
   ]
  },
  {
   "cell_type": "code",
   "execution_count": 70,
   "metadata": {
    "ExecuteTime": {
     "end_time": "2019-07-21T17:43:29.966169Z",
     "start_time": "2019-07-21T17:43:29.756252Z"
    }
   },
   "outputs": [
    {
     "data": {
      "image/png": "[encoded data removed]",
      "text/plain": [
       "<matplotlib.figure.Figure at 0x2a120ef3eb8>"
      ]
     },
     "metadata": {},
     "output_type": "display_data"
    }
   ],
   "source": [
    "loss=history.history['loss']\n",
    "val_loss=history.history['val_loss']\n",
    "\n",
    "epochs = range(1,len(loss)+1)\n",
    "\n",
    "plt.figure()\n",
    "\n",
    "plt.plot(epochs,loss,'bo',label='Training loss')\n",
    "plt.plot(epochs,val_loss,'b',label='Validation loss')\n",
    "plt.title('Training anda validation loss')\n",
    "plt.legend()\n",
    "\n",
    "plt.show()"
   ]
  },
  {
   "cell_type": "markdown",
   "metadata": {},
   "source": [
    "### 使用双向RNN"
   ]
  },
  {
   "cell_type": "code",
   "execution_count": 71,
   "metadata": {
    "ExecuteTime": {
     "end_time": "2019-07-21T18:09:17.307335Z",
     "start_time": "2019-07-21T17:56:03.137041Z"
    }
   },
   "outputs": [
    {
     "name": "stdout",
     "output_type": "stream",
     "text": [
      "Train on 20000 samples, validate on 5000 samples\n",
      "Epoch 1/10\n",
      "20000/20000 [==============================] - 80s 4ms/step - loss: 0.4921 - acc: 0.7657 - val_loss: 0.4129 - val_acc: 0.8402\n",
      "Epoch 2/10\n",
      "20000/20000 [==============================] - 78s 4ms/step - loss: 0.3199 - acc: 0.8767 - val_loss: 0.4281 - val_acc: 0.8458\n",
      "Epoch 3/10\n",
      "20000/20000 [==============================] - 79s 4ms/step - loss: 0.2497 - acc: 0.9057 - val_loss: 0.3458 - val_acc: 0.8516\n",
      "Epoch 4/10\n",
      "20000/20000 [==============================] - 79s 4ms/step - loss: 0.2214 - acc: 0.9198 - val_loss: 0.4340 - val_acc: 0.8630\n",
      "Epoch 5/10\n",
      "20000/20000 [==============================] - 78s 4ms/step - loss: 0.1897 - acc: 0.9329 - val_loss: 0.3629 - val_acc: 0.8754\n",
      "Epoch 6/10\n",
      "20000/20000 [==============================] - 78s 4ms/step - loss: 0.1752 - acc: 0.9363 - val_loss: 0.4992 - val_acc: 0.8580\n",
      "Epoch 7/10\n",
      "20000/20000 [==============================] - 79s 4ms/step - loss: 0.1590 - acc: 0.9475 - val_loss: 0.3747 - val_acc: 0.8758\n",
      "Epoch 8/10\n",
      "20000/20000 [==============================] - 79s 4ms/step - loss: 0.1395 - acc: 0.9515 - val_loss: 0.3908 - val_acc: 0.8564\n",
      "Epoch 9/10\n",
      "20000/20000 [==============================] - 78s 4ms/step - loss: 0.1324 - acc: 0.9560 - val_loss: 0.3995 - val_acc: 0.8764\n",
      "Epoch 10/10\n",
      "20000/20000 [==============================] - 79s 4ms/step - loss: 0.1216 - acc: 0.9600 - val_loss: 0.5241 - val_acc: 0.8710\n"
     ]
    }
   ],
   "source": [
    "# 使用逆序序列训练并评估一个LSTM\n",
    "from keras.preprocessing import sequence\n",
    "\n",
    "max_features = 10000\n",
    "maxlen=500\n",
    "\n",
    "(x_train,y_train),(x_test,y_test) = imdb.load_data(num_words = max_features)\n",
    "\n",
    "x_train = [x[::-1] for x in x_train]\n",
    "x_test = [x[::-1] for x in x_test]\n",
    "\n",
    "x_train = sequence.pad_sequences(x_train,maxlen=maxlen)\n",
    "x_test = sequence.pad_sequences(x_test,maxlen=maxlen)\n",
    "\n",
    "model = Sequential()\n",
    "model.add(layers.Embedding(max_features,128))\n",
    "model.add(layers.LSTM(32))\n",
    "model.add(layers.Dense(1,activation='sigmoid'))\n",
    "model.compile(optimizer=RMSprop(),loss='binary_crossentropy',metrics=['acc'])\n",
    "history = model.fit(x_train,y_train,\n",
    "                     epochs=10,\n",
    "                   batch_size=128,\n",
    "                   validation_split=0.2)"
   ]
  },
  {
   "cell_type": "code",
   "execution_count": 72,
   "metadata": {
    "ExecuteTime": {
     "end_time": "2019-07-21T18:21:47.527502Z",
     "start_time": "2019-07-21T18:21:47.324638Z"
    }
   },
   "outputs": [
    {
     "data": {
      "image/png": "[encoded data removed]",
      "text/plain": [
       "<matplotlib.figure.Figure at 0x2a11cf6e550>"
      ]
     },
     "metadata": {},
     "output_type": "display_data"
    }
   ],
   "source": [
    "loss=history.history['loss']\n",
    "val_loss=history.history['val_loss']\n",
    "\n",
    "epochs = range(1,len(loss)+1)\n",
    "\n",
    "plt.figure()\n",
    "\n",
    "plt.plot(epochs,loss,'bo',label='Training loss')\n",
    "plt.plot(epochs,val_loss,'b',label='Validation loss')\n",
    "plt.title('Training anda validation loss')\n",
    "plt.legend()\n",
    "\n",
    "plt.show()"
   ]
  },
  {
   "cell_type": "code",
   "execution_count": 73,
   "metadata": {
    "ExecuteTime": {
     "end_time": "2019-07-21T18:56:37.527092Z",
     "start_time": "2019-07-21T18:34:15.068084Z"
    }
   },
   "outputs": [
    {
     "name": "stdout",
     "output_type": "stream",
     "text": [
      "Train on 20000 samples, validate on 5000 samples\n",
      "Epoch 1/10\n",
      "20000/20000 [==============================] - 137s 7ms/step - loss: 0.5555 - acc: 0.7208 - val_loss: 0.3844 - val_acc: 0.8464\n",
      "Epoch 2/10\n",
      "20000/20000 [==============================] - 134s 7ms/step - loss: 0.3329 - acc: 0.8720 - val_loss: 0.3589 - val_acc: 0.8664\n",
      "Epoch 3/10\n",
      "20000/20000 [==============================] - 134s 7ms/step - loss: 0.2628 - acc: 0.9002 - val_loss: 0.4853 - val_acc: 0.8460\n",
      "Epoch 4/10\n",
      "20000/20000 [==============================] - 133s 7ms/step - loss: 0.2286 - acc: 0.9188 - val_loss: 0.3054 - val_acc: 0.8864\n",
      "Epoch 5/10\n",
      "20000/20000 [==============================] - 133s 7ms/step - loss: 0.2052 - acc: 0.9270 - val_loss: 0.3498 - val_acc: 0.8850\n",
      "Epoch 6/10\n",
      "20000/20000 [==============================] - 133s 7ms/step - loss: 0.1814 - acc: 0.9365 - val_loss: 0.3457 - val_acc: 0.8672\n",
      "Epoch 7/10\n",
      "20000/20000 [==============================] - 133s 7ms/step - loss: 0.1634 - acc: 0.9426 - val_loss: 0.3917 - val_acc: 0.8476\n",
      "Epoch 8/10\n",
      "20000/20000 [==============================] - 134s 7ms/step - loss: 0.1501 - acc: 0.9498 - val_loss: 0.3498 - val_acc: 0.8830\n",
      "Epoch 9/10\n",
      "20000/20000 [==============================] - 134s 7ms/step - loss: 0.1411 - acc: 0.9529 - val_loss: 0.3530 - val_acc: 0.8664\n",
      "Epoch 10/10\n",
      "20000/20000 [==============================] - 134s 7ms/step - loss: 0.1306 - acc: 0.9569 - val_loss: 0.3585 - val_acc: 0.8788\n"
     ]
    }
   ],
   "source": [
    "# 训练评估一个双向LSTM\n",
    "model = Sequential()\n",
    "model.add(layers.Embedding(max_features,32))\n",
    "model.add(layers.Bidirectional(layers.LSTM(32)))\n",
    "model.add(layers.Dense(1,activation='sigmoid'))\n",
    "model.compile(optimizer=RMSprop(),loss='binary_crossentropy',metrics=['acc'])\n",
    "history = model.fit(x_train,y_train,\n",
    "                     epochs=10,\n",
    "                   batch_size=128,\n",
    "                   validation_split=0.2)"
   ]
  },
  {
   "cell_type": "code",
   "execution_count": 74,
   "metadata": {
    "ExecuteTime": {
     "end_time": "2019-07-21T19:09:06.683652Z",
     "start_time": "2019-07-21T19:09:06.531061Z"
    }
   },
   "outputs": [
    {
     "data": {
      "image/png": "[encoded data removed]",
      "text/plain": [
       "<matplotlib.figure.Figure at 0x2a1236e5fd0>"
      ]
     },
     "metadata": {},
     "output_type": "display_data"
    }
   ],
   "source": [
    "loss=history.history['loss']\n",
    "val_loss=history.history['val_loss']\n",
    "\n",
    "epochs = range(1,len(loss)+1)\n",
    "\n",
    "plt.figure()\n",
    "\n",
    "plt.plot(epochs,loss,'bo',label='Training loss')\n",
    "plt.plot(epochs,val_loss,'b',label='Validation loss')\n",
    "plt.title('Training anda validation loss')\n",
    "plt.legend()\n",
    "\n",
    "plt.show()"
   ]
  },
  {
   "cell_type": "code",
   "execution_count": 75,
   "metadata": {
    "ExecuteTime": {
     "end_time": "2019-07-21T20:42:20.546136Z",
     "start_time": "2019-07-21T19:21:42.068505Z"
    }
   },
   "outputs": [
    {
     "name": "stdout",
     "output_type": "stream",
     "text": [
      "Epoch 1/40\n",
      "500/500 [==============================] - 121s 242ms/step - loss: 0.2928 - val_loss: 0.2809\n",
      "Epoch 2/40\n",
      "500/500 [==============================] - 121s 242ms/step - loss: 0.2760 - val_loss: 0.2690\n",
      "Epoch 3/40\n",
      "500/500 [==============================] - 120s 240ms/step - loss: 0.2653 - val_loss: 0.2683\n",
      "Epoch 4/40\n",
      "500/500 [==============================] - 120s 240ms/step - loss: 0.2610 - val_loss: 0.2743\n",
      "Epoch 5/40\n",
      "500/500 [==============================] - 120s 241ms/step - loss: 0.2552 - val_loss: 0.2723\n",
      "Epoch 6/40\n",
      "500/500 [==============================] - 120s 241ms/step - loss: 0.2492 - val_loss: 0.2780\n",
      "Epoch 7/40\n",
      "500/500 [==============================] - 121s 241ms/step - loss: 0.2429 - val_loss: 0.2829\n",
      "Epoch 8/40\n",
      "500/500 [==============================] - 121s 243ms/step - loss: 0.2367 - val_loss: 0.2853\n",
      "Epoch 9/40\n",
      "500/500 [==============================] - 120s 240ms/step - loss: 0.2306 - val_loss: 0.2898\n",
      "Epoch 10/40\n",
      "500/500 [==============================] - 126s 253ms/step - loss: 0.2242 - val_loss: 0.2891\n",
      "Epoch 11/40\n",
      "500/500 [==============================] - 120s 240ms/step - loss: 0.2195 - val_loss: 0.2931\n",
      "Epoch 12/40\n",
      "500/500 [==============================] - 120s 240ms/step - loss: 0.2143 - val_loss: 0.2957\n",
      "Epoch 13/40\n",
      "500/500 [==============================] - 120s 240ms/step - loss: 0.2090 - val_loss: 0.3013\n",
      "Epoch 14/40\n",
      "500/500 [==============================] - 120s 241ms/step - loss: 0.2042 - val_loss: 0.3011\n",
      "Epoch 15/40\n",
      "500/500 [==============================] - 120s 241ms/step - loss: 0.2010 - val_loss: 0.3100\n",
      "Epoch 16/40\n",
      "500/500 [==============================] - 121s 242ms/step - loss: 0.1965 - val_loss: 0.3034\n",
      "Epoch 17/40\n",
      "500/500 [==============================] - 120s 240ms/step - loss: 0.1929 - val_loss: 0.3120\n",
      "Epoch 18/40\n",
      "500/500 [==============================] - 120s 241ms/step - loss: 0.1868 - val_loss: 0.3157\n",
      "Epoch 19/40\n",
      "500/500 [==============================] - 120s 241ms/step - loss: 0.1838 - val_loss: 0.3214\n",
      "Epoch 20/40\n",
      "500/500 [==============================] - 121s 242ms/step - loss: 0.1810 - val_loss: 0.3244\n",
      "Epoch 21/40\n",
      "500/500 [==============================] - 120s 241ms/step - loss: 0.1765 - val_loss: 0.3260\n",
      "Epoch 22/40\n",
      "500/500 [==============================] - 121s 242ms/step - loss: 0.1742 - val_loss: 0.3229\n",
      "Epoch 23/40\n",
      "500/500 [==============================] - 120s 241ms/step - loss: 0.1708 - val_loss: 0.3344\n",
      "Epoch 24/40\n",
      "500/500 [==============================] - 120s 240ms/step - loss: 0.1681 - val_loss: 0.3337\n",
      "Epoch 25/40\n",
      "500/500 [==============================] - 121s 241ms/step - loss: 0.1654 - val_loss: 0.3321\n",
      "Epoch 26/40\n",
      "500/500 [==============================] - 120s 241ms/step - loss: 0.1624 - val_loss: 0.3407\n",
      "Epoch 27/40\n",
      "500/500 [==============================] - 121s 242ms/step - loss: 0.1597 - val_loss: 0.3343\n",
      "Epoch 28/40\n",
      "500/500 [==============================] - 122s 243ms/step - loss: 0.1576 - val_loss: 0.3447\n",
      "Epoch 29/40\n",
      "500/500 [==============================] - 121s 241ms/step - loss: 0.1546 - val_loss: 0.3462\n",
      "Epoch 30/40\n",
      "500/500 [==============================] - 121s 243ms/step - loss: 0.1539 - val_loss: 0.3468\n",
      "Epoch 31/40\n",
      "500/500 [==============================] - 121s 242ms/step - loss: 0.1511 - val_loss: 0.3443\n",
      "Epoch 32/40\n",
      "500/500 [==============================] - 121s 241ms/step - loss: 0.1498 - val_loss: 0.3465\n",
      "Epoch 33/40\n",
      "500/500 [==============================] - 121s 242ms/step - loss: 0.1480 - val_loss: 0.3476\n",
      "Epoch 34/40\n",
      "500/500 [==============================] - 121s 242ms/step - loss: 0.1472 - val_loss: 0.3462\n",
      "Epoch 35/40\n",
      "500/500 [==============================] - 122s 243ms/step - loss: 0.1443 - val_loss: 0.3464\n",
      "Epoch 36/40\n",
      "500/500 [==============================] - 122s 244ms/step - loss: 0.1431 - val_loss: 0.3479\n",
      "Epoch 37/40\n",
      "500/500 [==============================] - 122s 243ms/step - loss: 0.1428 - val_loss: 0.3479\n",
      "Epoch 38/40\n",
      "500/500 [==============================] - 122s 245ms/step - loss: 0.1404 - val_loss: 0.3452\n",
      "Epoch 39/40\n",
      "500/500 [==============================] - 121s 243ms/step - loss: 0.1396 - val_loss: 0.3499\n",
      "Epoch 40/40\n",
      "500/500 [==============================] - 122s 243ms/step - loss: 0.1386 - val_loss: 0.3526\n"
     ]
    }
   ],
   "source": [
    "# 训练并评估一个双向GRU\n",
    "model = Sequential()\n",
    "model.add(layers.Bidirectional(layers.GRU(32),input_shape=(None,float_data.shape[-1])))\n",
    "model.add(layers.Dense(1))\n",
    "model.compile(optimizer=RMSprop(),loss='mae')\n",
    "history = model.fit_generator(train_gen,\n",
    "                             steps_per_epoch=500,\n",
    "                             epochs=40,\n",
    "                             validation_data=val_gen,\n",
    "                             validation_steps=val_steps)"
   ]
  },
  {
   "cell_type": "code",
   "execution_count": 76,
   "metadata": {
    "ExecuteTime": {
     "end_time": "2019-07-21T20:54:51.256865Z",
     "start_time": "2019-07-21T20:54:51.079340Z"
    }
   },
   "outputs": [
    {
     "data": {
      "image/png": "[encoded data removed]",
      "text/plain": [
       "<matplotlib.figure.Figure at 0x2a1252030f0>"
      ]
     },
     "metadata": {},
     "output_type": "display_data"
    }
   ],
   "source": [
    "loss=history.history['loss']\n",
    "val_loss=history.history['val_loss']\n",
    "\n",
    "epochs = range(1,len(loss)+1)\n",
    "\n",
    "plt.figure()\n",
    "\n",
    "plt.plot(epochs,loss,'bo',label='Training loss')\n",
    "plt.plot(epochs,val_loss,'b',label='Validation loss')\n",
    "plt.title('Training anda validation loss')\n",
    "plt.legend()\n",
    "\n",
    "plt.show()"
   ]
  },
  {
   "cell_type": "code",
   "execution_count": null,
   "metadata": {
    "collapsed": true
   },
   "outputs": [],
   "source": []
  }
 ],
 "metadata": {
  "kernelspec": {
   "display_name": "Python [conda env:root] *",
   "language": "python",
   "name": "conda-root-py"
  },
  "language_info": {
   "codemirror_mode": {
    "name": "ipython",
    "version": 3
   },
   "file_extension": ".py",
   "mimetype": "text/x-python",
   "name": "python",
   "nbconvert_exporter": "python",
   "pygments_lexer": "ipython3",
   "version": "3.6.2"
  },
  "toc": {
   "base_numbering": 1,
   "nav_menu": {},
   "number_sections": true,
   "sideBar": true,
   "skip_h1_title": false,
   "title_cell": "Table of Contents",
   "title_sidebar": "Contents",
   "toc_cell": false,
   "toc_position": {
    "height": "calc(100% - 180px)",
    "left": "10px",
    "top": "150px",
    "width": "200px"
   },
   "toc_section_display": true,
   "toc_window_display": true
  },
  "varInspector": {
   "cols": {
    "lenName": 16,
    "lenType": 16,
    "lenVar": 40
   },
   "kernels_config": {
    "python": {
     "delete_cmd_postfix": "",
     "delete_cmd_prefix": "del ",
     "library": "var_list.py",
     "varRefreshCmd": "print(var_dic_list())"
    },
    "r": {
     "delete_cmd_postfix": ") ",
     "delete_cmd_prefix": "rm(",
     "library": "var_list.r",
     "varRefreshCmd": "cat(var_dic_list()) "
    }
   },
   "types_to_exclude": [
    "module",
    "function",
    "builtin_function_or_method",
    "instance",
    "_Feature"
   ],
   "window_display": false
  }
 },
 "nbformat": 4,
 "nbformat_minor": 2
}
