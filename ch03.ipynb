{
 "cells": [
  {
   "cell_type": "markdown",
   "metadata": {},
   "source": [
    "# 神经网络入门"
   ]
  },
  {
   "cell_type": "markdown",
   "metadata": {},
   "source": [
    "## 神经网络剖析"
   ]
  },
  {
   "cell_type": "code",
   "execution_count": 1,
   "metadata": {
    "ExecuteTime": {
     "end_time": "2019-06-30T14:05:13.791887Z",
     "start_time": "2019-06-30T14:04:40.584835Z"
    }
   },
   "outputs": [
    {
     "name": "stderr",
     "output_type": "stream",
     "text": [
      "D:\\Anaconda\\lib\\site-packages\\h5py\\__init__.py:36: FutureWarning: Conversion of the second argument of issubdtype from `float` to `np.floating` is deprecated. In future, it will be treated as `np.float64 == np.dtype(float).type`.\n",
      "  from ._conv import register_converters as _register_converters\n",
      "Using TensorFlow backend.\n"
     ]
    },
    {
     "name": "stdout",
     "output_type": "stream",
     "text": [
      "WARNING:tensorflow:From D:\\Anaconda\\lib\\site-packages\\tensorflow\\python\\framework\\op_def_library.py:263: colocate_with (from tensorflow.python.framework.ops) is deprecated and will be removed in a future version.\n",
      "Instructions for updating:\n",
      "Colocations handled automatically by placer.\n"
     ]
    }
   ],
   "source": [
    "from keras import models\n",
    "from keras import layers\n",
    "model = models.Sequential()\n",
    "model.add(layers.Dense(32,input_shape=(784,)))\n",
    "model.add(layers.Dense(32))"
   ]
  },
  {
   "cell_type": "markdown",
   "metadata": {},
   "source": [
    "## 电影分类问题：分类问题"
   ]
  },
  {
   "cell_type": "markdown",
   "metadata": {},
   "source": [
    "### IMDB数据集"
   ]
  },
  {
   "cell_type": "code",
   "execution_count": 2,
   "metadata": {
    "ExecuteTime": {
     "end_time": "2019-06-30T23:48:41.777299Z",
     "start_time": "2019-06-30T23:48:19.521544Z"
    }
   },
   "outputs": [
    {
     "name": "stdout",
     "output_type": "stream",
     "text": [
      "Downloading data from https://s3.amazonaws.com/text-datasets/imdb.npz\n",
      "17465344/17464789 [==============================] - 16s 1us/step\n"
     ]
    }
   ],
   "source": [
    "from keras.datasets import imdb\n",
    "(train_data,train_labels),(test_data,test_labels) = imdb.load_data(num_words=10000)"
   ]
  },
  {
   "cell_type": "code",
   "execution_count": 3,
   "metadata": {
    "ExecuteTime": {
     "end_time": "2019-06-30T23:48:56.041053Z",
     "start_time": "2019-06-30T23:48:56.029082Z"
    }
   },
   "outputs": [
    {
     "data": {
      "text/plain": [
       "[1,\n",
       " 14,\n",
       " 22,\n",
       " 16,\n",
       " 43,\n",
       " 530,\n",
       " 973,\n",
       " 1622,\n",
       " 1385,\n",
       " 65,\n",
       " 458,\n",
       " 4468,\n",
       " 66,\n",
       " 3941,\n",
       " 4,\n",
       " 173,\n",
       " 36,\n",
       " 256,\n",
       " 5,\n",
       " 25,\n",
       " 100,\n",
       " 43,\n",
       " 838,\n",
       " 112,\n",
       " 50,\n",
       " 670,\n",
       " 2,\n",
       " 9,\n",
       " 35,\n",
       " 480,\n",
       " 284,\n",
       " 5,\n",
       " 150,\n",
       " 4,\n",
       " 172,\n",
       " 112,\n",
       " 167,\n",
       " 2,\n",
       " 336,\n",
       " 385,\n",
       " 39,\n",
       " 4,\n",
       " 172,\n",
       " 4536,\n",
       " 1111,\n",
       " 17,\n",
       " 546,\n",
       " 38,\n",
       " 13,\n",
       " 447,\n",
       " 4,\n",
       " 192,\n",
       " 50,\n",
       " 16,\n",
       " 6,\n",
       " 147,\n",
       " 2025,\n",
       " 19,\n",
       " 14,\n",
       " 22,\n",
       " 4,\n",
       " 1920,\n",
       " 4613,\n",
       " 469,\n",
       " 4,\n",
       " 22,\n",
       " 71,\n",
       " 87,\n",
       " 12,\n",
       " 16,\n",
       " 43,\n",
       " 530,\n",
       " 38,\n",
       " 76,\n",
       " 15,\n",
       " 13,\n",
       " 1247,\n",
       " 4,\n",
       " 22,\n",
       " 17,\n",
       " 515,\n",
       " 17,\n",
       " 12,\n",
       " 16,\n",
       " 626,\n",
       " 18,\n",
       " 2,\n",
       " 5,\n",
       " 62,\n",
       " 386,\n",
       " 12,\n",
       " 8,\n",
       " 316,\n",
       " 8,\n",
       " 106,\n",
       " 5,\n",
       " 4,\n",
       " 2223,\n",
       " 5244,\n",
       " 16,\n",
       " 480,\n",
       " 66,\n",
       " 3785,\n",
       " 33,\n",
       " 4,\n",
       " 130,\n",
       " 12,\n",
       " 16,\n",
       " 38,\n",
       " 619,\n",
       " 5,\n",
       " 25,\n",
       " 124,\n",
       " 51,\n",
       " 36,\n",
       " 135,\n",
       " 48,\n",
       " 25,\n",
       " 1415,\n",
       " 33,\n",
       " 6,\n",
       " 22,\n",
       " 12,\n",
       " 215,\n",
       " 28,\n",
       " 77,\n",
       " 52,\n",
       " 5,\n",
       " 14,\n",
       " 407,\n",
       " 16,\n",
       " 82,\n",
       " 2,\n",
       " 8,\n",
       " 4,\n",
       " 107,\n",
       " 117,\n",
       " 5952,\n",
       " 15,\n",
       " 256,\n",
       " 4,\n",
       " 2,\n",
       " 7,\n",
       " 3766,\n",
       " 5,\n",
       " 723,\n",
       " 36,\n",
       " 71,\n",
       " 43,\n",
       " 530,\n",
       " 476,\n",
       " 26,\n",
       " 400,\n",
       " 317,\n",
       " 46,\n",
       " 7,\n",
       " 4,\n",
       " 2,\n",
       " 1029,\n",
       " 13,\n",
       " 104,\n",
       " 88,\n",
       " 4,\n",
       " 381,\n",
       " 15,\n",
       " 297,\n",
       " 98,\n",
       " 32,\n",
       " 2071,\n",
       " 56,\n",
       " 26,\n",
       " 141,\n",
       " 6,\n",
       " 194,\n",
       " 7486,\n",
       " 18,\n",
       " 4,\n",
       " 226,\n",
       " 22,\n",
       " 21,\n",
       " 134,\n",
       " 476,\n",
       " 26,\n",
       " 480,\n",
       " 5,\n",
       " 144,\n",
       " 30,\n",
       " 5535,\n",
       " 18,\n",
       " 51,\n",
       " 36,\n",
       " 28,\n",
       " 224,\n",
       " 92,\n",
       " 25,\n",
       " 104,\n",
       " 4,\n",
       " 226,\n",
       " 65,\n",
       " 16,\n",
       " 38,\n",
       " 1334,\n",
       " 88,\n",
       " 12,\n",
       " 16,\n",
       " 283,\n",
       " 5,\n",
       " 16,\n",
       " 4472,\n",
       " 113,\n",
       " 103,\n",
       " 32,\n",
       " 15,\n",
       " 16,\n",
       " 5345,\n",
       " 19,\n",
       " 178,\n",
       " 32]"
      ]
     },
     "execution_count": 3,
     "metadata": {},
     "output_type": "execute_result"
    }
   ],
   "source": [
    "train_data[0]"
   ]
  },
  {
   "cell_type": "code",
   "execution_count": 4,
   "metadata": {
    "ExecuteTime": {
     "end_time": "2019-06-30T23:49:06.072480Z",
     "start_time": "2019-06-30T23:49:06.067456Z"
    }
   },
   "outputs": [
    {
     "data": {
      "text/plain": [
       "1"
      ]
     },
     "execution_count": 4,
     "metadata": {},
     "output_type": "execute_result"
    }
   ],
   "source": [
    "train_labels[0]"
   ]
  },
  {
   "cell_type": "code",
   "execution_count": 5,
   "metadata": {
    "ExecuteTime": {
     "end_time": "2019-06-30T23:50:06.491608Z",
     "start_time": "2019-06-30T23:50:06.344475Z"
    }
   },
   "outputs": [
    {
     "data": {
      "text/plain": [
       "9999"
      ]
     },
     "execution_count": 5,
     "metadata": {},
     "output_type": "execute_result"
    }
   ],
   "source": [
    "max([max(sequence) for sequence in train_data])"
   ]
  },
  {
   "cell_type": "markdown",
   "metadata": {},
   "source": [
    " ### 准备数据"
   ]
  },
  {
   "cell_type": "code",
   "execution_count": 7,
   "metadata": {
    "ExecuteTime": {
     "end_time": "2019-07-01T03:16:00.465137Z",
     "start_time": "2019-07-01T03:16:00.457158Z"
    },
    "collapsed": true
   },
   "outputs": [],
   "source": [
    "# 将整数序列编码为二进制矩阵\n",
    "import numpy as np\n",
    "def vectorize_sequences(sequences,dimension=10000):\n",
    "    results = np.zeros((len(sequences),dimension))\n",
    "    for i, sequence in enumerate(sequences):\n",
    "        results[i,sequence] = 1.\n",
    "    return results"
   ]
  },
  {
   "cell_type": "code",
   "execution_count": 8,
   "metadata": {
    "ExecuteTime": {
     "end_time": "2019-07-01T03:16:41.350938Z",
     "start_time": "2019-07-01T03:16:39.036893Z"
    },
    "collapsed": true
   },
   "outputs": [],
   "source": [
    "x_train = vectorize_sequences(train_data)\n",
    "x_test = vectorize_sequences(test_data)"
   ]
  },
  {
   "cell_type": "code",
   "execution_count": 9,
   "metadata": {
    "ExecuteTime": {
     "end_time": "2019-07-01T03:16:50.083873Z",
     "start_time": "2019-07-01T03:16:50.078886Z"
    }
   },
   "outputs": [
    {
     "data": {
      "text/plain": [
       "array([0., 1., 1., ..., 0., 0., 0.])"
      ]
     },
     "execution_count": 9,
     "metadata": {},
     "output_type": "execute_result"
    }
   ],
   "source": [
    "x_train[0]"
   ]
  },
  {
   "cell_type": "code",
   "execution_count": 10,
   "metadata": {
    "ExecuteTime": {
     "end_time": "2019-07-01T03:17:57.176418Z",
     "start_time": "2019-07-01T03:17:57.171406Z"
    },
    "collapsed": true
   },
   "outputs": [],
   "source": [
    "y_train = np.asarray(train_labels).astype('float32')\n",
    "y_test = np.asarray(test_labels).astype('float32')"
   ]
  },
  {
   "cell_type": "markdown",
   "metadata": {},
   "source": [
    "### 构建网络"
   ]
  },
  {
   "cell_type": "markdown",
   "metadata": {},
   "source": [
    "输入数据是向量，标签是1和0，带有relu的全连接层，表现更好"
   ]
  },
  {
   "cell_type": "code",
   "execution_count": 11,
   "metadata": {
    "ExecuteTime": {
     "end_time": "2019-07-01T03:33:16.946514Z",
     "start_time": "2019-07-01T03:33:16.847788Z"
    },
    "collapsed": true
   },
   "outputs": [],
   "source": [
    "# 模型定义\n",
    "model_imdb = models.Sequential()\n",
    "model_imdb.add(layers.Dense(16,activation='relu',input_shape=(10000,)))\n",
    "model_imdb.add(layers.Dense(16,activation='relu'))\n",
    "model_imdb.add(layers.Dense(1,activation='sigmoid'))"
   ]
  },
  {
   "cell_type": "code",
   "execution_count": 12,
   "metadata": {
    "ExecuteTime": {
     "end_time": "2019-07-01T03:37:25.968467Z",
     "start_time": "2019-07-01T03:37:25.839809Z"
    },
    "collapsed": true
   },
   "outputs": [],
   "source": [
    "# 编译模型，选择损失函数和优化器\n",
    "model_imdb.compile(optimizer='rmsprop',\n",
    "                  loss='binary_crossentropy',\n",
    "                  metrics=['accuracy'])"
   ]
  },
  {
   "cell_type": "markdown",
   "metadata": {},
   "source": [
    "### 验证方法"
   ]
  },
  {
   "cell_type": "code",
   "execution_count": 13,
   "metadata": {
    "ExecuteTime": {
     "end_time": "2019-07-01T12:15:57.270117Z",
     "start_time": "2019-07-01T12:15:57.263122Z"
    },
    "collapsed": true
   },
   "outputs": [],
   "source": [
    "# 留出验证集\n",
    "x_val = x_train[:10000]\n",
    "part_x_train = x_train[10000:]\n",
    "y_val = y_train[:10000]\n",
    "part_y_train = y_train[10000:]"
   ]
  },
  {
   "cell_type": "code",
   "execution_count": 17,
   "metadata": {
    "ExecuteTime": {
     "end_time": "2019-07-01T12:22:37.509286Z",
     "start_time": "2019-07-01T12:21:33.095029Z"
    }
   },
   "outputs": [
    {
     "name": "stdout",
     "output_type": "stream",
     "text": [
      "WARNING:tensorflow:From D:\\Anaconda\\lib\\site-packages\\tensorflow\\python\\ops\\math_ops.py:3066: to_int32 (from tensorflow.python.ops.math_ops) is deprecated and will be removed in a future version.\n",
      "Instructions for updating:\n",
      "Use tf.cast instead.\n",
      "Train on 15000 samples, validate on 10000 samples\n",
      "Epoch 1/20\n",
      "15000/15000 [==============================] - 7s 464us/step - loss: 0.4976 - acc: 0.7953 - val_loss: 0.3715 - val_acc: 0.8724\n",
      "Epoch 2/20\n",
      "15000/15000 [==============================] - 3s 194us/step - loss: 0.2957 - acc: 0.9047 - val_loss: 0.2990 - val_acc: 0.8908\n",
      "Epoch 3/20\n",
      "15000/15000 [==============================] - 3s 194us/step - loss: 0.2160 - acc: 0.9287 - val_loss: 0.3087 - val_acc: 0.8714\n",
      "Epoch 4/20\n",
      "15000/15000 [==============================] - 3s 193us/step - loss: 0.1742 - acc: 0.9433 - val_loss: 0.2830 - val_acc: 0.8840\n",
      "Epoch 5/20\n",
      "15000/15000 [==============================] - 3s 194us/step - loss: 0.1415 - acc: 0.9542 - val_loss: 0.2863 - val_acc: 0.8854\n",
      "Epoch 6/20\n",
      "15000/15000 [==============================] - 4s 234us/step - loss: 0.1143 - acc: 0.9653 - val_loss: 0.3087 - val_acc: 0.8810\n",
      "Epoch 7/20\n",
      "15000/15000 [==============================] - 3s 192us/step - loss: 0.0970 - acc: 0.9709 - val_loss: 0.3147 - val_acc: 0.8842\n",
      "Epoch 8/20\n",
      "15000/15000 [==============================] - 3s 196us/step - loss: 0.0803 - acc: 0.9764 - val_loss: 0.3867 - val_acc: 0.8663\n",
      "Epoch 9/20\n",
      "15000/15000 [==============================] - 3s 193us/step - loss: 0.0658 - acc: 0.9819 - val_loss: 0.3649 - val_acc: 0.8777\n",
      "Epoch 10/20\n",
      "15000/15000 [==============================] - 3s 193us/step - loss: 0.0553 - acc: 0.9849 - val_loss: 0.3864 - val_acc: 0.8790\n",
      "Epoch 11/20\n",
      "15000/15000 [==============================] - 3s 194us/step - loss: 0.0455 - acc: 0.9886 - val_loss: 0.4182 - val_acc: 0.8761\n",
      "Epoch 12/20\n",
      "15000/15000 [==============================] - 3s 192us/step - loss: 0.0386 - acc: 0.9913 - val_loss: 0.4523 - val_acc: 0.8699\n",
      "Epoch 13/20\n",
      "15000/15000 [==============================] - 3s 193us/step - loss: 0.0297 - acc: 0.9939 - val_loss: 0.4717 - val_acc: 0.8736\n",
      "Epoch 14/20\n",
      "15000/15000 [==============================] - 3s 192us/step - loss: 0.0244 - acc: 0.9949 - val_loss: 0.5026 - val_acc: 0.8719\n",
      "Epoch 15/20\n",
      "15000/15000 [==============================] - 3s 191us/step - loss: 0.0185 - acc: 0.9975 - val_loss: 0.5320 - val_acc: 0.8693\n",
      "Epoch 16/20\n",
      "15000/15000 [==============================] - 3s 195us/step - loss: 0.0155 - acc: 0.9982 - val_loss: 0.5706 - val_acc: 0.8693\n",
      "Epoch 17/20\n",
      "15000/15000 [==============================] - 3s 210us/step - loss: 0.0154 - acc: 0.9972 - val_loss: 0.6008 - val_acc: 0.8684\n",
      "Epoch 18/20\n",
      "15000/15000 [==============================] - 3s 193us/step - loss: 0.0091 - acc: 0.9990 - val_loss: 0.6740 - val_acc: 0.8636\n",
      "Epoch 19/20\n",
      "15000/15000 [==============================] - 3s 195us/step - loss: 0.0063 - acc: 0.9998 - val_loss: 0.7105 - val_acc: 0.8576\n",
      "Epoch 20/20\n",
      "15000/15000 [==============================] - 3s 193us/step - loss: 0.0095 - acc: 0.9979 - val_loss: 0.6960 - val_acc: 0.8654\n"
     ]
    }
   ],
   "source": [
    "# 训练模型\n",
    "model_imdb.compile(optimizer='rmsprop',\n",
    "             loss='binary_crossentropy',\n",
    "             metrics=['acc'])\n",
    "history = model_imdb.fit(part_x_train,\n",
    "                    part_y_train,\n",
    "                    epochs=20,\n",
    "                    batch_size=512,\n",
    "                    validation_data=(x_val,y_val))"
   ]
  },
  {
   "cell_type": "code",
   "execution_count": 18,
   "metadata": {
    "ExecuteTime": {
     "end_time": "2019-07-01T12:22:54.811016Z",
     "start_time": "2019-07-01T12:22:54.806030Z"
    }
   },
   "outputs": [
    {
     "data": {
      "text/plain": [
       "dict_keys(['val_loss', 'val_acc', 'loss', 'acc'])"
      ]
     },
     "execution_count": 18,
     "metadata": {},
     "output_type": "execute_result"
    }
   ],
   "source": [
    "history_dict = history.history\n",
    "history_dict.keys()"
   ]
  },
  {
   "cell_type": "code",
   "execution_count": 19,
   "metadata": {
    "ExecuteTime": {
     "end_time": "2019-07-01T12:28:08.148503Z",
     "start_time": "2019-07-01T12:28:05.507097Z"
    }
   },
   "outputs": [
    {
     "data": {
      "image/png": "[encoded data removed]",
      "text/plain": [
       "<matplotlib.figure.Figure at 0x24a4d5c4898>"
      ]
     },
     "metadata": {},
     "output_type": "display_data"
    }
   ],
   "source": [
    "# 绘制训练损失和验证损失\n",
    "import matplotlib.pyplot as plt\n",
    "\n",
    "history_dict = history.history\n",
    "loss_values = history_dict['loss']\n",
    "val_loss_values = history_dict['val_loss']\n",
    "\n",
    "epochs = range(1,len(loss_values)+1)\n",
    "\n",
    "plt.plot(epochs,loss_values,'bo',label = 'Training loss')# bo 蓝色圆点\n",
    "plt.plot(epochs,val_loss_values,'b',label='Validation loss')#b 蓝色实线\n",
    "plt.title('Training and validation loss')\n",
    "plt.xlabel('Epochs')\n",
    "plt.ylabel('Loss')\n",
    "plt.legend()\n",
    "\n",
    "plt.show()"
   ]
  },
  {
   "cell_type": "code",
   "execution_count": 20,
   "metadata": {
    "ExecuteTime": {
     "end_time": "2019-07-01T12:30:30.415035Z",
     "start_time": "2019-07-01T12:30:30.204574Z"
    }
   },
   "outputs": [
    {
     "data": {
      "image/png": "[encoded data removed]",
      "text/plain": [
       "<matplotlib.figure.Figure at 0x24a4f13b630>"
      ]
     },
     "metadata": {},
     "output_type": "display_data"
    }
   ],
   "source": [
    "# 绘制训练精度和验证精度\n",
    "plt.clf()# 清空图像\n",
    "acc= history_dict['acc']\n",
    "val_acc=history_dict['val_acc']\n",
    "\n",
    "plt.plot(epochs,acc,'bo',label = 'Training acc')# bo 蓝色圆点\n",
    "plt.plot(epochs,val_acc,'b',label='Validation acc')#b 蓝色实线\n",
    "plt.title('Training and validation accuracy')\n",
    "plt.xlabel('Epochs')\n",
    "plt.ylabel('Accuracy')\n",
    "plt.legend()\n",
    "\n",
    "plt.show()"
   ]
  },
  {
   "cell_type": "markdown",
   "metadata": {},
   "source": [
    "可以发现过拟合的现象，因此只需要训练四轮"
   ]
  },
  {
   "cell_type": "code",
   "execution_count": 22,
   "metadata": {
    "ExecuteTime": {
     "end_time": "2019-07-01T12:36:39.655605Z",
     "start_time": "2019-07-01T12:36:17.942132Z"
    }
   },
   "outputs": [
    {
     "name": "stdout",
     "output_type": "stream",
     "text": [
      "Epoch 1/4\n",
      "25000/25000 [==============================] - 4s 158us/step - loss: 0.4742 - acc: 0.8221\n",
      "Epoch 2/4\n",
      "25000/25000 [==============================] - 3s 138us/step - loss: 0.2635 - acc: 0.9101\n",
      "Epoch 3/4\n",
      "25000/25000 [==============================] - 4s 163us/step - loss: 0.1986 - acc: 0.9308\n",
      "Epoch 4/4\n",
      "25000/25000 [==============================] - 3s 139us/step - loss: 0.1678 - acc: 0.9405\n",
      "25000/25000 [==============================] - 6s 251us/step\n"
     ]
    }
   ],
   "source": [
    "# 从头开始重新训练一个模型\n",
    "model_imdb=models.Sequential()\n",
    "model_imdb.add(layers.Dense(16,activation='relu',input_shape=(10000,)))\n",
    "model_imdb.add(layers.Dense(16,activation='relu'))\n",
    "model_imdb.add(layers.Dense(1,activation='sigmoid'))\n",
    "model_imdb.compile(optimizer='rmsprop',\n",
    "             loss='binary_crossentropy',\n",
    "             metrics=['accuracy'])\n",
    "model_imdb.fit(x_train,y_train,epochs=4,batch_size=512)\n",
    "results=model_imdb.evaluate(x_test,y_test)"
   ]
  },
  {
   "cell_type": "code",
   "execution_count": 23,
   "metadata": {
    "ExecuteTime": {
     "end_time": "2019-07-01T12:40:55.454975Z",
     "start_time": "2019-07-01T12:40:55.449003Z"
    }
   },
   "outputs": [
    {
     "data": {
      "text/plain": [
       "[0.3233132664299011, 0.8728]"
      ]
     },
     "execution_count": 23,
     "metadata": {},
     "output_type": "execute_result"
    }
   ],
   "source": [
    "results"
   ]
  },
  {
   "cell_type": "markdown",
   "metadata": {},
   "source": [
    "### 使用训练好的网络在新数据集上生成预测结果"
   ]
  },
  {
   "cell_type": "code",
   "execution_count": 24,
   "metadata": {
    "ExecuteTime": {
     "end_time": "2019-07-01T12:43:10.887316Z",
     "start_time": "2019-07-01T12:43:07.865372Z"
    }
   },
   "outputs": [
    {
     "data": {
      "text/plain": [
       "array([[0.13638178],\n",
       "       [0.99970746],\n",
       "       [0.28230274],\n",
       "       ...,\n",
       "       [0.07501477],\n",
       "       [0.04532707],\n",
       "       [0.4923602 ]], dtype=float32)"
      ]
     },
     "execution_count": 24,
     "metadata": {},
     "output_type": "execute_result"
    }
   ],
   "source": [
    "model_imdb.predict(x_test)"
   ]
  },
  {
   "cell_type": "markdown",
   "metadata": {},
   "source": [
    "## 新闻分类：多分类问题"
   ]
  },
  {
   "cell_type": "markdown",
   "metadata": {},
   "source": [
    "### 路透社数据集"
   ]
  },
  {
   "cell_type": "code",
   "execution_count": 25,
   "metadata": {
    "ExecuteTime": {
     "end_time": "2019-07-01T12:47:25.723545Z",
     "start_time": "2019-07-01T12:47:19.142360Z"
    }
   },
   "outputs": [
    {
     "name": "stdout",
     "output_type": "stream",
     "text": [
      "Downloading data from https://s3.amazonaws.com/text-datasets/reuters.npz\n",
      "2113536/2110848 [==============================] - 4s 2us/step\n"
     ]
    }
   ],
   "source": [
    "from keras.datasets import reuters\n",
    "(train_data,train_labels),(test_data,test_labels) = reuters.load_data(num_words=10000)"
   ]
  },
  {
   "cell_type": "code",
   "execution_count": 26,
   "metadata": {
    "ExecuteTime": {
     "end_time": "2019-07-01T12:47:32.656158Z",
     "start_time": "2019-07-01T12:47:32.651198Z"
    }
   },
   "outputs": [
    {
     "data": {
      "text/plain": [
       "8982"
      ]
     },
     "execution_count": 26,
     "metadata": {},
     "output_type": "execute_result"
    }
   ],
   "source": [
    "len(train_data)"
   ]
  },
  {
   "cell_type": "code",
   "execution_count": 27,
   "metadata": {
    "ExecuteTime": {
     "end_time": "2019-07-01T12:47:39.355791Z",
     "start_time": "2019-07-01T12:47:39.349808Z"
    }
   },
   "outputs": [
    {
     "data": {
      "text/plain": [
       "2246"
      ]
     },
     "execution_count": 27,
     "metadata": {},
     "output_type": "execute_result"
    }
   ],
   "source": [
    "len(test_data)"
   ]
  },
  {
   "cell_type": "code",
   "execution_count": 28,
   "metadata": {
    "ExecuteTime": {
     "end_time": "2019-07-01T12:47:53.410120Z",
     "start_time": "2019-07-01T12:47:53.404137Z"
    }
   },
   "outputs": [
    {
     "data": {
      "text/plain": [
       "[1,\n",
       " 2,\n",
       " 2,\n",
       " 8,\n",
       " 43,\n",
       " 10,\n",
       " 447,\n",
       " 5,\n",
       " 25,\n",
       " 207,\n",
       " 270,\n",
       " 5,\n",
       " 3095,\n",
       " 111,\n",
       " 16,\n",
       " 369,\n",
       " 186,\n",
       " 90,\n",
       " 67,\n",
       " 7,\n",
       " 89,\n",
       " 5,\n",
       " 19,\n",
       " 102,\n",
       " 6,\n",
       " 19,\n",
       " 124,\n",
       " 15,\n",
       " 90,\n",
       " 67,\n",
       " 84,\n",
       " 22,\n",
       " 482,\n",
       " 26,\n",
       " 7,\n",
       " 48,\n",
       " 4,\n",
       " 49,\n",
       " 8,\n",
       " 864,\n",
       " 39,\n",
       " 209,\n",
       " 154,\n",
       " 6,\n",
       " 151,\n",
       " 6,\n",
       " 83,\n",
       " 11,\n",
       " 15,\n",
       " 22,\n",
       " 155,\n",
       " 11,\n",
       " 15,\n",
       " 7,\n",
       " 48,\n",
       " 9,\n",
       " 4579,\n",
       " 1005,\n",
       " 504,\n",
       " 6,\n",
       " 258,\n",
       " 6,\n",
       " 272,\n",
       " 11,\n",
       " 15,\n",
       " 22,\n",
       " 134,\n",
       " 44,\n",
       " 11,\n",
       " 15,\n",
       " 16,\n",
       " 8,\n",
       " 197,\n",
       " 1245,\n",
       " 90,\n",
       " 67,\n",
       " 52,\n",
       " 29,\n",
       " 209,\n",
       " 30,\n",
       " 32,\n",
       " 132,\n",
       " 6,\n",
       " 109,\n",
       " 15,\n",
       " 17,\n",
       " 12]"
      ]
     },
     "execution_count": 28,
     "metadata": {},
     "output_type": "execute_result"
    }
   ],
   "source": [
    "train_data[0]"
   ]
  },
  {
   "cell_type": "code",
   "execution_count": 30,
   "metadata": {
    "ExecuteTime": {
     "end_time": "2019-07-01T12:50:54.662465Z",
     "start_time": "2019-07-01T12:50:54.657479Z"
    }
   },
   "outputs": [
    {
     "data": {
      "text/plain": [
       "3"
      ]
     },
     "execution_count": 30,
     "metadata": {},
     "output_type": "execute_result"
    }
   ],
   "source": [
    "train_labels[10]"
   ]
  },
  {
   "cell_type": "markdown",
   "metadata": {},
   "source": [
    "### 准备数据"
   ]
  },
  {
   "cell_type": "code",
   "execution_count": 31,
   "metadata": {
    "ExecuteTime": {
     "end_time": "2019-07-01T14:12:33.815094Z",
     "start_time": "2019-07-01T14:12:33.404902Z"
    },
    "collapsed": true
   },
   "outputs": [],
   "source": [
    "x_train = vectorize_sequences(train_data)\n",
    "x_test = vectorize_sequences(test_data)"
   ]
  },
  {
   "cell_type": "code",
   "execution_count": 32,
   "metadata": {
    "ExecuteTime": {
     "end_time": "2019-07-01T14:20:32.860639Z",
     "start_time": "2019-07-01T14:20:32.853631Z"
    },
    "collapsed": true
   },
   "outputs": [],
   "source": [
    "def to_one_hot(labels,dimension=46):\n",
    "    results = np.zeros((len(labels),dimension))\n",
    "    for i,label in enumerate(labels):\n",
    "        results[i,label]=1.\n",
    "    return results"
   ]
  },
  {
   "cell_type": "code",
   "execution_count": 33,
   "metadata": {
    "ExecuteTime": {
     "end_time": "2019-07-01T14:21:48.403370Z",
     "start_time": "2019-07-01T14:21:48.394349Z"
    },
    "collapsed": true
   },
   "outputs": [],
   "source": [
    "one_hot_train_labels = to_one_hot(train_labels)\n",
    "one_hot_test_labels = to_one_hot(test_labels)"
   ]
  },
  {
   "cell_type": "code",
   "execution_count": 34,
   "metadata": {
    "ExecuteTime": {
     "end_time": "2019-07-01T14:26:59.063297Z",
     "start_time": "2019-07-01T14:26:59.057323Z"
    },
    "collapsed": true
   },
   "outputs": [],
   "source": [
    "# 使用内置方法实现独热编码\n",
    "from keras.utils.np_utils import to_categorical\n",
    "\n",
    "one_hot_train_labels = to_categorical(train_labels)\n",
    "one_hot_test_labels = to_categorical(test_labels)"
   ]
  },
  {
   "cell_type": "code",
   "execution_count": 35,
   "metadata": {
    "ExecuteTime": {
     "end_time": "2019-07-01T14:27:08.132271Z",
     "start_time": "2019-07-01T14:27:08.127285Z"
    }
   },
   "outputs": [
    {
     "data": {
      "text/plain": [
       "3"
      ]
     },
     "execution_count": 35,
     "metadata": {},
     "output_type": "execute_result"
    }
   ],
   "source": [
    "train_labels[0]"
   ]
  },
  {
   "cell_type": "markdown",
   "metadata": {},
   "source": [
    "### 构建网络"
   ]
  },
  {
   "cell_type": "code",
   "execution_count": 36,
   "metadata": {
    "ExecuteTime": {
     "end_time": "2019-07-01T14:46:10.071307Z",
     "start_time": "2019-07-01T14:46:08.769815Z"
    },
    "collapsed": true
   },
   "outputs": [],
   "source": [
    "model_reutres = models.Sequential()\n",
    "model_reutres.add(layers.Dense(64,activation='relu',input_shape=(10000,)))\n",
    "model_reutres.add(layers.Dense(64,activation='relu'))\n",
    "model_reutres.add(layers.Dense(46,activation='softmax'))"
   ]
  },
  {
   "cell_type": "code",
   "execution_count": 37,
   "metadata": {
    "ExecuteTime": {
     "end_time": "2019-07-01T14:54:59.977288Z",
     "start_time": "2019-07-01T14:54:59.919406Z"
    },
    "collapsed": true
   },
   "outputs": [],
   "source": [
    "model_reutres.compile(optimizer='rmsprop',\n",
    "                      loss='categorical_crossentropy',\n",
    "                      metrics=['accuracy'])"
   ]
  },
  {
   "cell_type": "markdown",
   "metadata": {},
   "source": [
    "### 验证你的方法"
   ]
  },
  {
   "cell_type": "code",
   "execution_count": 39,
   "metadata": {
    "ExecuteTime": {
     "end_time": "2019-07-01T14:59:03.246431Z",
     "start_time": "2019-07-01T14:59:03.242433Z"
    },
    "collapsed": true
   },
   "outputs": [],
   "source": [
    "x_val = x_train[:1000]\n",
    "part_x_train = x_train[1000:]\n",
    "y_val = one_hot_train_labels[:1000]\n",
    "part_y_train = one_hot_train_labels[1000:]"
   ]
  },
  {
   "cell_type": "code",
   "execution_count": 42,
   "metadata": {
    "ExecuteTime": {
     "end_time": "2019-07-01T15:32:00.126757Z",
     "start_time": "2019-07-01T15:31:31.116623Z"
    }
   },
   "outputs": [
    {
     "name": "stdout",
     "output_type": "stream",
     "text": [
      "Train on 7982 samples, validate on 1000 samples\n",
      "Epoch 1/20\n",
      "7982/7982 [==============================] - 2s 194us/step - loss: 0.0870 - acc: 0.9580 - val_loss: 1.3381 - val_acc: 0.7730\n",
      "Epoch 2/20\n",
      "7982/7982 [==============================] - 1s 179us/step - loss: 0.0863 - acc: 0.9574 - val_loss: 1.3531 - val_acc: 0.7830\n",
      "Epoch 3/20\n",
      "7982/7982 [==============================] - 1s 182us/step - loss: 0.0834 - acc: 0.9593 - val_loss: 1.2749 - val_acc: 0.7910\n",
      "Epoch 4/20\n",
      "7982/7982 [==============================] - 1s 179us/step - loss: 0.0818 - acc: 0.9572 - val_loss: 1.3574 - val_acc: 0.7790\n",
      "Epoch 5/20\n",
      "7982/7982 [==============================] - 1s 181us/step - loss: 0.0834 - acc: 0.9583 - val_loss: 1.3401 - val_acc: 0.7890\n",
      "Epoch 6/20\n",
      "7982/7982 [==============================] - 1s 179us/step - loss: 0.0810 - acc: 0.9599 - val_loss: 1.2924 - val_acc: 0.7880\n",
      "Epoch 7/20\n",
      "7982/7982 [==============================] - 1s 187us/step - loss: 0.0803 - acc: 0.9582 - val_loss: 1.3278 - val_acc: 0.7940\n",
      "Epoch 8/20\n",
      "7982/7982 [==============================] - 1s 178us/step - loss: 0.0790 - acc: 0.9583 - val_loss: 1.3294 - val_acc: 0.7750\n",
      "Epoch 9/20\n",
      "7982/7982 [==============================] - 1s 180us/step - loss: 0.0831 - acc: 0.9604 - val_loss: 1.3519 - val_acc: 0.7850\n",
      "Epoch 10/20\n",
      "7982/7982 [==============================] - 1s 179us/step - loss: 0.0796 - acc: 0.9573 - val_loss: 1.3331 - val_acc: 0.7860\n",
      "Epoch 11/20\n",
      "7982/7982 [==============================] - 1s 178us/step - loss: 0.0817 - acc: 0.9583 - val_loss: 1.3482 - val_acc: 0.7930\n",
      "Epoch 12/20\n",
      "7982/7982 [==============================] - 1s 180us/step - loss: 0.0773 - acc: 0.9579 - val_loss: 1.3396 - val_acc: 0.7920\n",
      "Epoch 13/20\n",
      "7982/7982 [==============================] - 1s 179us/step - loss: 0.0776 - acc: 0.9595 - val_loss: 1.3980 - val_acc: 0.7800\n",
      "Epoch 14/20\n",
      "7982/7982 [==============================] - 1s 179us/step - loss: 0.0770 - acc: 0.9595 - val_loss: 1.4311 - val_acc: 0.7660\n",
      "Epoch 15/20\n",
      "7982/7982 [==============================] - 1s 179us/step - loss: 0.0796 - acc: 0.9588 - val_loss: 1.3652 - val_acc: 0.7830\n",
      "Epoch 16/20\n",
      "7982/7982 [==============================] - 1s 180us/step - loss: 0.0763 - acc: 0.9567 - val_loss: 1.3696 - val_acc: 0.7860\n",
      "Epoch 17/20\n",
      "7982/7982 [==============================] - 1s 180us/step - loss: 0.0747 - acc: 0.9602 - val_loss: 1.4639 - val_acc: 0.7740\n",
      "Epoch 18/20\n",
      "7982/7982 [==============================] - 2s 198us/step - loss: 0.0783 - acc: 0.9598 - val_loss: 1.3793 - val_acc: 0.7830\n",
      "Epoch 19/20\n",
      "7982/7982 [==============================] - 1s 180us/step - loss: 0.0748 - acc: 0.9585 - val_loss: 1.4203 - val_acc: 0.7800\n",
      "Epoch 20/20\n",
      "7982/7982 [==============================] - 1s 182us/step - loss: 0.0745 - acc: 0.9589 - val_loss: 1.3800 - val_acc: 0.7830\n"
     ]
    }
   ],
   "source": [
    "history = model_reutres.fit(part_x_train,\n",
    "                           part_y_train,\n",
    "                           epochs=20,\n",
    "                           batch_size=512,\n",
    "                           validation_data=(x_val,y_val))"
   ]
  },
  {
   "cell_type": "code",
   "execution_count": 43,
   "metadata": {
    "ExecuteTime": {
     "end_time": "2019-07-01T15:32:00.393056Z",
     "start_time": "2019-07-01T15:32:00.162664Z"
    }
   },
   "outputs": [
    {
     "data": {
      "image/png": "[encoded data removed]",
      "text/plain": [
       "<matplotlib.figure.Figure at 0x24a4ddd3b70>"
      ]
     },
     "metadata": {},
     "output_type": "display_data"
    }
   ],
   "source": [
    "import matplotlib.pyplot as plt\n",
    "\n",
    "history_dict = history.history\n",
    "loss_values = history_dict['loss']\n",
    "val_loss_values = history_dict['val_loss']\n",
    "\n",
    "epochs = range(1,len(loss_values)+1)\n",
    "\n",
    "plt.plot(epochs,loss_values,'bo',label = 'Training loss')# bo 蓝色圆点\n",
    "plt.plot(epochs,val_loss_values,'b',label='Validation loss')#b 蓝色实线\n",
    "plt.title('Training and validation loss')\n",
    "plt.xlabel('Epochs')\n",
    "plt.ylabel('Loss')\n",
    "plt.legend()\n",
    "\n",
    "plt.show()"
   ]
  },
  {
   "cell_type": "code",
   "execution_count": 44,
   "metadata": {
    "ExecuteTime": {
     "end_time": "2019-07-01T15:32:31.094641Z",
     "start_time": "2019-07-01T15:32:30.879180Z"
    }
   },
   "outputs": [
    {
     "data": {
      "image/png": "[encoded data removed]",
      "text/plain": [
       "<matplotlib.figure.Figure at 0x24a55be0320>"
      ]
     },
     "metadata": {},
     "output_type": "display_data"
    }
   ],
   "source": [
    "# 绘制训练精度和验证精度\n",
    "plt.clf()# 清空图像\n",
    "acc= history_dict['acc']\n",
    "val_acc=history_dict['val_acc']\n",
    "\n",
    "plt.plot(epochs,acc,'bo',label = 'Training acc')# bo 蓝色圆点\n",
    "plt.plot(epochs,val_acc,'b',label='Validation acc')#b 蓝色实线\n",
    "plt.title('Training and validation accuracy')\n",
    "plt.xlabel('Epochs')\n",
    "plt.ylabel('Accuracy')\n",
    "plt.legend()\n",
    "\n",
    "plt.show()"
   ]
  },
  {
   "cell_type": "code",
   "execution_count": 45,
   "metadata": {
    "ExecuteTime": {
     "end_time": "2019-07-01T15:38:00.848436Z",
     "start_time": "2019-07-01T15:37:46.555406Z"
    }
   },
   "outputs": [
    {
     "name": "stdout",
     "output_type": "stream",
     "text": [
      "Train on 7982 samples, validate on 1000 samples\n",
      "Epoch 1/9\n",
      "7982/7982 [==============================] - 2s 239us/step - loss: 2.8535 - acc: 0.4022 - val_loss: 1.9506 - val_acc: 0.6340\n",
      "Epoch 2/9\n",
      "7982/7982 [==============================] - 1s 181us/step - loss: 1.5744 - acc: 0.6898 - val_loss: 1.3817 - val_acc: 0.7110\n",
      "Epoch 3/9\n",
      "7982/7982 [==============================] - 1s 181us/step - loss: 1.1286 - acc: 0.7676 - val_loss: 1.1845 - val_acc: 0.7390\n",
      "Epoch 4/9\n",
      "7982/7982 [==============================] - 1s 182us/step - loss: 0.8774 - acc: 0.8226 - val_loss: 1.0474 - val_acc: 0.7810\n",
      "Epoch 5/9\n",
      "7982/7982 [==============================] - 1s 180us/step - loss: 0.6982 - acc: 0.8559 - val_loss: 0.9800 - val_acc: 0.8030\n",
      "Epoch 6/9\n",
      "7982/7982 [==============================] - 1s 184us/step - loss: 0.5531 - acc: 0.8899 - val_loss: 0.9446 - val_acc: 0.7990\n",
      "Epoch 7/9\n",
      "7982/7982 [==============================] - 1s 179us/step - loss: 0.4479 - acc: 0.9100 - val_loss: 0.9432 - val_acc: 0.8090\n",
      "Epoch 8/9\n",
      "7982/7982 [==============================] - 1s 179us/step - loss: 0.3678 - acc: 0.9256 - val_loss: 0.9017 - val_acc: 0.8080\n",
      "Epoch 9/9\n",
      "7982/7982 [==============================] - 1s 180us/step - loss: 0.3041 - acc: 0.9356 - val_loss: 0.9124 - val_acc: 0.8160\n",
      "2246/2246 [==============================] - 0s 177us/step\n"
     ]
    }
   ],
   "source": [
    "# 从头开始重新训练一个模型\n",
    "model_reutres=models.Sequential()\n",
    "model_reutres.add(layers.Dense(64,activation='relu',input_shape=(10000,)))\n",
    "model_reutres.add(layers.Dense(64,activation='relu'))\n",
    "model_reutres.add(layers.Dense(46,activation='softmax'))\n",
    "model_reutres.compile(optimizer='rmsprop',\n",
    "             loss='categorical_crossentropy',\n",
    "             metrics=['accuracy'])\n",
    "model_reutres.fit(part_x_train,part_y_train,epochs=9,batch_size=512,validation_data=(x_val,y_val))\n",
    "results=model_reutres.evaluate(x_test,one_hot_test_labels)"
   ]
  },
  {
   "cell_type": "code",
   "execution_count": 46,
   "metadata": {
    "ExecuteTime": {
     "end_time": "2019-07-01T15:38:00.886334Z",
     "start_time": "2019-07-01T15:38:00.877359Z"
    }
   },
   "outputs": [
    {
     "data": {
      "text/plain": [
       "[0.9764161610964252, 0.7920747996703493]"
      ]
     },
     "execution_count": 46,
     "metadata": {},
     "output_type": "execute_result"
    }
   ],
   "source": [
    "results"
   ]
  },
  {
   "cell_type": "markdown",
   "metadata": {},
   "source": [
    "### 在新数据上生成预测结果"
   ]
  },
  {
   "cell_type": "code",
   "execution_count": 47,
   "metadata": {
    "ExecuteTime": {
     "end_time": "2019-07-01T15:41:18.903244Z",
     "start_time": "2019-07-01T15:41:18.494662Z"
    },
    "collapsed": true
   },
   "outputs": [],
   "source": [
    "predictions = model_reutres.predict(x_test)"
   ]
  },
  {
   "cell_type": "code",
   "execution_count": 48,
   "metadata": {
    "ExecuteTime": {
     "end_time": "2019-07-01T15:41:30.919378Z",
     "start_time": "2019-07-01T15:41:30.914380Z"
    }
   },
   "outputs": [
    {
     "data": {
      "text/plain": [
       "(46,)"
      ]
     },
     "execution_count": 48,
     "metadata": {},
     "output_type": "execute_result"
    }
   ],
   "source": [
    "predictions[0].shape"
   ]
  },
  {
   "cell_type": "code",
   "execution_count": 49,
   "metadata": {
    "ExecuteTime": {
     "end_time": "2019-07-01T15:41:52.463827Z",
     "start_time": "2019-07-01T15:41:52.458815Z"
    }
   },
   "outputs": [
    {
     "data": {
      "text/plain": [
       "0.9999998"
      ]
     },
     "execution_count": 49,
     "metadata": {},
     "output_type": "execute_result"
    }
   ],
   "source": [
    "np.sum(predictions[0])"
   ]
  },
  {
   "cell_type": "code",
   "execution_count": 50,
   "metadata": {
    "ExecuteTime": {
     "end_time": "2019-07-01T15:42:11.147689Z",
     "start_time": "2019-07-01T15:42:11.141712Z"
    }
   },
   "outputs": [
    {
     "data": {
      "text/plain": [
       "3"
      ]
     },
     "execution_count": 50,
     "metadata": {},
     "output_type": "execute_result"
    }
   ],
   "source": [
    "np.argmax(predictions[0])"
   ]
  },
  {
   "cell_type": "markdown",
   "metadata": {},
   "source": [
    "## 预测房价：回归问题"
   ]
  },
  {
   "cell_type": "markdown",
   "metadata": {},
   "source": [
    "### 波士顿房价数据集"
   ]
  },
  {
   "cell_type": "code",
   "execution_count": 54,
   "metadata": {
    "ExecuteTime": {
     "end_time": "2019-07-01T15:50:35.552130Z",
     "start_time": "2019-07-01T15:50:35.545129Z"
    },
    "collapsed": true
   },
   "outputs": [],
   "source": [
    "# 加载房价数据\n",
    "from keras.datasets import boston_housing\n",
    "\n",
    "(train_data,train_targets),(test_data,test_targets) = boston_housing.load_data()"
   ]
  },
  {
   "cell_type": "code",
   "execution_count": 55,
   "metadata": {
    "ExecuteTime": {
     "end_time": "2019-07-01T15:50:36.383137Z",
     "start_time": "2019-07-01T15:50:36.379141Z"
    }
   },
   "outputs": [
    {
     "data": {
      "text/plain": [
       "(404, 13)"
      ]
     },
     "execution_count": 55,
     "metadata": {},
     "output_type": "execute_result"
    }
   ],
   "source": [
    "train_data.shape"
   ]
  },
  {
   "cell_type": "code",
   "execution_count": 56,
   "metadata": {
    "ExecuteTime": {
     "end_time": "2019-07-01T15:50:36.978538Z",
     "start_time": "2019-07-01T15:50:36.973552Z"
    }
   },
   "outputs": [
    {
     "data": {
      "text/plain": [
       "(102, 13)"
      ]
     },
     "execution_count": 56,
     "metadata": {},
     "output_type": "execute_result"
    }
   ],
   "source": [
    "test_data.shape"
   ]
  },
  {
   "cell_type": "code",
   "execution_count": 57,
   "metadata": {
    "ExecuteTime": {
     "end_time": "2019-07-01T15:50:43.017535Z",
     "start_time": "2019-07-01T15:50:43.008532Z"
    }
   },
   "outputs": [
    {
     "data": {
      "text/plain": [
       "array([15.2, 42.3, 50. , 21.1, 17.7, 18.5, 11.3, 15.6, 15.6, 14.4, 12.1,\n",
       "       17.9, 23.1, 19.9, 15.7,  8.8, 50. , 22.5, 24.1, 27.5, 10.9, 30.8,\n",
       "       32.9, 24. , 18.5, 13.3, 22.9, 34.7, 16.6, 17.5, 22.3, 16.1, 14.9,\n",
       "       23.1, 34.9, 25. , 13.9, 13.1, 20.4, 20. , 15.2, 24.7, 22.2, 16.7,\n",
       "       12.7, 15.6, 18.4, 21. , 30.1, 15.1, 18.7,  9.6, 31.5, 24.8, 19.1,\n",
       "       22. , 14.5, 11. , 32. , 29.4, 20.3, 24.4, 14.6, 19.5, 14.1, 14.3,\n",
       "       15.6, 10.5,  6.3, 19.3, 19.3, 13.4, 36.4, 17.8, 13.5, 16.5,  8.3,\n",
       "       14.3, 16. , 13.4, 28.6, 43.5, 20.2, 22. , 23. , 20.7, 12.5, 48.5,\n",
       "       14.6, 13.4, 23.7, 50. , 21.7, 39.8, 38.7, 22.2, 34.9, 22.5, 31.1,\n",
       "       28.7, 46. , 41.7, 21. , 26.6, 15. , 24.4, 13.3, 21.2, 11.7, 21.7,\n",
       "       19.4, 50. , 22.8, 19.7, 24.7, 36.2, 14.2, 18.9, 18.3, 20.6, 24.6,\n",
       "       18.2,  8.7, 44. , 10.4, 13.2, 21.2, 37. , 30.7, 22.9, 20. , 19.3,\n",
       "       31.7, 32. , 23.1, 18.8, 10.9, 50. , 19.6,  5. , 14.4, 19.8, 13.8,\n",
       "       19.6, 23.9, 24.5, 25. , 19.9, 17.2, 24.6, 13.5, 26.6, 21.4, 11.9,\n",
       "       22.6, 19.6,  8.5, 23.7, 23.1, 22.4, 20.5, 23.6, 18.4, 35.2, 23.1,\n",
       "       27.9, 20.6, 23.7, 28. , 13.6, 27.1, 23.6, 20.6, 18.2, 21.7, 17.1,\n",
       "        8.4, 25.3, 13.8, 22.2, 18.4, 20.7, 31.6, 30.5, 20.3,  8.8, 19.2,\n",
       "       19.4, 23.1, 23. , 14.8, 48.8, 22.6, 33.4, 21.1, 13.6, 32.2, 13.1,\n",
       "       23.4, 18.9, 23.9, 11.8, 23.3, 22.8, 19.6, 16.7, 13.4, 22.2, 20.4,\n",
       "       21.8, 26.4, 14.9, 24.1, 23.8, 12.3, 29.1, 21. , 19.5, 23.3, 23.8,\n",
       "       17.8, 11.5, 21.7, 19.9, 25. , 33.4, 28.5, 21.4, 24.3, 27.5, 33.1,\n",
       "       16.2, 23.3, 48.3, 22.9, 22.8, 13.1, 12.7, 22.6, 15. , 15.3, 10.5,\n",
       "       24. , 18.5, 21.7, 19.5, 33.2, 23.2,  5. , 19.1, 12.7, 22.3, 10.2,\n",
       "       13.9, 16.3, 17. , 20.1, 29.9, 17.2, 37.3, 45.4, 17.8, 23.2, 29. ,\n",
       "       22. , 18. , 17.4, 34.6, 20.1, 25. , 15.6, 24.8, 28.2, 21.2, 21.4,\n",
       "       23.8, 31. , 26.2, 17.4, 37.9, 17.5, 20. ,  8.3, 23.9,  8.4, 13.8,\n",
       "        7.2, 11.7, 17.1, 21.6, 50. , 16.1, 20.4, 20.6, 21.4, 20.6, 36.5,\n",
       "        8.5, 24.8, 10.8, 21.9, 17.3, 18.9, 36.2, 14.9, 18.2, 33.3, 21.8,\n",
       "       19.7, 31.6, 24.8, 19.4, 22.8,  7.5, 44.8, 16.8, 18.7, 50. , 50. ,\n",
       "       19.5, 20.1, 50. , 17.2, 20.8, 19.3, 41.3, 20.4, 20.5, 13.8, 16.5,\n",
       "       23.9, 20.6, 31.5, 23.3, 16.8, 14. , 33.8, 36.1, 12.8, 18.3, 18.7,\n",
       "       19.1, 29. , 30.1, 50. , 50. , 22. , 11.9, 37.6, 50. , 22.7, 20.8,\n",
       "       23.5, 27.9, 50. , 19.3, 23.9, 22.6, 15.2, 21.7, 19.2, 43.8, 20.3,\n",
       "       33.2, 19.9, 22.5, 32.7, 22. , 17.1, 19. , 15. , 16.1, 25.1, 23.7,\n",
       "       28.7, 37.2, 22.6, 16.4, 25. , 29.8, 22.1, 17.4, 18.1, 30.3, 17.5,\n",
       "       24.7, 12.6, 26.5, 28.7, 13.3, 10.4, 24.4, 23. , 20. , 17.8,  7. ,\n",
       "       11.8, 24.4, 13.8, 19.4, 25.2, 19.4, 19.4, 29.1])"
      ]
     },
     "execution_count": 57,
     "metadata": {},
     "output_type": "execute_result"
    }
   ],
   "source": [
    "train_targets"
   ]
  },
  {
   "cell_type": "markdown",
   "metadata": {},
   "source": [
    "### 准备数据"
   ]
  },
  {
   "cell_type": "code",
   "execution_count": 58,
   "metadata": {
    "ExecuteTime": {
     "end_time": "2019-07-01T15:53:57.481566Z",
     "start_time": "2019-07-01T15:53:57.473589Z"
    },
    "collapsed": true
   },
   "outputs": [],
   "source": [
    "# 数据标准化\n",
    "mean = train_data.mean(axis=0)\n",
    "train_data -= mean\n",
    "std = train_data.std(axis=0)\n",
    "train_data /= std\n",
    "\n",
    "test_data -= mean\n",
    "test_data /= std"
   ]
  },
  {
   "cell_type": "markdown",
   "metadata": {},
   "source": [
    "### 构建网络"
   ]
  },
  {
   "cell_type": "code",
   "execution_count": 59,
   "metadata": {
    "ExecuteTime": {
     "end_time": "2019-07-01T16:01:50.975962Z",
     "start_time": "2019-07-01T16:01:50.966986Z"
    },
    "collapsed": true
   },
   "outputs": [],
   "source": [
    "# 模型定义\n",
    "def build_model():\n",
    "    model = models.Sequential()\n",
    "    model.add(layers.Dense(64,activation='relu',input_shape = (train_data.shape[1],)))\n",
    "    model.add(layers.Dense(64,activation='relu'))\n",
    "    model.add(layers.Dense(1))\n",
    "    model.compile(optimizer='rmsprop',loss='mse',metrics=['mae'])\n",
    "    return model"
   ]
  },
  {
   "cell_type": "markdown",
   "metadata": {},
   "source": [
    "### 利用K折验证来验证你的方法"
   ]
  },
  {
   "cell_type": "code",
   "execution_count": 60,
   "metadata": {
    "ExecuteTime": {
     "end_time": "2019-07-01T16:13:36.298787Z",
     "start_time": "2019-07-01T16:12:16.443218Z"
    }
   },
   "outputs": [
    {
     "name": "stdout",
     "output_type": "stream",
     "text": [
      "processing fold 0\n",
      "processing fold 1\n",
      "processing fold 2\n",
      "processing fold 3\n"
     ]
    }
   ],
   "source": [
    "# k折验证\n",
    "import numpy as np\n",
    "\n",
    "k=4\n",
    "num_val_samples = len(train_data) // k\n",
    "num_epochs = 100\n",
    "all_scores = []\n",
    "\n",
    "for i in range(k):\n",
    "    print('processing fold {}'.format(i))\n",
    "    val_data = train_data[i*num_val_samples:(i+1)*num_val_samples]\n",
    "    val_targets = train_targets[i*num_val_samples:(i+1)*num_val_samples]\n",
    "    \n",
    "    part_train_data= np.concatenate([train_data[:i*num_val_samples],train_data[(i+1)*num_val_samples:]],axis=0)\n",
    "    part_train_targets= np.concatenate([train_targets[:i*num_val_samples],train_targets[(i+1)*num_val_samples:]],axis=0)\n",
    "    \n",
    "    model_boston = build_model()\n",
    "    model_boston.fit(part_train_data,part_train_targets,epochs=num_epochs,batch_size=1,verbose=0)# 静默模式\n",
    "    val_mse,val_mae=model_boston.evaluate(val_data,val_targets,verbose=0)\n",
    "    all_scores.append(val_mae)"
   ]
  },
  {
   "cell_type": "code",
   "execution_count": 61,
   "metadata": {
    "ExecuteTime": {
     "end_time": "2019-07-01T16:13:36.366567Z",
     "start_time": "2019-07-01T16:13:36.359614Z"
    }
   },
   "outputs": [
    {
     "data": {
      "text/plain": [
       "[2.0893903120909587, 2.282190974396054, 2.899446093209899, 2.3766413986092747]"
      ]
     },
     "execution_count": 61,
     "metadata": {},
     "output_type": "execute_result"
    }
   ],
   "source": [
    "all_scores"
   ]
  },
  {
   "cell_type": "code",
   "execution_count": 62,
   "metadata": {
    "ExecuteTime": {
     "end_time": "2019-07-01T16:13:36.454333Z",
     "start_time": "2019-07-01T16:13:36.448349Z"
    }
   },
   "outputs": [
    {
     "data": {
      "text/plain": [
       "2.4119171945765467"
      ]
     },
     "execution_count": 62,
     "metadata": {},
     "output_type": "execute_result"
    }
   ],
   "source": [
    "np.mean(all_scoresscores)"
   ]
  },
  {
   "cell_type": "code",
   "execution_count": 65,
   "metadata": {
    "ExecuteTime": {
     "end_time": "2019-07-02T00:12:02.052863Z",
     "start_time": "2019-07-02T00:03:43.261195Z"
    }
   },
   "outputs": [
    {
     "name": "stdout",
     "output_type": "stream",
     "text": [
      "processing fold 0\n",
      "processing fold 1\n",
      "processing fold 2\n",
      "processing fold 3\n"
     ]
    }
   ],
   "source": [
    "# 保存每折的验证结果\n",
    "num_epochs = 500\n",
    "all_mae_histories = []\n",
    "\n",
    "for i in range(k):\n",
    "    print('processing fold {}'.format(i))\n",
    "    val_data = train_data[i*num_val_samples:(i+1)*num_val_samples]\n",
    "    val_targets = train_targets[i*num_val_samples:(i+1)*num_val_samples]\n",
    "    \n",
    "    part_train_data= np.concatenate([train_data[:i*num_val_samples],train_data[(i+1)*num_val_samples:]],axis=0)\n",
    "    part_train_targets= np.concatenate([train_targets[:i*num_val_samples],train_targets[(i+1)*num_val_samples:]],axis=0)\n",
    "    \n",
    "    model_boston = build_model()\n",
    "    history = model_boston.fit(part_train_data,part_train_targets,validation_data=(val_data,val_targets),epochs=num_epochs,batch_size=1,verbose=0)\n",
    "    mae_history = history.history['val_mean_absolute_error']\n",
    "    all_mae_histories.append(mae_history)"
   ]
  },
  {
   "cell_type": "code",
   "execution_count": 68,
   "metadata": {
    "ExecuteTime": {
     "end_time": "2019-07-02T00:13:07.173930Z",
     "start_time": "2019-07-02T00:13:07.162926Z"
    },
    "collapsed": true
   },
   "outputs": [],
   "source": [
    "# 计算所有轮次中的k折验证分数平均值\n",
    "average_mae_history =[np.mean([x[i] for x in all_mae_histories]) for i in range(num_epochs)]"
   ]
  },
  {
   "cell_type": "code",
   "execution_count": 69,
   "metadata": {
    "ExecuteTime": {
     "end_time": "2019-07-02T00:13:09.315327Z",
     "start_time": "2019-07-02T00:13:09.162738Z"
    }
   },
   "outputs": [
    {
     "data": {
      "image/png": "[encoded data removed]",
      "text/plain": [
       "<matplotlib.figure.Figure at 0x24a56832780>"
      ]
     },
     "metadata": {},
     "output_type": "display_data"
    }
   ],
   "source": [
    "# 绘制验证分数\n",
    "plt.plot(range(1,len(average_mae_history)+1),average_mae_history)\n",
    "plt.xlabel('Epochs')\n",
    "plt.ylabel('Validation MAE')\n",
    "plt.show()"
   ]
  },
  {
   "cell_type": "code",
   "execution_count": 70,
   "metadata": {
    "ExecuteTime": {
     "end_time": "2019-07-02T00:15:11.892587Z",
     "start_time": "2019-07-02T00:15:11.723042Z"
    }
   },
   "outputs": [
    {
     "data": {
      "image/png": "[encoded data removed]",
      "text/plain": [
       "<matplotlib.figure.Figure at 0x24a64a7b630>"
      ]
     },
     "metadata": {},
     "output_type": "display_data"
    }
   ],
   "source": [
    "# 绘制验证分数（删除前10个数）\n",
    "def smooth_curve(points,factor=0.9):\n",
    "    smoothed_points = []\n",
    "    for point in points:\n",
    "        if smoothed_points:\n",
    "            previous = smoothed_points[-1]\n",
    "            smoothed_points.append(previous*factor+point*(1-factor))\n",
    "        else:\n",
    "            smoothed_points.append(point)\n",
    "    return smoothed_points\n",
    "\n",
    "smooth_mae_history = smooth_curve(average_mae_history[10:])\n",
    "\n",
    "plt.plot(range(1,len(smooth_mae_history)+1),smooth_mae_history)\n",
    "plt.xlabel('Epochs')\n",
    "plt.ylabel('Validation MAE')\n",
    "plt.show()"
   ]
  }
 ],
 "metadata": {
  "kernelspec": {
   "display_name": "Python [conda env:root] *",
   "language": "python",
   "name": "conda-root-py"
  },
  "language_info": {
   "codemirror_mode": {
    "name": "ipython",
    "version": 3
   },
   "file_extension": ".py",
   "mimetype": "text/x-python",
   "name": "python",
   "nbconvert_exporter": "python",
   "pygments_lexer": "ipython3",
   "version": "3.6.2"
  },
  "toc": {
   "base_numbering": 1,
   "nav_menu": {
    "height": "409px",
    "width": "262px"
   },
   "number_sections": true,
   "sideBar": true,
   "skip_h1_title": false,
   "title_cell": "Table of Contents",
   "title_sidebar": "Contents",
   "toc_cell": false,
   "toc_position": {},
   "toc_section_display": true,
   "toc_window_display": true
  },
  "varInspector": {
   "cols": {
    "lenName": 16,
    "lenType": 16,
    "lenVar": 40
   },
   "kernels_config": {
    "python": {
     "delete_cmd_postfix": "",
     "delete_cmd_prefix": "del ",
     "library": "var_list.py",
     "varRefreshCmd": "print(var_dic_list())"
    },
    "r": {
     "delete_cmd_postfix": ") ",
     "delete_cmd_prefix": "rm(",
     "library": "var_list.r",
     "varRefreshCmd": "cat(var_dic_list()) "
    }
   },
   "types_to_exclude": [
    "module",
    "function",
    "builtin_function_or_method",
    "instance",
    "_Feature"
   ],
   "window_display": false
  }
 },
 "nbformat": 4,
 "nbformat_minor": 2
}
